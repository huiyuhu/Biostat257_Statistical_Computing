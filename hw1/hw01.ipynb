{
 "cells": [
  {
   "cell_type": "markdown",
   "metadata": {},
   "source": [
    "# Biostat M280 Homework 1\n",
    "\n",
    "#### Due Apr 27 @ 11:59PM"
   ]
  },
  {
   "cell_type": "markdown",
   "metadata": {},
   "source": [
    "## Q1\n",
    "\n",
    "**No handwritten homework reports are accepted for this course.**  We work with Git/GitHub.  Efficient and abundant use of Git, e.g., **frequent and well-documented** commits, is an important criterion for grading your homework.\n",
    "\n",
    "0. Apply for the [Student Developer Pack](https://education.github.com/pack) at GitHub using your UCLA email.\n",
    "\n",
    "0. Create a **private** repository `biostat-m280-2018-spring` and add `Hua-Zhou` and `LuZhangstat` (TA) as your collaborators.\n",
    "\n",
    "0. Top directories of the repository should be `hw1`, `hw2`, ... Create two branches `master` and `develop`. The `develop` branch will be your main playground, the place where you develop solution (code) to homework problems and write up report. The `master` branch will be your presentation area. Put your homework submission files (IJulia notebook `.ipynb`, html converted from notebook, all code and data set to reproduce results) in `master` branch.  \n",
    "\n",
    "0. After each homework due date, teaching assistant and instructor will check out your `master` branch for grading. Tag each of your homework submissions with tag names `hw1`, `hw2`, ...  Tagging time will be used as your submission time. That means if you tag your hw1 submission after deadline, penalty points will be deducted for late submission.  \n",
    "\n",
    "0. Read the [style guide](https://github.com/johnmyleswhite/Style.jl) for Julia programming by John Myles White. Following rules in the style guide will be strictly enforced when grading: (4), (6), (7), (8), (9), (12), (13) and (16).\n",
    "\n",
    "***  Have done the github setup. Username: huiyuhu ***"
   ]
  },
  {
   "cell_type": "markdown",
   "metadata": {},
   "source": [
    "## Q2\n",
    "\n",
    "Let's check whether floating-point numbers obey certain algebraic rules.  \n",
    "0. Associative rule for addition says `(x + y) + z == x + (y + z)`. Check association rule using `x = 0.1`, `y = 0.1` and `z = 1.0` in Julia. Explain what you find.\n",
    "\n",
    "0. Do floating-point numbers obey the associative rule for multiplication: `(x * y) * z == x * (y * z)`?\n",
    "\n",
    "0. Do floating-point numbers obey the distributive rule: `a * (x + y) == a * x + a * y`?  \n",
    "\n",
    "0. Is `0 * x == 0` true for all floating-point number `x`?  \n",
    "\n",
    "0. Is `x / a == x * (1 / a)` always true?"
   ]
  },
  {
   "cell_type": "code",
   "execution_count": 49,
   "metadata": {},
   "outputs": [
    {
     "data": {
      "text/plain": [
       "false"
      ]
     },
     "execution_count": 49,
     "metadata": {},
     "output_type": "execute_result"
    }
   ],
   "source": [
    "# 1\n",
    "x = 0.1;\n",
    "y = 0.1;\n",
    "z = 1.0;\n",
    "\n",
    "(x + y) + z == x + (y + z)"
   ]
  },
  {
   "cell_type": "code",
   "execution_count": 50,
   "metadata": {},
   "outputs": [
    {
     "data": {
      "text/plain": [
       "1.2"
      ]
     },
     "execution_count": 50,
     "metadata": {},
     "output_type": "execute_result"
    }
   ],
   "source": [
    "(x + y) + z"
   ]
  },
  {
   "cell_type": "code",
   "execution_count": 51,
   "metadata": {},
   "outputs": [
    {
     "data": {
      "text/plain": [
       "1.2000000000000002"
      ]
     },
     "execution_count": 51,
     "metadata": {},
     "output_type": "execute_result"
    }
   ],
   "source": [
    "x + (y + z)"
   ]
  },
  {
   "cell_type": "markdown",
   "metadata": {},
   "source": [
    "* The result showed that the associative rule for addition is not ture. The reason is that x + (y + z) = 1.2000000000000002. Floating point numbers have a fixed length which means that round off errors are common. The bits showed as follow:"
   ]
  },
  {
   "cell_type": "code",
   "execution_count": 52,
   "metadata": {},
   "outputs": [
    {
     "name": "stdout",
     "output_type": "stream",
     "text": [
      "bits(x) = \"0011111110111001100110011001100110011001100110011001100110011010\"\n",
      "bits(y) = \"0011111110111001100110011001100110011001100110011001100110011010\"\n",
      "bits(z) = \"0011111111110000000000000000000000000000000000000000000000000000\"\n",
      "bits(x + y) = \"0011111111001001100110011001100110011001100110011001100110011010\"\n",
      "bits(y + z) = \"0011111111110001100110011001100110011001100110011001100110011010\"\n",
      "bits(x + (y + z)) = \"0011111111110011001100110011001100110011001100110011001100110100\"\n",
      "bits((x + y) + z) = \"0011111111110011001100110011001100110011001100110011001100110011\"\n"
     ]
    },
    {
     "data": {
      "text/plain": [
       "\"0011111111110011001100110011001100110011001100110011001100110011\""
      ]
     },
     "execution_count": 52,
     "metadata": {},
     "output_type": "execute_result"
    }
   ],
   "source": [
    "@show bits(x)  \n",
    "@show bits(y)\n",
    "@show bits(z)\n",
    "@show bits(x + y)\n",
    "@show bits(y + z)\n",
    "@show bits(x + (y + z))\n",
    "@show bits((x + y) + z) #bits are different"
   ]
  },
  {
   "cell_type": "code",
   "execution_count": 61,
   "metadata": {},
   "outputs": [
    {
     "data": {
      "text/plain": [
       "false"
      ]
     },
     "execution_count": 61,
     "metadata": {},
     "output_type": "execute_result"
    }
   ],
   "source": [
    "# 2\n",
    "x = 0.1;\n",
    "y = 0.2;\n",
    "z = 1.3;\n",
    "(x * y) * z == x * (y * z)"
   ]
  },
  {
   "cell_type": "markdown",
   "metadata": {},
   "source": [
    "* Let x = 0.1, y =0.2, z = 0.3, the associative rule for multiplication is false. The bitscode showed as follow: "
   ]
  },
  {
   "cell_type": "code",
   "execution_count": 62,
   "metadata": {},
   "outputs": [
    {
     "name": "stdout",
     "output_type": "stream",
     "text": [
      "bits(x) = \"0011111110111001100110011001100110011001100110011001100110011010\"\n",
      "bits(y) = \"0011111111001001100110011001100110011001100110011001100110011010\"\n",
      "bits(z) = \"0011111111110100110011001100110011001100110011001100110011001101\"\n",
      "bits(x * y) = \"0011111110010100011110101110000101000111101011100001010001111100\"\n",
      "bits(y * z) = \"0011111111010000101000111101011100001010001111010111000010100100\"\n",
      "bits(x * (y * z)) = \"0011111110011010100111111011111001110110110010001011010000111010\"\n",
      "bits((x * y) * z) = \"0011111110011010100111111011111001110110110010001011010000111011\"\n"
     ]
    },
    {
     "data": {
      "text/plain": [
       "\"0011111110011010100111111011111001110110110010001011010000111011\""
      ]
     },
     "execution_count": 62,
     "metadata": {},
     "output_type": "execute_result"
    }
   ],
   "source": [
    "@show bits(x)  \n",
    "@show bits(y)\n",
    "@show bits(z)\n",
    "@show bits(x * y)\n",
    "@show bits(y * z)\n",
    "@show bits(x * (y * z))\n",
    "@show bits((x * y) * z) #bits are different"
   ]
  },
  {
   "cell_type": "code",
   "execution_count": 69,
   "metadata": {},
   "outputs": [
    {
     "data": {
      "text/plain": [
       "false"
      ]
     },
     "execution_count": 69,
     "metadata": {},
     "output_type": "execute_result"
    }
   ],
   "source": [
    "# 3\n",
    "a = 0.000001;\n",
    "a * (x + y) == a * x + a * y"
   ]
  },
  {
   "cell_type": "markdown",
   "metadata": {},
   "source": [
    "* Let a = 0.000001, distributive rule is not true."
   ]
  },
  {
   "cell_type": "code",
   "execution_count": 70,
   "metadata": {},
   "outputs": [
    {
     "name": "stdout",
     "output_type": "stream",
     "text": [
      "bits(a * (x + y)) = \"0011111010010100001000011111010111110100000011011000001101110111\"\n",
      "bits(a * x + a * y) = \"0011111010010100001000011111010111110100000011011000001101110110\"\n"
     ]
    },
    {
     "data": {
      "text/plain": [
       "\"0011111010010100001000011111010111110100000011011000001101110110\""
      ]
     },
     "execution_count": 70,
     "metadata": {},
     "output_type": "execute_result"
    }
   ],
   "source": [
    "@show bits(a * (x + y))\n",
    "@show bits(a * x + a * y) # bits are different"
   ]
  },
  {
   "cell_type": "code",
   "execution_count": 53,
   "metadata": {},
   "outputs": [
    {
     "data": {
      "text/plain": [
       "true"
      ]
     },
     "execution_count": 53,
     "metadata": {},
     "output_type": "execute_result"
    }
   ],
   "source": [
    "# 4\n",
    "0 * x == 0"
   ]
  },
  {
   "cell_type": "code",
   "execution_count": 55,
   "metadata": {},
   "outputs": [
    {
     "name": "stdout",
     "output_type": "stream",
     "text": [
      "0Inf = NaN\n"
     ]
    },
    {
     "data": {
      "text/plain": [
       "NaN"
      ]
     },
     "execution_count": 55,
     "metadata": {},
     "output_type": "execute_result"
    }
   ],
   "source": [
    "0 * Inf == 0\n",
    "@show 0 * Inf"
   ]
  },
  {
   "cell_type": "markdown",
   "metadata": {},
   "source": [
    "* If x is a infinite number, 0 * x is not true."
   ]
  },
  {
   "cell_type": "code",
   "execution_count": 73,
   "metadata": {},
   "outputs": [
    {
     "data": {
      "text/plain": [
       "false"
      ]
     },
     "execution_count": 73,
     "metadata": {},
     "output_type": "execute_result"
    }
   ],
   "source": [
    "# 5 \n",
    "x = 3.0; a = 10.0;\n",
    "x / a == x * (1 / a) # bits are different"
   ]
  },
  {
   "cell_type": "markdown",
   "metadata": {},
   "source": [
    "* Let x = 3.0, a = 10.0, x / a = x * (1 / a) is not true."
   ]
  },
  {
   "cell_type": "code",
   "execution_count": 72,
   "metadata": {},
   "outputs": [
    {
     "name": "stdout",
     "output_type": "stream",
     "text": [
      "bits(x / a) = \"0011111111010011001100110011001100110011001100110011001100110011\"\n",
      "bits(x * (1 / a)) = \"0011111111010011001100110011001100110011001100110011001100110100\"\n"
     ]
    },
    {
     "data": {
      "text/plain": [
       "\"0011111111010011001100110011001100110011001100110011001100110100\""
      ]
     },
     "execution_count": 72,
     "metadata": {},
     "output_type": "execute_result"
    }
   ],
   "source": [
    "@show bits(x / a)\n",
    "@show bits(x * (1 / a)) # bits are different"
   ]
  },
  {
   "cell_type": "markdown",
   "metadata": {},
   "source": [
    "## Q3\n",
    "\n",
    "Consider Julia function\n",
    "```julia\n",
    "function g(k)\n",
    "    for i = 1:10\n",
    "        k = 5k - 1\n",
    "    end\n",
    "    k\n",
    "end\n",
    "```\n",
    "0. Use `@code_llvm` to find the LLVM bitcode of compiled `g` with `Int64` input.   \n",
    "1. Use `@code_llvm` to find the LLVM bitcode of compiled `g` with `Float64` input.  \n",
    "2. Compare the bitcode from questions 1 and 2. What do you find?  \n",
    "3. Read Julia documentation on `@fastmath` and repeat the questions 1-3 on the function  \n",
    "\n",
    "```julia\n",
    "function g_fastmath(k)  \n",
    "    @fastmath for i = 1:10  \n",
    "        k = 5k - 1\n",
    "    end\n",
    "    k\n",
    "end\n",
    "```\n",
    "Explain what does macro `@fastmath` do?"
   ]
  },
  {
   "cell_type": "code",
   "execution_count": 74,
   "metadata": {},
   "outputs": [
    {
     "data": {
      "text/plain": [
       "g (generic function with 1 method)"
      ]
     },
     "execution_count": 74,
     "metadata": {},
     "output_type": "execute_result"
    }
   ],
   "source": [
    "function g(k)\n",
    "    for i = 1:10\n",
    "        k = 5k - 1\n",
    "    end\n",
    "    k\n",
    "end"
   ]
  },
  {
   "cell_type": "markdown",
   "metadata": {},
   "source": [
    "Use 1 as an Int64 input and 1.0 as a Float64 input."
   ]
  },
  {
   "cell_type": "code",
   "execution_count": 77,
   "metadata": {},
   "outputs": [
    {
     "name": "stdout",
     "output_type": "stream",
     "text": [
      "\n",
      "define i64 @julia_g_63201(i64) #0 !dbg !5 {\n",
      "top:\n",
      "  %1 = mul i64 %0, 9765625\n",
      "  %2 = add i64 %1, -2441406\n",
      "  ret i64 %2\n",
      "}\n"
     ]
    }
   ],
   "source": [
    "@code_llvm g(1)"
   ]
  },
  {
   "cell_type": "code",
   "execution_count": 78,
   "metadata": {},
   "outputs": [
    {
     "name": "stdout",
     "output_type": "stream",
     "text": [
      "\n",
      "define double @julia_g_63203(double) #0 !dbg !5 {\n",
      "top:\n",
      "  %1 = fmul double %0, 5.000000e+00\n",
      "  %2 = fadd double %1, -1.000000e+00\n",
      "  %3 = fmul double %2, 5.000000e+00\n",
      "  %4 = fadd double %3, -1.000000e+00\n",
      "  %5 = fmul double %4, 5.000000e+00\n",
      "  %6 = fadd double %5, -1.000000e+00\n",
      "  %7 = fmul double %6, 5.000000e+00\n",
      "  %8 = fadd double %7, -1.000000e+00\n",
      "  %9 = fmul double %8, 5.000000e+00\n",
      "  %10 = fadd double %9, -1.000000e+00\n",
      "  %11 = fmul double %10, 5.000000e+00\n",
      "  %12 = fadd double %11, -1.000000e+00\n",
      "  %13 = fmul double %12, 5.000000e+00\n",
      "  %14 = fadd double %13, -1.000000e+00\n",
      "  %15 = fmul double %14, 5.000000e+00\n",
      "  %16 = fadd double %15, -1.000000e+00\n",
      "  %17 = fmul double %16, 5.000000e+00\n",
      "  %18 = fadd double %17, -1.000000e+00\n",
      "  %19 = fmul double %18, 5.000000e+00\n",
      "  %20 = fadd double %19, -1.000000e+00\n",
      "  ret double %20\n",
      "}\n"
     ]
    }
   ],
   "source": [
    "@code_llvm g(1.0)"
   ]
  },
  {
   "cell_type": "code",
   "execution_count": 79,
   "metadata": {},
   "outputs": [
    {
     "data": {
      "text/plain": [
       "g_fastmath (generic function with 1 method)"
      ]
     },
     "execution_count": 79,
     "metadata": {},
     "output_type": "execute_result"
    }
   ],
   "source": [
    "function g_fastmath(k)  \n",
    "    @fastmath for i = 1:10  \n",
    "        k = 5k - 1\n",
    "    end\n",
    "    k\n",
    "end"
   ]
  },
  {
   "cell_type": "code",
   "execution_count": 82,
   "metadata": {},
   "outputs": [
    {
     "name": "stdout",
     "output_type": "stream",
     "text": [
      "\n",
      "define i64 @julia_g_fastmath_63226(i64) #0 !dbg !5 {\n",
      "top:\n",
      "  %1 = mul i64 %0, 9765625\n",
      "  %2 = add i64 %1, -2441406\n",
      "  ret i64 %2\n",
      "}\n"
     ]
    }
   ],
   "source": [
    "@code_llvm g_fastmath(1)"
   ]
  },
  {
   "cell_type": "code",
   "execution_count": 83,
   "metadata": {},
   "outputs": [
    {
     "name": "stdout",
     "output_type": "stream",
     "text": [
      "\n",
      "define double @julia_g_fastmath_63227(double) #0 !dbg !5 {\n",
      "top:\n",
      "  %1 = fmul fast double %0, 9.765625e+06\n",
      "  %2 = fadd fast double %1, -2.441406e+06\n",
      "  ret double %2\n",
      "}\n"
     ]
    }
   ],
   "source": [
    "@code_llvm g_fastmath(1.0)"
   ]
  },
  {
   "cell_type": "markdown",
   "metadata": {},
   "source": [
    "## Q4\n",
    "\n",
    "Create the vector `x = (0.988, 0.989, 0.990, ..., 1.010, 1.011, 1.012)`.  \n",
    "0. Plot the polynomial `y = x^7 - 7x^6 + 21x^5 - 35x^4 + 35x^3 - 21x^2 + 7x -1` at points `x`.  \n",
    "\n",
    "1. Plot the polynomial `y = (x - 1)^7` at points `x`.  \n",
    "\n",
    "2. Explain what you found."
   ]
  },
  {
   "cell_type": "code",
   "execution_count": 93,
   "metadata": {},
   "outputs": [],
   "source": [
    "#Install package\n",
    "#Pkg.add(\"Plots\")\n",
    "#Pkg.add(\"PyPlot\")"
   ]
  },
  {
   "cell_type": "code",
   "execution_count": 94,
   "metadata": {},
   "outputs": [
    {
     "name": "stdout",
     "output_type": "stream",
     "text": [
      "if !Plots.is_installed(\"PyPlot\")\n",
      "    Pkg.add(\"PyPlot\")\n",
      "end\n",
      "withenv(\"PYTHON\" => \"\") do\n",
      "    Pkg.build(\"PyPlot\")\n",
      "end\n",
      "\n",
      "# now restart julia!\n",
      "\n",
      "\n"
     ]
    },
    {
     "name": "stderr",
     "output_type": "stream",
     "text": [
      "\u001b[1m\u001b[33mWARNING: \u001b[39m\u001b[22m\u001b[33mCouldn't initialize pyplot.  (might need to install it?)\u001b[39m\n",
      "\u001b[1m\u001b[36mINFO: \u001b[39m\u001b[22m\u001b[36mTo do a standard install of pyplot, copy and run this:\n",
      "\n",
      "\u001b[39m"
     ]
    },
    {
     "ename": "LoadError",
     "evalue": "\u001b[91mArgumentError: Module PyPlot not found in current path.\nRun `Pkg.add(\"PyPlot\")` to install the PyPlot package.\u001b[39m",
     "output_type": "error",
     "traceback": [
      "\u001b[91mArgumentError: Module PyPlot not found in current path.\nRun `Pkg.add(\"PyPlot\")` to install the PyPlot package.\u001b[39m",
      ""
     ]
    }
   ],
   "source": [
    "# Creat the vector x\n",
    "x = 0.988:0.002:1.012; \n",
    "y1 = x.^7 - 7x.^6 + 21x.^5 - 35x.^4 + 35x.^3 - 21x.^2 + 7x - 1;\n",
    "using Plots\n",
    "pyplot()\n",
    "\n",
    "plot(x, y1)"
   ]
  },
  {
   "cell_type": "markdown",
   "metadata": {},
   "source": [
    "## Q5\n",
    "\n",
    "Let the $n \\times n$ matrix `H` have elements `H[i, j] = 1 / (i + j - 1)`.  \n",
    "0. Write a function `h(n)` that outputs $n \\times n$ matrix `H`. Try at least 3 ways, e.g., looping, [comprehension](https://docs.julialang.org/en/stable/manual/arrays/#Comprehensions-1), and vectorization. Compute and print `H` for `n = 5`.   \n",
    "0. Compare their efficiencies at `n = 1000`.\n",
    "0. Try different rounding modes (use function `setrounding(Float64, RoundingMode)`) and report the entry `inv(H)[1, 1]` for `n = 15`."
   ]
  },
  {
   "cell_type": "markdown",
   "metadata": {},
   "source": [
    "## Q6\n",
    "\n",
    "0. Show the **Sherman-Morrison formula**\n",
    "$$\n",
    "\t(\\mathbf{A} + \\mathbf{u} \\mathbf{u}^T)^{-1} = \\mathbf{A}^{-1} - \\frac{1}{1 + \\mathbf{u}^T \\mathbf{A}^{-1} \\mathbf{u}} \\mathbf{A}^{-1} \\mathbf{u} \\mathbf{u}^T \\mathbf{A}^{-1},\n",
    "$$\n",
    "where $\\mathbf{A} \\in \\mathbb{R}^{n \\times n}$ is nonsingular and $\\mathbf{u} \\in \\mathbb{R}^n$. This formula supplies the inverse of the symmetric, rank-one  perturbation of $\\mathbf{A}$.\n",
    "\n",
    "0. Show the **Woodbury formula**\n",
    "$$\n",
    "\t(\\mathbf{A} + \\mathbf{U} \\mathbf{V}^T)^{-1} = \\mathbf{A}^{-1} - \\mathbf{A}^{-1} \\mathbf{U} (\\mathbf{I}_m + \\mathbf{V}^T \\mathbf{A}^{-1} \\mathbf{U})^{-1} \\mathbf{V}^T \\mathbf{A}^{-1},\n",
    "$$\n",
    "where $\\mathbf{A} \\in \\mathbb{R}^{n \\times n}$ is nonsingular, $\\mathbf{U}, \\mathbf{V} \\in \\mathbb{R}^{n \\times m}$, and $\\mathbf{I}_m$ is the $m \\times m$ identity matrix. In many applications $m$ is much smaller than $n$. Woodbury formula generalizes Sherman-Morrison and is valuable because the smaller matrix $\\mathbf{I}_m + \\mathbf{V}^T \\mathbf{A}^{-1} \\mathbf{U}$ is cheaper to invert than the larger matrix $\\mathbf{A} + \\mathbf{U} \\mathbf{V}^T$.\n",
    "\n",
    "0. Show the **binomial inversion formula**\n",
    "$$\n",
    "\t(\\mathbf{A} + \\mathbf{U} \\mathbf{B} \\mathbf{V}^T)^{-1} = \\mathbf{A}^{-1} - \\mathbf{A}^{-1} \\mathbf{U} (\\mathbf{B}^{-1} + \\mathbf{V}^T \\mathbf{A}^{-1} \\mathbf{U})^{-1} \\mathbf{V}^T \\mathbf{A}^{-1},\n",
    "$$\n",
    "where $\\mathbf{A}$ and $\\mathbf{B}$ are nonsingular.\n",
    "\n",
    "0. Show the identity\n",
    "$$\n",
    "\t\\text{det}(\\mathbf{A} + \\mathbf{U} \\mathbf{V}^T) = \\text{det}(\\mathbf{A}) \\text{det}(\\mathbf{I}_m + \\mathbf{V}^T \\mathbf{A}^{-1} \\mathbf{U}).\n",
    "$$\n",
    "This formula is useful for evaluating the density of a multivariate normal with covariance matrix $\\mathbf{A} + \\mathbf{U} \\mathbf{V}^T$."
   ]
  }
 ],
 "metadata": {
  "kernelspec": {
   "display_name": "Julia 0.6.2",
   "language": "julia",
   "name": "julia-0.6"
  },
  "language_info": {
   "file_extension": ".jl",
   "mimetype": "application/julia",
   "name": "julia",
   "version": "0.6.2"
  },
  "toc": {
   "colors": {
    "hover_highlight": "#DAA520",
    "running_highlight": "#FF0000",
    "selected_highlight": "#FFD700"
   },
   "moveMenuLeft": true,
   "nav_menu": {
    "height": "153px",
    "width": "252px"
   },
   "navigate_menu": true,
   "number_sections": false,
   "sideBar": true,
   "threshold": 4,
   "toc_cell": false,
   "toc_section_display": "block",
   "toc_window_display": true,
   "widenNotebook": false
  }
 },
 "nbformat": 4,
 "nbformat_minor": 2
}
