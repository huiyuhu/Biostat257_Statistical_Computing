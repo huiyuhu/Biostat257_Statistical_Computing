{
 "cells": [
  {
   "cell_type": "markdown",
   "metadata": {},
   "source": [
    "# Biostat M280 Homework 3\n",
    "\n",
    "**Due Friday, May 25 @ 11:59PM**"
   ]
  },
  {
   "cell_type": "markdown",
   "metadata": {},
   "source": [
    "## Q1 - Big $n$ regression\n",
    "\n",
    "Those who took my _203B: Introduction to Data Science_ last quarter had a (painful) experience of wrangling an Apache Spark cluster to do linear regression on a dataset with more than 100 million observations. Now we learnt various methods for solving linear regression and should realize that, with right choice of algorithm, it is a problem that can be handled by any moderate computer."
   ]
  },
  {
   "cell_type": "markdown",
   "metadata": {},
   "source": [
    "### Q1(1)\n",
    "\n",
    "Download the flight data from <http://stat-computing.org/dataexpo/2009/the-data.html>. For this exercise, we only need data from years 2003-2008. If you are using Mac or Linux, you can run the following Bash script, which downloads and unzips files for all years.\n",
    "```bash\n",
    "# Download flight data by year\n",
    "for i in {1987..2008}\n",
    "  do\n",
    "    echo \"$(date) $i Download\"\n",
    "    fnam=$i.csv.bz2\n",
    "    wget -O ./$fnam http://stat-computing.org/dataexpo/2009/$fnam\n",
    "    echo \"$(date) $i unzip\"\n",
    "    bzip2 -d ./$fnam\n",
    "  done\n",
    "\n",
    "# Download airline carrier data\n",
    "wget -O ./airlines.csv http://www.transtats.bts.gov/Download_Lookup.asp?Lookup=L_UNIQUE_CARRIERS\n",
    "\n",
    "# Download airports data\n",
    "wget -O ./airports.csv https://raw.githubusercontent.com/jpatokal/openflights/master/data/airports.dat\n",
    "```\n",
    "Find out how many data points in each year."
   ]
  },
  {
   "cell_type": "code",
   "execution_count": 1,
   "metadata": {},
   "outputs": [
    {
     "name": "stdout",
     "output_type": "stream",
     "text": [
      "i = 2003\n",
      "countlines(file) = 6488541\n",
      "i = 2004\n",
      "countlines(file) = 7129271\n",
      "i = 2005\n",
      "countlines(file) = 7140597\n",
      "i = 2006\n",
      "countlines(file) = 7141923\n",
      "i = 2007\n",
      "countlines(file) = 7453216\n",
      "i = 2008\n",
      "countlines(file) = 7009729\n"
     ]
    }
   ],
   "source": [
    "# how many data points\n",
    "for i in 2003:2008\n",
    "    file = \"$i.csv\"\n",
    "    @show i\n",
    "    @show countlines(file)\n",
    "end"
   ]
  },
  {
   "cell_type": "markdown",
   "metadata": {},
   "source": [
    "### Q1(2) \n",
    "\n",
    "We are interested in how the time gain of a flight, defined as `DepDelay - ArrDelay`, depends on the distance traveled (`Distance`), departure delay (`DepDelay`), and carrier (`UniqueCarrier`). \n",
    "\n",
    "We want to fit a linear regression `Gain ~ 1 + Distance + DepDelay + UniqueCarrier` using data from 2003-2008. Note `UniqueCarrier` is a factor with 23 levels: \"9E\", \"AA\", \"AQ\", \"AS\", \"B6\", \"CO\", \"DH\", \"DL\", \"EV\", \"F9\", \"FL\", \"HA\", \"HP\", \"MQ\", \"NW\", \"OH\", \"OO\", \"TZ\", \"UA\", \"US\", \"WN\", \"XE\", and \"YV\". We use the dummy coding with \"9E\" as base level.\n",
    "\n",
    "Will the design matrix (in double precision) fit into the memory of you computer?"
   ]
  },
  {
   "cell_type": "code",
   "execution_count": 4,
   "metadata": {},
   "outputs": [
    {
     "name": "stderr",
     "output_type": "stream",
     "text": [
      "WARNING: redefining constant var2col\n",
      "WARNING: redefining constant col2var\n"
     ]
    },
    {
     "data": {
      "text/plain": [
       "generate_xy (generic function with 1 method)"
      ]
     },
     "execution_count": 4,
     "metadata": {},
     "output_type": "execute_result"
    }
   ],
   "source": [
    "# mapping from variable names to X columns\n",
    "# carrier \"9E\" is used as base level\n",
    "const var2col = Dict(\n",
    "        \"Intercept\" => 1,\n",
    "        \"Distance\" => 2,\n",
    "        \"DepDelay\" => 3,\n",
    "        \"AA\" => 4,\n",
    "        \"AQ\" => 5,\n",
    "        \"AS\" => 6,\n",
    "        \"B6\" => 7,\n",
    "        \"CO\" => 8,\n",
    "        \"DH\" => 9,\n",
    "        \"DL\" => 10,\n",
    "        \"EV\" => 11,\n",
    "        \"F9\" => 12,\n",
    "        \"FL\" => 13,\n",
    "        \"HA\" => 14,\n",
    "        \"HP\" => 15,\n",
    "        \"MQ\" => 16,\n",
    "        \"NW\" => 17,\n",
    "        \"OH\" => 18,\n",
    "        \"OO\" => 19,\n",
    "        \"TZ\" => 20,\n",
    "        \"UA\" => 21,\n",
    "        \"US\" => 22,\n",
    "        \"WN\" => 23,\n",
    "        \"XE\" => 24,\n",
    "        \"YV\" => 25,\n",
    "        \"Gain\" => 26)\n",
    "# mapping from column to variable names\n",
    "const col2var = map(reverse, var2col)\n",
    "\n",
    "# a custom function to generate [X y] from data table\n",
    "function generate_xy(tbl)\n",
    "    # X matrix\n",
    "    XY = zeros(length(tbl), 26)\n",
    "    # intercept term\n",
    "    @views fill!(XY[:, 1], 1)\n",
    "    # Distance term\n",
    "    @views copy!(XY[:, 2], columns(tbl, :Distance))\n",
    "    # DepDelay term\n",
    "    @views copy!(XY[:, 3], columns(tbl, :DepDelay))\n",
    "    # Dummy coding for airline\n",
    "    @inbounds for i in 1:length(tbl)\n",
    "        tbl[i][:UniqueCarrier] == \"9E\" && continue # base level\n",
    "        XY[i, var2col[tbl[i][:UniqueCarrier]]] = 1\n",
    "    end\n",
    "    # last column is response: gain = depdelay - arrdelay\n",
    "    XY[:, 26] = select(tbl, \n",
    "        (:DepDelay, :ArrDelay) => p -> Float64(p.DepDelay - p.ArrDelay))\n",
    "    # return\n",
    "    XY\n",
    "end"
   ]
  },
  {
   "cell_type": "markdown",
   "metadata": {},
   "source": [
    "* The whole data will occupy too much memory. "
   ]
  },
  {
   "cell_type": "markdown",
   "metadata": {},
   "source": [
    "### Q1(3)\n",
    "\n",
    "Review the [Summary of Linear Regression](http://hua-zhou.github.io/teaching/biostatm280-2018spring/slides/12-linreg/linreg.html) and devise a strategy to solve the linear regression.\n",
    "\n",
    "Report the estimated regression coefficients $\\widehat \\beta$, estimated variance $\\widehat \\sigma^2 = \\sum_i (y_i - \\widehat y_i)^2 / (n - 1)$, and coefficient standard errors.\n",
    "\n",
    "Hint: It took my laptop less than 3 minutes to import data and fit linear regression."
   ]
  },
  {
   "cell_type": "code",
   "execution_count": 5,
   "metadata": {},
   "outputs": [
    {
     "data": {
      "text/plain": [
       "sumXy (generic function with 1 method)"
      ]
     },
     "execution_count": 5,
     "metadata": {},
     "output_type": "execute_result"
    }
   ],
   "source": [
    "#Pkg.add(\"JuliaDB\")\n",
    "using JuliaDB\n",
    "using SweepOperator\n",
    "function sumXy(year1, year2)\n",
    "    sumxx = zeros(25, 25)\n",
    "    sumxy = zeros(25, 1)\n",
    "    sumyy = 0\n",
    "    for i in year1: year2\n",
    "        file = \"$i.csv\"\n",
    "        yrtable = loadtable(\n",
    "            file, \n",
    "        datacols = [\"DepDelay\", \"ArrDelay\", \"UniqueCarrier\", \"Distance\"])\n",
    "        yrtable = dropna(yrtable)\n",
    "        xy = generate_xy(yrtable)\n",
    "        X = xy[:, 1:25]\n",
    "        y = xy[:, 26]\n",
    "        x_x = At_mul_B(X, X)\n",
    "        x_y = At_mul_B(X, y)\n",
    "        y_y = At_mul_B(y, y)\n",
    "        sumxx = sumxx + x_x\n",
    "        sumxy = sumxy + x_y\n",
    "        sumyy = sumyy + y_y        \n",
    "    end\n",
    "    G = [sumxx sumxy; sumxy' sumyy]\n",
    "    tableau = sweep!(G, 1:25)\n",
    "    return tableau[1:25, end]\n",
    "end"
   ]
  },
  {
   "cell_type": "code",
   "execution_count": 6,
   "metadata": {},
   "outputs": [
    {
     "name": "stdout",
     "output_type": "stream",
     "text": [
      "498.697234 seconds (494.17 M allocations: 55.035 GiB, 14.40% gc time)\n"
     ]
    },
    {
     "data": {
      "text/plain": [
       "25-element Array{Float64,1}:\n",
       "  1.14033   \n",
       "  0.00164935\n",
       " -0.0118811 \n",
       " -1.8723    \n",
       " -0.5789    \n",
       " -0.938452  \n",
       " -1.42247   \n",
       " -2.57627   \n",
       "  1.16808   \n",
       " -2.19625   \n",
       "  1.03932   \n",
       " -2.15207   \n",
       " -1.35247   \n",
       " -1.87248   \n",
       " -0.350758  \n",
       " -1.46395   \n",
       " -3.62506   \n",
       " -0.00722279\n",
       " -0.40365   \n",
       " -3.5774    \n",
       " -1.14816   \n",
       " -0.883753  \n",
       "  2.74855   \n",
       " -2.56721   \n",
       " -0.202211  "
      ]
     },
     "execution_count": 6,
     "metadata": {},
     "output_type": "execute_result"
    }
   ],
   "source": [
    "@time sweepmatrix = sumXy(2003, 2008)"
   ]
  },
  {
   "cell_type": "markdown",
   "metadata": {},
   "source": [
    "* Another method: "
   ]
  },
  {
   "cell_type": "code",
   "execution_count": 7,
   "metadata": {},
   "outputs": [
    {
     "data": {
      "text/plain": [
       "sumXy1 (generic function with 1 method)"
      ]
     },
     "execution_count": 7,
     "metadata": {},
     "output_type": "execute_result"
    }
   ],
   "source": [
    "using JuliaDB\n",
    "using SweepOperator\n",
    "function sumXy1(year1, year2)\n",
    "    sumxx = zeros(25, 25)\n",
    "    sumxy = zeros(25, 1)\n",
    "    sumyy = 0\n",
    "    for i in year1: year2\n",
    "        file = \"$i.csv\"\n",
    "        yrtable = loadtable(\n",
    "            file, \n",
    "        datacols = [\"DepDelay\", \"ArrDelay\", \"UniqueCarrier\", \"Distance\"])\n",
    "        yrtable = dropna(yrtable)\n",
    "        xy = generate_xy(yrtable)\n",
    "        X = xy[:, 1:25]\n",
    "        y = xy[:, 26]\n",
    "        x_x = At_mul_B(X, X)\n",
    "        x_y = At_mul_B(X, y)\n",
    "        y_y = At_mul_B(y, y)\n",
    "        sumxx = sumxx + x_x\n",
    "        sumxy = sumxy + x_y\n",
    "        sumyy = sumyy + y_y        \n",
    "    end\n",
    "    beta = inv(sumxx) * sumxy\n",
    "    return sumxx, sumxy, sumyy, beta\n",
    "end"
   ]
  },
  {
   "cell_type": "code",
   "execution_count": 8,
   "metadata": {},
   "outputs": [
    {
     "name": "stdout",
     "output_type": "stream",
     "text": [
      "524.482487 seconds (481.32 M allocations: 54.208 GiB, 17.13% gc time)\n"
     ]
    },
    {
     "data": {
      "text/plain": [
       "([4.14904e7 3.00028e10 … 2.29046e6 822290.0; 3.00028e10 3.51353e13 … 1.23256e9 3.27927e8; … ; 2.29046e6 1.23256e9 … 2.29046e6 0.0; 822290.0 3.27927e8 … 0.0 822290.0], [6.0236e7; 5.75882e10; … ; -1.46404e6; 1.18638e6], 8.723124423e9, [1.14033; 0.00164935; … ; -2.56721; -0.202211])"
      ]
     },
     "execution_count": 8,
     "metadata": {},
     "output_type": "execute_result"
    }
   ],
   "source": [
    "@time sumxx, sumxy, sumyy, beta = sumXy1(2003, 2008)"
   ]
  },
  {
   "cell_type": "code",
   "execution_count": 9,
   "metadata": {},
   "outputs": [
    {
     "data": {
      "text/plain": [
       "25×1 Array{Float64,2}:\n",
       "  1.14033   \n",
       "  0.00164935\n",
       " -0.0118811 \n",
       " -1.8723    \n",
       " -0.5789    \n",
       " -0.938452  \n",
       " -1.42247   \n",
       " -2.57627   \n",
       "  1.16808   \n",
       " -2.19625   \n",
       "  1.03932   \n",
       " -2.15207   \n",
       " -1.35247   \n",
       " -1.87248   \n",
       " -0.350758  \n",
       " -1.46395   \n",
       " -3.62506   \n",
       " -0.00722279\n",
       " -0.40365   \n",
       " -3.5774    \n",
       " -1.14816   \n",
       " -0.883753  \n",
       "  2.74855   \n",
       " -2.56721   \n",
       " -0.202211  "
      ]
     },
     "execution_count": 9,
     "metadata": {},
     "output_type": "execute_result"
    }
   ],
   "source": [
    "inv(sumxx) * sumxy"
   ]
  },
  {
   "cell_type": "markdown",
   "metadata": {},
   "source": [
    "* The results of beta are same."
   ]
  },
  {
   "cell_type": "markdown",
   "metadata": {},
   "source": [
    "### Q1(4)\n",
    "\n",
    "Go to your resume/cv and claim you have experience performing analytics on data with hundred millions of observations."
   ]
  },
  {
   "cell_type": "markdown",
   "metadata": {},
   "source": [
    "* Done :)"
   ]
  },
  {
   "cell_type": "markdown",
   "metadata": {},
   "source": [
    "### Sample code\n",
    "\n",
    "Following code explores the data in 2003 and generates the design matrix and responses for that year. Feel free to use the code in your solution."
   ]
  },
  {
   "cell_type": "code",
   "execution_count": 1,
   "metadata": {},
   "outputs": [
    {
     "name": "stdout",
     "output_type": "stream",
     "text": [
      "Year,Month,DayofMonth,DayOfWeek,DepTime,CRSDepTime,ArrTime,CRSArrTime,UniqueCarrier,FlightNum,TailNum,ActualElapsedTime,CRSElapsedTime,AirTime,ArrDelay,DepDelay,Origin,Dest,Distance,TaxiIn,TaxiOut,Cancelled,CancellationCode,Diverted,CarrierDelay,WeatherDelay,NASDelay,SecurityDelay,LateAircraftDelay\n",
      "2003,1,29,3,1651,1655,1912,1913,UA,1017,N202UA,141,138,119,-1,-4,ORD,MSY,837,5,17,0,NA,0,NA,NA,NA,NA,NA\n",
      "2003,1,30,4,1654,1655,1910,1913,UA,1017,N311UA,136,138,108,-3,-1,ORD,MSY,837,2,26,0,NA,0,NA,NA,NA,NA,NA\n",
      "2003,1,31,5,1724,1655,1936,1913,UA,1017,N317UA,132,138,110,23,29,ORD,MSY,837,5,17,0,NA,0,NA,NA,NA,NA,NA\n",
      "2003,1,1,3,1033,1035,1625,1634,UA,1018,N409UA,232,239,215,-9,-2,OAK,ORD,1835,6,11,0,NA,0,NA,NA,NA,NA,NA\n",
      "2003,1,2,4,1053,1035,1726,1634,UA,1018,N496UA,273,239,214,52,18,OAK,ORD,1835,13,46,0,NA,0,NA,NA,NA,NA,NA\n",
      "2003,1,3,5,1031,1035,1640,1634,UA,1018,N412UA,249,239,223,6,-4,OAK,ORD,1835,13,13,0,NA,0,NA,NA,NA,NA,NA\n",
      "2003,1,4,6,1031,1035,1626,1634,UA,1018,N455UA,235,239,219,-8,-4,OAK,ORD,1835,5,11,0,NA,0,NA,NA,NA,NA,NA\n",
      "2003,1,5,7,1035,1035,1636,1634,UA,1018,N828UA,241,239,227,2,0,OAK,ORD,1835,5,9,0,NA,0,NA,NA,NA,NA,NA\n",
      "2003,1,6,1,1031,1035,1653,1634,UA,1018,N453UA,262,239,241,19,-4,OAK,ORD,1835,7,14,0,NA,0,NA,NA,NA,NA,NA\n"
     ]
    }
   ],
   "source": [
    ";head 2003.csv"
   ]
  },
  {
   "cell_type": "code",
   "execution_count": 2,
   "metadata": {},
   "outputs": [
    {
     "data": {
      "text/plain": [
       "6488541"
      ]
     },
     "execution_count": 2,
     "metadata": {},
     "output_type": "execute_result"
    }
   ],
   "source": [
    "# how many data points\n",
    "countlines(\"2003.csv\")"
   ]
  },
  {
   "cell_type": "code",
   "execution_count": 3,
   "metadata": {},
   "outputs": [
    {
     "name": "stdout",
     "output_type": "stream",
     "text": [
      " 47.277701 seconds (153.71 M allocations: 8.170 GiB, 27.08% gc time)\n"
     ]
    },
    {
     "data": {
      "text/plain": [
       "Table with 6488540 rows, 4 columns:\n",
       "DepDelay  ArrDelay  UniqueCarrier  Distance\n",
       "───────────────────────────────────────────\n",
       "-4        -1        \"UA\"           837\n",
       "-1        -3        \"UA\"           837\n",
       "29        23        \"UA\"           837\n",
       "-2        -9        \"UA\"           1835\n",
       "18        52        \"UA\"           1835\n",
       "-4        6         \"UA\"           1835\n",
       "-4        -8        \"UA\"           1835\n",
       "0         2         \"UA\"           1835\n",
       "-4        19        \"UA\"           1835\n",
       "3         4         \"UA\"           413\n",
       "-4        -23       \"UA\"           413\n",
       "-3        -19       \"UA\"           413\n",
       "⋮\n",
       "#NA       #NA       \"DL\"           1891\n",
       "29        62        \"DL\"           581\n",
       "39        66        \"DL\"           1891\n",
       "26        27        \"DL\"           1678\n",
       "114       134       \"DL\"           946\n",
       "44        53        \"DL\"           813\n",
       "16        47        \"DL\"           432\n",
       "50        54        \"DL\"           432\n",
       "-3        -5        \"DL\"           453\n",
       "3         3         \"DL\"           689\n",
       "-1        -1        \"DL\"           1929"
      ]
     },
     "execution_count": 3,
     "metadata": {},
     "output_type": "execute_result"
    }
   ],
   "source": [
    "# import data from csv\n",
    "using JuliaDB\n",
    "# only need columns: DepDelay, ArrDelay, UniqueCarrier, Distance\n",
    "@time yrtable = loadtable(\n",
    "    \"2003.csv\", \n",
    "    datacols = [\"DepDelay\", \"ArrDelay\", \"UniqueCarrier\", \"Distance\"])"
   ]
  },
  {
   "cell_type": "code",
   "execution_count": 4,
   "metadata": {},
   "outputs": [
    {
     "data": {
      "text/plain": [
       "Table with 6375689 rows, 4 columns:\n",
       "DepDelay  ArrDelay  UniqueCarrier  Distance\n",
       "───────────────────────────────────────────\n",
       "-4        -1        \"UA\"           837\n",
       "-1        -3        \"UA\"           837\n",
       "29        23        \"UA\"           837\n",
       "-2        -9        \"UA\"           1835\n",
       "18        52        \"UA\"           1835\n",
       "-4        6         \"UA\"           1835\n",
       "-4        -8        \"UA\"           1835\n",
       "0         2         \"UA\"           1835\n",
       "-4        19        \"UA\"           1835\n",
       "3         4         \"UA\"           413\n",
       "-4        -23       \"UA\"           413\n",
       "-3        -19       \"UA\"           413\n",
       "⋮\n",
       "70        66        \"DL\"           1891\n",
       "29        62        \"DL\"           581\n",
       "39        66        \"DL\"           1891\n",
       "26        27        \"DL\"           1678\n",
       "114       134       \"DL\"           946\n",
       "44        53        \"DL\"           813\n",
       "16        47        \"DL\"           432\n",
       "50        54        \"DL\"           432\n",
       "-3        -5        \"DL\"           453\n",
       "3         3         \"DL\"           689\n",
       "-1        -1        \"DL\"           1929"
      ]
     },
     "execution_count": 4,
     "metadata": {},
     "output_type": "execute_result"
    }
   ],
   "source": [
    "# drop rows with missing values\n",
    "yrtable = dropna(yrtable)"
   ]
  },
  {
   "cell_type": "code",
   "execution_count": 26,
   "metadata": {},
   "outputs": [
    {
     "name": "stderr",
     "output_type": "stream",
     "text": [
      "WARNING: redefining constant var2col\n",
      "WARNING: redefining constant col2var\n"
     ]
    },
    {
     "data": {
      "text/plain": [
       "generate_xy (generic function with 1 method)"
      ]
     },
     "execution_count": 26,
     "metadata": {},
     "output_type": "execute_result"
    }
   ],
   "source": [
    "# mapping from variable names to X columns\n",
    "# carrier \"9E\" is used as base level\n",
    "const var2col = Dict(\n",
    "        \"Intercept\" => 1,\n",
    "        \"Distance\" => 2,\n",
    "        \"DepDelay\" => 3,\n",
    "        \"AA\" => 4,\n",
    "        \"AQ\" => 5,\n",
    "        \"AS\" => 6,\n",
    "        \"B6\" => 7,\n",
    "        \"CO\" => 8,\n",
    "        \"DH\" => 9,\n",
    "        \"DL\" => 10,\n",
    "        \"EV\" => 11,\n",
    "        \"F9\" => 12,\n",
    "        \"FL\" => 13,\n",
    "        \"HA\" => 14,\n",
    "        \"HP\" => 15,\n",
    "        \"MQ\" => 16,\n",
    "        \"NW\" => 17,\n",
    "        \"OH\" => 18,\n",
    "        \"OO\" => 19,\n",
    "        \"TZ\" => 20,\n",
    "        \"UA\" => 21,\n",
    "        \"US\" => 22,\n",
    "        \"WN\" => 23,\n",
    "        \"XE\" => 24,\n",
    "        \"YV\" => 25,\n",
    "        \"Gain\" => 26)\n",
    "# mapping from column to variable names\n",
    "const col2var = map(reverse, var2col)\n",
    "\n",
    "# a custom function to generate [X y] from data table\n",
    "function generate_xy(tbl::NextTable)\n",
    "    # X matrix\n",
    "    XY = zeros(length(tbl), 26)\n",
    "    # intercept term\n",
    "    @views fill!(XY[:, 1], 1)\n",
    "    # Distance term\n",
    "    @views copy!(XY[:, 2], columns(tbl, :Distance))\n",
    "    # DepDelay term\n",
    "    @views copy!(XY[:, 3], columns(tbl, :DepDelay))\n",
    "    # Dummy coding for airline\n",
    "    @inbounds for i in 1:length(tbl)\n",
    "        yrtable[i][:UniqueCarrier] == \"9E\" && continue # base level\n",
    "        XY[i, var2col[tbl[i][:UniqueCarrier]]] = 1\n",
    "    end\n",
    "    # last column is response: gain = depdelay - arrdelay\n",
    "    XY[:, 26] = select(tbl, \n",
    "        (:DepDelay, :ArrDelay) => p -> Float64(p.DepDelay - p.ArrDelay))\n",
    "    # return\n",
    "    XY\n",
    "end"
   ]
  },
  {
   "cell_type": "code",
   "execution_count": 27,
   "metadata": {},
   "outputs": [
    {
     "name": "stdout",
     "output_type": "stream",
     "text": [
      "  9.347537 seconds (19.18 M allocations: 1.950 GiB, 14.88% gc time)\n"
     ]
    },
    {
     "data": {
      "text/plain": [
       "6375689×26 Array{Float64,2}:\n",
       " 1.0   837.0   -4.0  0.0  0.0  0.0  …  0.0  1.0  0.0  0.0  0.0  0.0   -3.0\n",
       " 1.0   837.0   -1.0  0.0  0.0  0.0     0.0  1.0  0.0  0.0  0.0  0.0    2.0\n",
       " 1.0   837.0   29.0  0.0  0.0  0.0     0.0  1.0  0.0  0.0  0.0  0.0    6.0\n",
       " 1.0  1835.0   -2.0  0.0  0.0  0.0     0.0  1.0  0.0  0.0  0.0  0.0    7.0\n",
       " 1.0  1835.0   18.0  0.0  0.0  0.0     0.0  1.0  0.0  0.0  0.0  0.0  -34.0\n",
       " 1.0  1835.0   -4.0  0.0  0.0  0.0  …  0.0  1.0  0.0  0.0  0.0  0.0  -10.0\n",
       " 1.0  1835.0   -4.0  0.0  0.0  0.0     0.0  1.0  0.0  0.0  0.0  0.0    4.0\n",
       " 1.0  1835.0    0.0  0.0  0.0  0.0     0.0  1.0  0.0  0.0  0.0  0.0   -2.0\n",
       " 1.0  1835.0   -4.0  0.0  0.0  0.0     0.0  1.0  0.0  0.0  0.0  0.0  -23.0\n",
       " 1.0   413.0    3.0  0.0  0.0  0.0     0.0  1.0  0.0  0.0  0.0  0.0   -1.0\n",
       " 1.0   413.0   -4.0  0.0  0.0  0.0  …  0.0  1.0  0.0  0.0  0.0  0.0   19.0\n",
       " 1.0   413.0   -3.0  0.0  0.0  0.0     0.0  1.0  0.0  0.0  0.0  0.0   16.0\n",
       " 1.0   413.0    0.0  0.0  0.0  0.0     0.0  1.0  0.0  0.0  0.0  0.0   12.0\n",
       " ⋮                             ⋮    ⋱       ⋮                          ⋮  \n",
       " 1.0   406.0  104.0  0.0  0.0  0.0     0.0  0.0  0.0  0.0  0.0  0.0   -4.0\n",
       " 1.0  1891.0   70.0  0.0  0.0  0.0     0.0  0.0  0.0  0.0  0.0  0.0    4.0\n",
       " 1.0   581.0   29.0  0.0  0.0  0.0     0.0  0.0  0.0  0.0  0.0  0.0  -33.0\n",
       " 1.0  1891.0   39.0  0.0  0.0  0.0  …  0.0  0.0  0.0  0.0  0.0  0.0  -27.0\n",
       " 1.0  1678.0   26.0  0.0  0.0  0.0     0.0  0.0  0.0  0.0  0.0  0.0   -1.0\n",
       " 1.0   946.0  114.0  0.0  0.0  0.0     0.0  0.0  0.0  0.0  0.0  0.0  -20.0\n",
       " 1.0   813.0   44.0  0.0  0.0  0.0     0.0  0.0  0.0  0.0  0.0  0.0   -9.0\n",
       " 1.0   432.0   16.0  0.0  0.0  0.0     0.0  0.0  0.0  0.0  0.0  0.0  -31.0\n",
       " 1.0   432.0   50.0  0.0  0.0  0.0  …  0.0  0.0  0.0  0.0  0.0  0.0   -4.0\n",
       " 1.0   453.0   -3.0  0.0  0.0  0.0     0.0  0.0  0.0  0.0  0.0  0.0    2.0\n",
       " 1.0   689.0    3.0  0.0  0.0  0.0     0.0  0.0  0.0  0.0  0.0  0.0    0.0\n",
       " 1.0  1929.0   -1.0  0.0  0.0  0.0     0.0  0.0  0.0  0.0  0.0  0.0    0.0"
      ]
     },
     "execution_count": 27,
     "metadata": {},
     "output_type": "execute_result"
    }
   ],
   "source": [
    "@time xy = generate_xy(yrtable)"
   ]
  },
  {
   "cell_type": "markdown",
   "metadata": {},
   "source": [
    "## Q2 - Google PageRank\n",
    "\n",
    "We are going to try different numerical methods learnt in class on the [Google PageRank problem](https://en.wikipedia.org/wiki/PageRank)."
   ]
  },
  {
   "cell_type": "markdown",
   "metadata": {},
   "source": [
    "### Q2(1)\n",
    "\n",
    "Let $\\mathbf{A} \\in \\{0,1\\}^{n \\times n}$ be the connectivity matrix of $n$ web pages with entries\n",
    "$$\n",
    "\\begin{eqnarray*}\n",
    "\ta_{ij}= \\begin{cases}\n",
    "\t1 & \\text{if page $i$ links to page $j$} \\\\\n",
    "\t0 & \\text{otherwise}\n",
    "\t\\end{cases}.\n",
    "\\end{eqnarray*}\n",
    "$$\n",
    "$r_i = \\sum_j a_{ij}$ is the out-degree of page $i$. That is $r_i$ is the number of links on page $i$. Imagine a random surfer exploring the space of $n$ pages according to the following rules.  \n",
    "\n",
    "- From a page $i$ with $r_i>0$\n",
    "    * with probability $p$, (s)he randomly chooses a link on page $i$ (uniformly) and follows that link to the next page  \n",
    "    * with probability $1-p$, (s)he randomly chooses one page from the set of all $n$ pages (uniformly) and proceeds to that page  \n",
    "- From a page $i$ with $r_i=0$ (a dangling page), (s)he randomly chooses one page from the set of all $n$ pages (uniformly) and proceeds to that page  \n",
    "    \n",
    "The process defines a Markov chain on the space of $n$ pages. Write the transition matrix $\\mathbf{P}$ of the Markov chain as a sparse matrix plus rank 1 matrix."
   ]
  },
  {
   "cell_type": "markdown",
   "metadata": {},
   "source": [
    "#### Q2 (1) Answer: \n",
    "\n",
    "For a page $i$ with $r_i>0$ (there are $r_i$ links),\n",
    "- if there is link between page i and page j, then $p_{ij} = p a_{ij} / r_i $.\n",
    "- if there is no link between page i and page j, then $p_{ij} = (1-p) / n  $.\n",
    "\n",
    "For a page $i$ with $r_i=0$ (there is no link), \n",
    "- the probability will be probability that randomly select a page from $\\mathbf{n}$ pages, then $p_{ij} = 1 / n  $.\n",
    "\n",
    "Therefore, \n",
    "$$ p_{ij} = \\begin{cases} p a_{ij} / r_i + (1-p) / n & r_i > 0 \\\\ 1/n & r_i = 0 \\end{cases}. $$ \n",
    "\n",
    "To write the transition matrix $\\mathbf{P}$,\n",
    "\n",
    "Let $$ r_i^* = \\begin{cases} p/r_i & r_i > 0 \\\\ 0 & r_i = 0 \\end{cases} $$\n",
    "\n",
    "and let $\\mathbf{z} \\in \\mathbf{R}^n$ has entries $$ z_i = \\begin{cases} (1-p)/n & r_i > 0 \\\\ 1/n & r_i = 0 \\end{cases}. $$\n",
    "\n",
    "Then the transition matrix $\\mathbf{P}$ can be written as:\n",
    "$$ \\mathbf{P} = \\text{diag}(\\mathbf{r}^*) * \\mathbf{A} + \\mathbf{z} \\mathbf{1}_n^T, $$ "
   ]
  },
  {
   "cell_type": "markdown",
   "metadata": {
    "collapsed": true
   },
   "source": [
    "### Q2(2)\n",
    "\n",
    "According to standard Markov chain theory, the (random) position of the surfer converges to the stationary distribution $\\mathbf{x} = (x_1,\\ldots,x_n)^T$ of the Markov chain. $x_i$ has the natural interpretation of the proportion of times the surfer visits page $i$ in the long run. Therefore $\\mathbf{x}$ serves as page ranks: a higher $x_i$ means page $i$ is more visited. It is well-known that $\\mathbf{x}$ is the left eigenvector corresponding to the top eigenvalue 1 of the transition matrix $\\mathbf{P}$. That is $\\mathbf{P}^T \\mathbf{x} = \\mathbf{x}$. Therefore $\\mathbf{x}$ can be solved as an eigen-problem. Show that it can also be cast as solving a linear system. Since the row sums of $\\mathbf{P}$ are 1, $\\mathbf{P}$ is rank deficient. We can replace the first equation by the $\\sum_{i=1}^n x_i = 1$."
   ]
  },
  {
   "cell_type": "markdown",
   "metadata": {},
   "source": [
    "### Q2(3)\n",
    "\n",
    "Download the [`ucla.zip`](http://hua-zhou.github.io/teaching/biostatm280-2018spring/hw/hw3/ucla.zip) package from course webpage. Unzip the package, which contains two files `U.txt` and `A.txt`. `U.txt` lists the 500 URL names. `A.txt` is the $500 \\times 500$ connectivity matrix. Read data into Julia. Compute summary statistics:\n",
    "* number of pages\n",
    "* number of edges\n",
    "* number of dangling nodes (pages with no out links)\n",
    "* which page has max in-degree?\n",
    "* which page has max out-degree?\n",
    "* visualize the sparsity pattern of $\\mathbf{A}$"
   ]
  },
  {
   "cell_type": "code",
   "execution_count": 12,
   "metadata": {},
   "outputs": [
    {
     "data": {
      "text/plain": [
       "500-element Array{String,1}:\n",
       " \"http://www.ucla.edu\"                                                                                                                     \n",
       " \"http://4393665.fls.doubleclick.net/activityi;src=4393665;type=Prima0;cat=UCLAe0;ord=\"                                                    \n",
       " \"http://www.atmos.ucla.edu/weather/quick-look\"                                                                                            \n",
       " \"http://bit.ly/10Wf0Te\"                                                                                                                   \n",
       " \"http://bit.ly/1NMd3KF\"                                                                                                                   \n",
       " \"http://bit.ly/1JTGEHi\"                                                                                                                   \n",
       " \"http://bit.ly/1JTGEHj\"                                                                                                                   \n",
       " \"http://bit.ly/1JTGEHk\"                                                                                                                   \n",
       " \"http://bit.ly/1TooUWd\"                                                                                                                   \n",
       " \"http://bit.ly/1Sm3c4v\"                                                                                                                   \n",
       " \"http://bit.ly/1OV2jxs\"                                                                                                                   \n",
       " \"http://newsroom.ucla.edu/stories/international-olympic-committee-president-tours-facilities-at-ucla\"                                     \n",
       " \"http://newsroom.ucla.edu/releases/chemical-used-to-replace-bpa-in-plastic-accelerates-embryonic-development-disrupts-reproductive-system\"\n",
       " ⋮                                                                                                                                         \n",
       " \"http://schema.org/audio\"                                                                                                                 \n",
       " \"http://schema.org/AudioObject\"                                                                                                           \n",
       " \"http://schema.org/author\"                                                                                                                \n",
       " \"http://schema.org/Organization\"                                                                                                          \n",
       " \"http://schema.org/award\"                                                                                                                 \n",
       " \"http://schema.org/character\"                                                                                                             \n",
       " \"http://schema.org/citation\"                                                                                                              \n",
       " \"http://schema.org/CreativeWork\"                                                                                                          \n",
       " \"http://schema.org/comment\"                                                                                                               \n",
       " \"http://schema.org/Comment\"                                                                                                               \n",
       " \"http://schema.org/commentCount\"                                                                                                          \n",
       " \"http://schema.org/contentLocation\"                                                                                                       "
      ]
     },
     "execution_count": 12,
     "metadata": {},
     "output_type": "execute_result"
    }
   ],
   "source": [
    "# Read in A.txt\n",
    "A = readcsv(\"ucla/A.txt\")\n",
    "# sparse matrix\n",
    "A = sparse(A)\n",
    "U = vec(readdlm(\"ucla/U.txt\", '\\n', String))"
   ]
  },
  {
   "cell_type": "code",
   "execution_count": 13,
   "metadata": {},
   "outputs": [
    {
     "data": {
      "text/plain": [
       "500"
      ]
     },
     "execution_count": 13,
     "metadata": {},
     "output_type": "execute_result"
    }
   ],
   "source": [
    "# pages\n",
    "n = size(A, 1)"
   ]
  },
  {
   "cell_type": "code",
   "execution_count": 14,
   "metadata": {},
   "outputs": [
    {
     "data": {
      "text/plain": [
       "11158"
      ]
     },
     "execution_count": 14,
     "metadata": {},
     "output_type": "execute_result"
    }
   ],
   "source": [
    "# edges\n",
    "countnz(A)"
   ]
  },
  {
   "cell_type": "code",
   "execution_count": 15,
   "metadata": {},
   "outputs": [
    {
     "data": {
      "text/plain": [
       "96"
      ]
     },
     "execution_count": 15,
     "metadata": {},
     "output_type": "execute_result"
    }
   ],
   "source": [
    "# dangling nodes (pages with no out links)?\n",
    "outdeg = sum(A, 2)\n",
    "countnz(outdeg .< 1)"
   ]
  },
  {
   "cell_type": "code",
   "execution_count": 16,
   "metadata": {},
   "outputs": [
    {
     "name": "stdout",
     "output_type": "stream",
     "text": [
      "U[idxideg] = \"http://www.ucla.edu\"\n",
      "indeg[idxideg] = 171.0\n"
     ]
    },
    {
     "data": {
      "text/plain": [
       "171.0"
      ]
     },
     "execution_count": 16,
     "metadata": {},
     "output_type": "execute_result"
    }
   ],
   "source": [
    "# page has max in-degree?\n",
    "indeg = sum(A, 1)\n",
    "idxideg = indmax(indeg)\n",
    "@show U[idxideg]\n",
    "@show indeg[idxideg]"
   ]
  },
  {
   "cell_type": "code",
   "execution_count": 17,
   "metadata": {},
   "outputs": [
    {
     "name": "stdout",
     "output_type": "stream",
     "text": [
      "U[idxodeg] = \"http://giveto.ucla.edu\"\n",
      "outdeg[idxodeg] = 88.0\n"
     ]
    }
   ],
   "source": [
    "# page has max out-degree?\n",
    "idxodeg = indmax(outdeg)\n",
    "@show U[idxodeg]\n",
    "@show outdeg[idxodeg];"
   ]
  },
  {
   "cell_type": "code",
   "execution_count": 19,
   "metadata": {},
   "outputs": [
    {
     "data": {
      "image/svg+xml": [
       "<?xml version=\"1.0\" encoding=\"utf-8\"?>\n",
       "<svg xmlns=\"http://www.w3.org/2000/svg\" xmlns:xlink=\"http://www.w3.org/1999/xlink\" width=\"600\" height=\"400\" viewBox=\"0 0 600 400\">\n",
       "<defs>\n",
       "  <clipPath id=\"clip0600\">\n",
       "    <rect x=\"0\" y=\"0\" width=\"600\" height=\"400\"/>\n",
       "  </clipPath>\n",
       "</defs>\n",
       "<polygon clip-path=\"url(#clip0600)\" points=\"\n",
       "0,400 600,400 600,0 0,0 \n",
       "  \" fill=\"#ffffff\" fill-opacity=\"1\"/>\n",
       "<defs>\n",
       "  <clipPath id=\"clip0601\">\n",
       "    <rect x=\"120\" y=\"0\" width=\"421\" height=\"400\"/>\n",
       "  </clipPath>\n",
       "</defs>\n",
       "<polygon clip-path=\"url(#clip0600)\" points=\"\n",
       "126.039,375.869 490.096,375.869 490.096,11.811 126.039,11.811 \n",
       "  \" fill=\"#ffffff\" fill-opacity=\"1\"/>\n",
       "<defs>\n",
       "  <clipPath id=\"clip0602\">\n",
       "    <rect x=\"126\" y=\"11\" width=\"365\" height=\"365\"/>\n",
       "  </clipPath>\n",
       "</defs>\n",
       "<polyline clip-path=\"url(#clip0600)\" style=\"stroke:#000000; stroke-width:1; stroke-opacity:1; fill:none\" points=\"\n",
       "  126.039,375.869 490.096,375.869 \n",
       "  \"/>\n",
       "<polyline clip-path=\"url(#clip0600)\" style=\"stroke:#000000; stroke-width:1; stroke-opacity:1; fill:none\" points=\"\n",
       "  126.039,11.811 126.039,375.869 \n",
       "  \"/>\n",
       "<polyline clip-path=\"url(#clip0600)\" style=\"stroke:#000000; stroke-width:1; stroke-opacity:1; fill:none\" points=\"\n",
       "  198.486,375.869 198.486,370.408 \n",
       "  \"/>\n",
       "<polyline clip-path=\"url(#clip0600)\" style=\"stroke:#000000; stroke-width:1; stroke-opacity:1; fill:none\" points=\"\n",
       "  271.298,375.869 271.298,370.408 \n",
       "  \"/>\n",
       "<polyline clip-path=\"url(#clip0600)\" style=\"stroke:#000000; stroke-width:1; stroke-opacity:1; fill:none\" points=\"\n",
       "  344.109,375.869 344.109,370.408 \n",
       "  \"/>\n",
       "<polyline clip-path=\"url(#clip0600)\" style=\"stroke:#000000; stroke-width:1; stroke-opacity:1; fill:none\" points=\"\n",
       "  416.921,375.869 416.921,370.408 \n",
       "  \"/>\n",
       "<polyline clip-path=\"url(#clip0600)\" style=\"stroke:#000000; stroke-width:1; stroke-opacity:1; fill:none\" points=\"\n",
       "  489.732,375.869 489.732,370.408 \n",
       "  \"/>\n",
       "<polyline clip-path=\"url(#clip0600)\" style=\"stroke:#000000; stroke-width:1; stroke-opacity:1; fill:none\" points=\"\n",
       "  126.039,84.2585 131.499,84.2585 \n",
       "  \"/>\n",
       "<polyline clip-path=\"url(#clip0600)\" style=\"stroke:#000000; stroke-width:1; stroke-opacity:1; fill:none\" points=\"\n",
       "  126.039,157.07 131.499,157.07 \n",
       "  \"/>\n",
       "<polyline clip-path=\"url(#clip0600)\" style=\"stroke:#000000; stroke-width:1; stroke-opacity:1; fill:none\" points=\"\n",
       "  126.039,229.882 131.499,229.882 \n",
       "  \"/>\n",
       "<polyline clip-path=\"url(#clip0600)\" style=\"stroke:#000000; stroke-width:1; stroke-opacity:1; fill:none\" points=\"\n",
       "  126.039,302.693 131.499,302.693 \n",
       "  \"/>\n",
       "<polyline clip-path=\"url(#clip0600)\" style=\"stroke:#000000; stroke-width:1; stroke-opacity:1; fill:none\" points=\"\n",
       "  126.039,375.505 131.499,375.505 \n",
       "  \"/>\n",
       "<g clip-path=\"url(#clip0600)\">\n",
       "<text style=\"fill:#000000; fill-opacity:1; font-family:Arial,Helvetica Neue,Helvetica,sans-serif; font-size:12; text-anchor:middle;\" transform=\"rotate(0, 198.486, 389.669)\" x=\"198.486\" y=\"389.669\">100</text>\n",
       "</g>\n",
       "<g clip-path=\"url(#clip0600)\">\n",
       "<text style=\"fill:#000000; fill-opacity:1; font-family:Arial,Helvetica Neue,Helvetica,sans-serif; font-size:12; text-anchor:middle;\" transform=\"rotate(0, 271.298, 389.669)\" x=\"271.298\" y=\"389.669\">200</text>\n",
       "</g>\n",
       "<g clip-path=\"url(#clip0600)\">\n",
       "<text style=\"fill:#000000; fill-opacity:1; font-family:Arial,Helvetica Neue,Helvetica,sans-serif; font-size:12; text-anchor:middle;\" transform=\"rotate(0, 344.109, 389.669)\" x=\"344.109\" y=\"389.669\">300</text>\n",
       "</g>\n",
       "<g clip-path=\"url(#clip0600)\">\n",
       "<text style=\"fill:#000000; fill-opacity:1; font-family:Arial,Helvetica Neue,Helvetica,sans-serif; font-size:12; text-anchor:middle;\" transform=\"rotate(0, 416.921, 389.669)\" x=\"416.921\" y=\"389.669\">400</text>\n",
       "</g>\n",
       "<g clip-path=\"url(#clip0600)\">\n",
       "<text style=\"fill:#000000; fill-opacity:1; font-family:Arial,Helvetica Neue,Helvetica,sans-serif; font-size:12; text-anchor:middle;\" transform=\"rotate(0, 489.732, 389.669)\" x=\"489.732\" y=\"389.669\">500</text>\n",
       "</g>\n",
       "<g clip-path=\"url(#clip0600)\">\n",
       "<text style=\"fill:#000000; fill-opacity:1; font-family:Arial,Helvetica Neue,Helvetica,sans-serif; font-size:12; text-anchor:end;\" transform=\"rotate(0, 120.039, 88.7585)\" x=\"120.039\" y=\"88.7585\">100</text>\n",
       "</g>\n",
       "<g clip-path=\"url(#clip0600)\">\n",
       "<text style=\"fill:#000000; fill-opacity:1; font-family:Arial,Helvetica Neue,Helvetica,sans-serif; font-size:12; text-anchor:end;\" transform=\"rotate(0, 120.039, 161.57)\" x=\"120.039\" y=\"161.57\">200</text>\n",
       "</g>\n",
       "<g clip-path=\"url(#clip0600)\">\n",
       "<text style=\"fill:#000000; fill-opacity:1; font-family:Arial,Helvetica Neue,Helvetica,sans-serif; font-size:12; text-anchor:end;\" transform=\"rotate(0, 120.039, 234.382)\" x=\"120.039\" y=\"234.382\">300</text>\n",
       "</g>\n",
       "<g clip-path=\"url(#clip0600)\">\n",
       "<text style=\"fill:#000000; fill-opacity:1; font-family:Arial,Helvetica Neue,Helvetica,sans-serif; font-size:12; text-anchor:end;\" transform=\"rotate(0, 120.039, 307.193)\" x=\"120.039\" y=\"307.193\">400</text>\n",
       "</g>\n",
       "<g clip-path=\"url(#clip0600)\">\n",
       "<text style=\"fill:#000000; fill-opacity:1; font-family:Arial,Helvetica Neue,Helvetica,sans-serif; font-size:12; text-anchor:end;\" transform=\"rotate(0, 120.039, 380.005)\" x=\"120.039\" y=\"380.005\">500</text>\n",
       "</g>\n",
       "<polyline clip-path=\"url(#clip0602)\" style=\"stroke:#000000; stroke-width:1; stroke-opacity:1; fill:none\" points=\"\n",
       "  126.039,11.811 490.096,11.811 \n",
       "  \"/>\n",
       "<polyline clip-path=\"url(#clip0602)\" style=\"stroke:#000000; stroke-width:1; stroke-opacity:1; fill:none\" points=\"\n",
       "  490.096,11.811 490.096,375.869 \n",
       "  \"/>\n",
       "<g clip-path=\"url(#clip0602)\">\n",
       "<image width=\"364\" height=\"364\" xlink:href=\"data:image/png;base64,\n",
       "iVBORw0KGgoAAAANSUhEUgAAAWwAAAFsCAYAAADon4O5AAAMfUlEQVR4nO3d23KkNhQFUDrl///l\n",
       "zsMUCWagW4BuR1qryjWejNNgEBtxEOK1/PFe8nsV+EwAAACADO6WLd6b/3ctp+w/61uZRckE4IKW\n",
       "oZmjbi70gWm8lt+95Tv2ve2jnvZ+OU+Xuf3sVMIdCO2f1ivwUEoIjxbUJUb0AAFED+wZrVcrwGR+\n",
       "Wq8At+QO7dGuQmBIqYGdq+ZMPjn3x9lIH6AjqYGd4+Yk/doP0dz+N6ATV0oiQnt89i107OpNRze8\n",
       "5mSfQwfu3HTstae9P5n0tn6RHZ2obV+o7En4nv1/bmDN4Wg/n/XEtQXI4Mk4bOURUqztZP0Cbno6\n",
       "DlvPiRTaCQAwl9qXqS6L52b/w025Zuvbf976PXNJbUulQ1vbY0i55hL59jID5pC630u3jycnBG2X\n",
       "bpUaU93jOG1IUbL375jgEa8IAwCAnI5macv92QAAMI+aEzn1cCOy1zHAV650Wm9D5pLjmNFmM7my\n",
       "IT8Fbupwvv1nnP09tZFoCOz10DHgmA4JAHP41Nu94ujM6UwJMIhe68lAO6bhBSC+1mWLo5uOV7Re\n",
       "f65zU5AU2smBXJM/PXU24x/jcRCS4iwHtB8A+tfybHXlJa5nnG1hPtNO4/zkJbwApZ2VRaYL62UR\n",
       "2EBc093ran2W8mg6kMM+M4bMhpajRM5CebqzJvDY2QtUhgruliWRsw051AYGbnvvvr/SmVvr3EN1\n",
       "ANWwgZFtpy4OH96G9QHRXXkqMvQTlEoiQK9SSyJ3wjpkb1tJBIjuzqiykPVtgQ1Ed/eqfA3tcMEN\n",
       "QOdyvIR3Xxc6Gg+5X06uwv/VYT4AAAQWoizinY7UEno4FVPo/op9pANIIAC1NOuRP13wfqzk2b9/\n",
       "+7kny//0lXt5AE0Y1gcQhMAGCEJgAwQhsMdX6t4BUFn0wE4JoNlDaj9/AkB1swdxRPYZPJDj0fRU\n",
       "rcdJRwiLlBnE9JIBAPijlx5uL+sBQAKhDQAAAFObaZTIug49uvLm+NbbEFZrW9UmK/lpvQJAWIK6\n",
       "suhPOgJMQ2D3pdeSDdylTWcksPviEpPRaNMZCWyAIAQ2QBACGyAIgQ0QhMAGcjEipDCBDVx1FsxG\n",
       "hBQmsPuhd0IUV6ZSICOB3Q+9EyLSbisS2EAKPekOCGwghZ50BwQ2cJded2UCG7hLr7sygQ088T75\n",
       "ngIENvDE6+R7ChDY/dA7ISLttiKB3Q+9E3p1FMre59iAwAa+OQplQd2AwO6Ly0tGo01nJLD7otfC\n",
       "aLTpjAQ2QBACux8uHYGPBHY/XDoSxXv3Z8rPAgAAAAAAAAAAAIzktfwZJ1ljDHCt5Xxafq+2++Hb\n",
       "ehqvDZOa6cGZ3oMuJawhGm0agPnMVBJZ16FH2+2iJAIcmqkkAgAA5eUuiXz6LCWRc61LIj3sG+CL\n",
       "3CURB31M9hsAAAATelrXfZ98v/9v337uyfI/feVeXmsj/S7ABYb1xeOJSJjUT+sV4Jbcoe2mIwQg\n",
       "sOOq+ZQq0IHWB/s+cFJnrFu1Xv8eCG1GtW3bayZM39bddIxv9N8PWNx0HIUbkQBk58QCDyiJjGWm\n",
       "3xWmoiQyHuURGJTAHpPQBghGaMNg1LDHNvPvDkNREhlfzvKI8IeGBPYccoX29E+ZQUsCex5uRAIw\n",
       "NCc5oCkhBEEZJTIn2wSCUcOel5o2BOMFBnHlHKpn9AcEkXLgp5YzavbY9A7zib4to68/JLlTEtn3\n",
       "xr4dLKVq2Ns3UahhPxd5G7lCAADIIXKPsGe2K3Qs9QA9+znD+sax324ABCC0oUMenOGM7QYd8eAM\n",
       "Z5zsoDN3AtsBPIfX5ss+BwAAYECj3HTcfu+mYzm2JTTipiNXqWkDBCO0KcGDWx/oYXOXnjYAAJSi\n",
       "pw0VKIkAAAAAANCrXO/CO7rp5D17AAAAAABABOaIYBTa8Q02Wjz2GQAwvnXGtSdD8La9pu0Mbob1\n",
       "zSe1LZXuaWt7DGnbsJ8Et3HYQHRPO6/F5Zj8SV2SFKVeEXdl2Z+Wqx3TdVgvS54e9llD7/6XBwAA\n",
       "AGZV66Zj98V8gN7VeuOMsAZ4yCvCAIIQ2ABBCGyAIAQ2QBACGyAIgQ0QhMAGCCLH9KpHPCgzp08P\n",
       "UJl2Fx7qqYdttrS4UvbdaxHWxLOd6TFl1kcAyM+ZB6CgqCEbdb0BbvGKMIAgerrpyNhaviKslFF+\n",
       "D4LYD7kq8dkAADCP3A/OeDiCp3K0xytXjOsxsH4P3SpVw1bbIyLtlq6VCux9T8UTQmyfFPukZS9X\n",
       "D5uu/VRazmv3J/Ox7+Ehw/oAghDYjO6sZ28yKsIR2IzurG5+VFN3j4WuCWyAIAQ2QBACG/6npg0A\n",
       "9Cf1po2bOwAXmUuEEd2dS2T9O3QrZ2/3vaQ9gpxjmXrp5KQ9lWPbZrK96ZiyUc/GrqbOE/Hts6+Y\n",
       "uSeUY3vndLftlHC0jN7nMBmdbQsAAAAAAAAwsp5GMMBT2jM85CCiptrDVgGaixxckdcdAACAKlw6\n",
       "MgPtnKoiv8DAwUJN3v9IcyZlgd/uBHHKcZRzGmMIRw8HAAAAALqgVDcH+5kpaOgAAAAAANAPdXu6\n",
       "VqOBOgio6ejRdG0QAAAAAABgiT3d49PpKk13SW01blLeadOf1ssx0pHILzAAmEqtwDb8CeChWoHt\n",
       "sgrgISURgCAENkAQAhvm5d5SMAKbmgREe9t94N5SMAKbmgREe+s+MHlVQAIbxpMSxK/FCTQcgQ3j\n",
       "2QfxtwB/Lb8DXJB36qf1CgDFfQvgo7m+6ZAeNqCHHYQeNqCHHYQeNkAQAhsgCIEN81L6CEZgQzm9\n",
       "B6Kbi8G46QjlRAnEKOs5PT1sYOu9+bP3K4Tp6GEDhvUFoYcNc9KDDkhgw3hM/jQogQ3jeS16z0MS\n",
       "2ABBCGwY0/ZFBQxCYMPY1vKI4KYpDRCYyszjsN+Lu+TUVaOTcdSm3x/+bfvvqZ8H1emhMyPtPrDI\n",
       "PWw9ZKJp2cM+es9jyo1Jx1hH3HSE8b1OviegWS+RZv29YeUYuK/JtvtZ4p5xlUSIplVJ5Mj75Pu7\n",
       "nzcb2wUAAAAAAAAAAAAAIIB1rtwag8B7eNCl1ye7ttvl2zq23obMZz129/OPHH1PQeYSAb456tiZ\n",
       "n6QBgQ2k8GLfDghsIJXQbkxgA1cI7YYENnCV0G5EYAN3CO0GBDZw1z60BXhhAht4YhvahvcVFvkl\n",
       "vCPSQ6E3qW3SW2sqENh9URekN9/C1hOPFQnsvghrepPSJr/VsYV4JmrYAEEIbIAgBDZAEGrYwCdP\n",
       "68/uy2SWY4O+D75KLxOW5e+2pG0BAABzSB0i6CrpROvxkfuB9ttXEaVovf5AOfuHcpbl2TE/xIM9\n",
       "T89m3wbNvxN/7snyP33lXh7wjOPxJsP6gNpMwXCTwAZaCF+aaEFgA3DZ1Uskl1QwBsdyIj1soLW1\n",
       "pi24vxDYAAAAwIRaDq3JUa8yNAgAoAFPKH/Quod6NJfIFa3Xn+uGmM8BAOBU656O2fqAM7ln6wvP\n",
       "OGyAIHoYJaKGDaSa+h6IHjYQydSPsbcM7GnPkpOb8kAjq9cyaX60DGwH7pymPNC47VNOTJchSiJA\n",
       "zz6d4KcrjyiJUNs0BxdVTFUe+Wm9Age8721s0xxcVLXPjCHbmZIIMIIhA3pPYAMEIbABgmhZwz6r\n",
       "U6tfA3ccPTU9VKnEKBFqc0KmhiFHj/RYEhluI/OL/Uuq9+77Oyf7oToIJn8CRjfMhFE9lkSG2LDA\n",
       "Yzl62Msy0BORrcPRK8LmM0xvh1vs/wdM/kRtDta5ldj/V7IkdO4oiQC9Si2JXMmM0FNf9DhKBKCE\n",
       "7UCHkKEtsIHo7ry0O2RoC2wgurtl1HCjR1rXi40SmY9RAgDA+HJcDrwPvkovE5bl77akbQEA7ZXu\n",
       "kejxUJo2BpmUOpiefq6DHAhlHdaS8679kBOHk+ToJKgdAHrIAHCVkydUUuJgcwADQIecoKESBxs1\n",
       "aW8AQQhsAIAo9NyAWlLnTQKgsffuzypGeoGBMx3QQrXsGSmwAVqo9roxgQ3wXMh3RALM4KyGXTS0\n",
       "9bAB8gn3Yl+A0XkNIkAQKcP6hDZAB1J72EIboLErQZztdYZuOgLclxLGZ0P+LpdTBDZAeVnGaQts\n",
       "gDo8XAPQwJPgvTpOWw0bIIM7wf26+7kCGyC/b0H+rTxyGOoCGyC/lF60mjZABTmDNvkxdz1sgLaS\n",
       "J4wS2AD35eppp5RQlp9MC+vBe0n8pQEK2+ZRjsfY1boBbso2P8jJv713f1+WRUkE4ImnD9AcUSkA\n",
       "yKhkD3v/M8ohAA/UCtNf5ZGRbjoC9OLuTcdPn6eGDQDAuGq+hPe/8su/+fMBj4gAhpMAAAAASUVO\n",
       "RK5CYII=\n",
       "\" transform=\"translate(126, 12)\"/>\n",
       "</g>\n",
       "</svg>\n"
      ]
     },
     "execution_count": 19,
     "metadata": {},
     "output_type": "execute_result"
    }
   ],
   "source": [
    "#Pkg.add(\"GR\")\n",
    "using Plots, GR\n",
    "#plotly()\n",
    "gr()\n",
    "spy(A)"
   ]
  },
  {
   "cell_type": "markdown",
   "metadata": {},
   "source": [
    "### Q2(4)\n",
    "\n",
    "Set the _teleportation_ parameter at $p = 0.85$. Try the following methods to solve for $\\mathbf{x}$ using the `ucla.zip` data.\n",
    "\n",
    "0. A dense linear system solver such as LU decomposition.  \n",
    "0. A simple iterative linear system solver such as Jacobi or Gauss-Seidel.   \n",
    "0. A dense eigen-solver.  \n",
    "0. A simple iterative eigen-solver such as the power method.  \n",
    "\n",
    "For iterative methods, you can use the [`IterativeSolvers.jl`](https://github.com/JuliaMath/IterativeSolvers.jl) package. Make sure to utilize the special structure of $\\mathbf{P}$ (sparse + rank 1) to speed up the matrix-vector multiplication."
   ]
  },
  {
   "cell_type": "code",
   "execution_count": 20,
   "metadata": {},
   "outputs": [],
   "source": [
    "p = 0.85;"
   ]
  },
  {
   "cell_type": "code",
   "execution_count": 21,
   "metadata": {},
   "outputs": [
    {
     "data": {
      "text/plain": [
       "pagerank_lu (generic function with 2 methods)"
      ]
     },
     "execution_count": 21,
     "metadata": {},
     "output_type": "execute_result"
    }
   ],
   "source": [
    "function pagerank_lu(A::AbstractMatrix, p::Float64 = 0.85)\n",
    "    \n",
    "    n = size(A, 1)\n",
    "    # r and z vectors\n",
    "    outdeginv = vec(sum(A, 2))\n",
    "    z = zeros(outdeginv)\n",
    "    fill!(z, 1 / n)\n",
    "    for i in 1:n\n",
    "        if outdeginv[i] > 0\n",
    "            outdeginv[i] = p / outdeginv[i]\n",
    "            z[i] = (1 - p) / n\n",
    "        end\n",
    "    end\n",
    "    # P = outdeginv * A .+ z\n",
    "    # prepare the linear system I - P^t\n",
    "    M = I - full(A') * Diagonal(outdeginv) .- z'\n",
    "    # replace the first equation by the sum-to-1 constraint\n",
    "    M[1, :] = 1.0\n",
    "    # LU solve with right hand side e_1\n",
    "    b = zeros(n)\n",
    "    b[1] = 1.0\n",
    "    return M \\ b\n",
    "    \n",
    "end"
   ]
  },
  {
   "cell_type": "code",
   "execution_count": 22,
   "metadata": {},
   "outputs": [
    {
     "name": "stdout",
     "output_type": "stream",
     "text": [
      "  2.338304 seconds (500.87 k allocations: 34.027 MiB, 0.80% gc time)\n"
     ]
    },
    {
     "data": {
      "text/plain": [
       "500-element Array{Float64,1}:\n",
       " 0.0115263 \n",
       " 0.00118521\n",
       " 0.00368196\n",
       " 0.00361842\n",
       " 0.00118521\n",
       " 0.00118521\n",
       " 0.00118521\n",
       " 0.00118521\n",
       " 0.00118521\n",
       " 0.00118521\n",
       " 0.00118521\n",
       " 0.00137118\n",
       " 0.00133263\n",
       " ⋮         \n",
       " 0.00136037\n",
       " 0.00136037\n",
       " 0.00129072\n",
       " 0.00337188\n",
       " 0.00215239\n",
       " 0.00136037\n",
       " 0.00136037\n",
       " 0.00750605\n",
       " 0.00136037\n",
       " 0.00136037\n",
       " 0.00136037\n",
       " 0.00107129"
      ]
     },
     "execution_count": 22,
     "metadata": {},
     "output_type": "execute_result"
    }
   ],
   "source": [
    "@time uclapgrk_lu = pagerank_lu(A)"
   ]
  },
  {
   "cell_type": "code",
   "execution_count": 23,
   "metadata": {},
   "outputs": [
    {
     "data": {
      "text/plain": [
       "20×3 Array{Any,2}:\n",
       "  1  …  \"http://hammer.ucla.edu\"                                                                \n",
       "  2     \"http://schema.org\"                                                                     \n",
       "  3     \"http://www\"                                                                            \n",
       "  4     \"http://giveto.ucla.edu/comments/feed\"                                                  \n",
       "  5     \"http://browsehappy.com\"                                                                \n",
       "  6  …  \"http://schema.org/Text\"                                                                \n",
       "  7     \"http://www.ucla.edu\"                                                                   \n",
       "  8     \"http://www.directory.ucla.edu\"                                                         \n",
       "  9     \"http://www.universityofcalifornia.edu\"                                                 \n",
       " 10     \"http://schema.org/CreativeWork\"                                                        \n",
       " 11  …  \"http://www.registrar.ucla.edu/calendar\"                                                \n",
       " 12     \"http://giveto.ucla.edu\"                                                                \n",
       " 13     \"http://www.magazine.ucla.edu/features/not-your-fathers-mba\"                            \n",
       " 14     \"http://www.magazine.ucla.edu/features/splendor-in-the-trash\"                           \n",
       " 15     \"http://www.magazine.ucla.edu/depts/style/the-dancing-scientist\"                        \n",
       " 16  …  \"http://www.magazine.ucla.edu/depts/hailhills/uncle-welton-in-westwood\"                 \n",
       " 17     \"http://www.magazine.ucla.edu/features/get-the-picture-the-ucla-brain-mapping-center\"   \n",
       " 18     \"http://www.magazine.ucla.edu/features/hope-is-real-the-ucla-depression-grand-challenge\"\n",
       " 19     \"http://www.magazine.ucla.edu/depts/forward-thinker/homes-with-heart\"                   \n",
       " 20     \"http://www.magazine.ucla.edu/features/heads-up\"                                        "
      ]
     },
     "execution_count": 23,
     "metadata": {},
     "output_type": "execute_result"
    }
   ],
   "source": [
    "topidx = sortperm(uclapgrk_lu, rev=true)[1:20]\n",
    "[collect(1:20) uclapgrk_lu[topidx] U[topidx]]"
   ]
  },
  {
   "cell_type": "markdown",
   "metadata": {},
   "source": [
    "### Q2(5)\n",
    "\n",
    "List the top 20 ranked URLs you found."
   ]
  },
  {
   "cell_type": "markdown",
   "metadata": {},
   "source": [
    "### Q2(6)\n",
    "\n",
    "As of Monday May 11 2018, there are at least 1.83 billion indexed webpages on internet according to <http://www.worldwidewebsize.com/>. Explain whether each of these methods works for the PageRank problem at this scale."
   ]
  }
 ],
 "metadata": {
  "kernelspec": {
   "display_name": "Julia 0.6.2",
   "language": "julia",
   "name": "julia-0.6"
  },
  "language_info": {
   "file_extension": ".jl",
   "mimetype": "application/julia",
   "name": "julia",
   "version": "0.6.2"
  },
  "toc": {
   "colors": {
    "hover_highlight": "#DAA520",
    "running_highlight": "#FF0000",
    "selected_highlight": "#FFD700"
   },
   "moveMenuLeft": true,
   "nav_menu": {
    "height": "87px",
    "width": "252px"
   },
   "navigate_menu": true,
   "number_sections": false,
   "sideBar": true,
   "threshold": 4,
   "toc_cell": false,
   "toc_section_display": "block",
   "toc_window_display": false,
   "widenNotebook": false
  }
 },
 "nbformat": 4,
 "nbformat_minor": 2
}
