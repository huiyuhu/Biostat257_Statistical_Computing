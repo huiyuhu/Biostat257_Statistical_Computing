{
 "cells": [
  {
   "cell_type": "markdown",
   "metadata": {},
   "source": [
    "# Biostat M280 Homework 3\n",
    "\n",
    "**Due Friday, May 25 @ 11:59PM**"
   ]
  },
  {
   "cell_type": "markdown",
   "metadata": {},
   "source": [
    "## Q1 - Big $n$ regression\n",
    "\n",
    "Those who took my _203B: Introduction to Data Science_ last quarter had a (painful) experience of wrangling an Apache Spark cluster to do linear regression on a dataset with more than 100 million observations. Now we learnt various methods for solving linear regression and should realize that, with right choice of algorithm, it is a problem that can be handled by any moderate computer."
   ]
  },
  {
   "cell_type": "markdown",
   "metadata": {},
   "source": [
    "### Q1(1)\n",
    "\n",
    "Download the flight data from <http://stat-computing.org/dataexpo/2009/the-data.html>. For this exercise, we only need data from years 2003-2008. If you are using Mac or Linux, you can run the following Bash script, which downloads and unzips files for all years.\n",
    "```bash\n",
    "# Download flight data by year\n",
    "for i in {1987..2008}\n",
    "  do\n",
    "    echo \"$(date) $i Download\"\n",
    "    fnam=$i.csv.bz2\n",
    "    wget -O ./$fnam http://stat-computing.org/dataexpo/2009/$fnam\n",
    "    echo \"$(date) $i unzip\"\n",
    "    bzip2 -d ./$fnam\n",
    "  done\n",
    "\n",
    "# Download airline carrier data\n",
    "wget -O ./airlines.csv http://www.transtats.bts.gov/Download_Lookup.asp?Lookup=L_UNIQUE_CARRIERS\n",
    "\n",
    "# Download airports data\n",
    "wget -O ./airports.csv https://raw.githubusercontent.com/jpatokal/openflights/master/data/airports.dat\n",
    "```\n",
    "Find out how many data points in each year."
   ]
  },
  {
   "cell_type": "code",
   "execution_count": 1,
   "metadata": {},
   "outputs": [
    {
     "name": "stdout",
     "output_type": "stream",
     "text": [
      "i = 2003\n",
      "countlines(file) = 6488541\n",
      "i = 2004\n",
      "countlines(file) = 7129271\n",
      "i = 2005\n",
      "countlines(file) = 7140597\n",
      "i = 2006\n",
      "countlines(file) = 7141923\n",
      "i = 2007\n",
      "countlines(file) = 7453216\n",
      "i = 2008\n",
      "countlines(file) = 7009729\n"
     ]
    }
   ],
   "source": [
    "# how many data points\n",
    "for i in 2003:2008\n",
    "    file = \"$i.csv\"\n",
    "    @show i\n",
    "    @show countlines(file)\n",
    "end"
   ]
  },
  {
   "cell_type": "markdown",
   "metadata": {},
   "source": [
    "### Q1(2) \n",
    "\n",
    "We are interested in how the time gain of a flight, defined as `DepDelay - ArrDelay`, depends on the distance traveled (`Distance`), departure delay (`DepDelay`), and carrier (`UniqueCarrier`). \n",
    "\n",
    "We want to fit a linear regression `Gain ~ 1 + Distance + DepDelay + UniqueCarrier` using data from 2003-2008. Note `UniqueCarrier` is a factor with 23 levels: \"9E\", \"AA\", \"AQ\", \"AS\", \"B6\", \"CO\", \"DH\", \"DL\", \"EV\", \"F9\", \"FL\", \"HA\", \"HP\", \"MQ\", \"NW\", \"OH\", \"OO\", \"TZ\", \"UA\", \"US\", \"WN\", \"XE\", and \"YV\". We use the dummy coding with \"9E\" as base level.\n",
    "\n",
    "Will the design matrix (in double precision) fit into the memory of you computer?"
   ]
  },
  {
   "cell_type": "markdown",
   "metadata": {},
   "source": [
    "#### Q1(2) Answer:\n",
    "\n",
    "One year's data have about 7M rows, so the number of rows from 2003 to 2008 are about 42M. By using double precision (8 Bytes) for the matrix $\\mathbf{X}$ which has 25 columns, it would occupy at least $42\\text{M} \\times 8\\text{B} \\times 25 = 8.4\\text{GB}$ which is larger than my computer's 8G memory. Therefore, appending all the data to a giant matrix to do regression is not feasible for my computer."
   ]
  },
  {
   "cell_type": "markdown",
   "metadata": {},
   "source": [
    "### Q1(3)\n",
    "\n",
    "Review the [Summary of Linear Regression](http://hua-zhou.github.io/teaching/biostatm280-2018spring/slides/12-linreg/linreg.html) and devise a strategy to solve the linear regression.\n",
    "\n",
    "Report the estimated regression coefficients $\\widehat \\beta$, estimated variance $\\widehat \\sigma^2 = \\sum_i (y_i - \\widehat y_i)^2 / (n - 1)$, and coefficient standard errors.\n",
    "\n",
    "Hint: It took my laptop less than 3 minutes to import data and fit linear regression."
   ]
  },
  {
   "cell_type": "markdown",
   "metadata": {},
   "source": [
    "#### Q1(3) Answer: \n",
    "\n",
    "The key of using OLS (Prdinary Least Squares) to estimate linear regression parameters is to compute $\\mathbf{X}^T\\mathbf{X}$ and $\\mathbf{X}^T\\mathbf{y}$. Instead of building a giant $\\mathbf{X}$ with 42M of rows and then computing, we can partition $\\mathbf{X}$ and $\\mathbf{y}$ to blocks each corresponding the data from a single year's data. Formally, if there are $k$ years' data:\n",
    "\n",
    "$$ \\mathbf{X} =\\begin{bmatrix}\n",
    "    \\mathbf{x_{1}} \\\\\n",
    "    \\mathbf{x_{2}} \\\\\n",
    "    ... \\\\\n",
    "    \\mathbf{x_{k}} \\\\\n",
    "\\end{bmatrix}      \\quad     \\mathbf{y} = \\begin{bmatrix}\n",
    "    \\mathbf{y_{1}} \\\\\n",
    "    \\mathbf{y_{2}} \\\\\n",
    "    ... \\\\\n",
    "    \\mathbf{y_{k}} \\\\\n",
    "\\end{bmatrix} \n",
    "$$\n",
    "\n",
    "$$ \\mathbf{X}^T\\mathbf{X} = \\begin{bmatrix}\n",
    "    \\mathbf{x_{1}} & \\mathbf{x_{2}} & ... & \\mathbf{x_{k}}\n",
    "\\end{bmatrix} \\begin{bmatrix}\n",
    "    \\mathbf{x_{1}} \\\\\n",
    "    \\mathbf{x_{2}} \\\\\n",
    "    ... \\\\\n",
    "    \\mathbf{x_{k}} \\\\\n",
    "\\end{bmatrix} = \\sum^k_{i=1}{\\mathbf{x_{i}}^T\\mathbf{x_{i}}}  \n",
    "$$\n",
    "\n",
    "$$\n",
    "\\mathbf{X}^T\\mathbf{y} = \\begin{bmatrix}\n",
    "    \\mathbf{x_{1}} & \\mathbf{x_{2}} & ... & \\mathbf{x_{k}}\n",
    "\\end{bmatrix} \\begin{bmatrix}\n",
    "    \\mathbf{y_{1}} \\\\\n",
    "    \\mathbf{y_{2}} \\\\\n",
    "    ... \\\\\n",
    "    \\mathbf{y_{k}} \\\\\n",
    "\\end{bmatrix} = \\sum^k_{i=1}{\\mathbf{x_{i}}^T\\mathbf{y_{i}}} $$\n",
    "\n",
    "$$\n",
    "\\mathbf{y}^T\\mathbf{y} = \\begin{bmatrix}\n",
    "    \\mathbf{y_{1}} & \\mathbf{y_{2}} & ... & \\mathbf{y_{k}}\n",
    "\\end{bmatrix} \\begin{bmatrix}\n",
    "    \\mathbf{y_{1}} \\\\\n",
    "    \\mathbf{y_{2}} \\\\\n",
    "    ... \\\\\n",
    "    \\mathbf{y_{k}} \\\\\n",
    "\\end{bmatrix} = \\sum^k_{i=1}{\\mathbf{y_{i}}^T\\mathbf{y_{i}}} $$\n",
    "\n",
    "- As a result, we can compute the $\\mathbf{x_{i}}^T\\mathbf{x_{i}}$, $\\mathbf{x_{i}}^T\\mathbf{y_{i}}$, and $\\mathbf{y_{i}}^T\\mathbf{y_{i}}$ for each year's data and then sum them to obtain the $\\mathbf{X}^T\\mathbf{X}$, $\\mathbf{X}^T\\mathbf{y}$, and $\\mathbf{y}^T\\mathbf{y}$, respectively.\n",
    "\n",
    "- The following function $\\text{sumXy()}$ implements this algorithm, and find the OLS solution by sweep according to http://hua-zhou.github.io/teaching/biostatm280-2018spring/slides/11-sweep/sweep.html. \n",
    "\n",
    "- To begin with, we first create a function $\\text{generate_xy()}$ to construct $\\mathbf{x_{i}}$ and $\\mathbf{y_{i}}$.\n"
   ]
  },
  {
   "cell_type": "code",
   "execution_count": 20,
   "metadata": {},
   "outputs": [
    {
     "name": "stderr",
     "output_type": "stream",
     "text": [
      "WARNING: redefining constant var2col\n",
      "WARNING: redefining constant col2var\n"
     ]
    },
    {
     "data": {
      "text/plain": [
       "generate_xy (generic function with 1 method)"
      ]
     },
     "execution_count": 20,
     "metadata": {},
     "output_type": "execute_result"
    }
   ],
   "source": [
    "# mapping from variable names to X columns\n",
    "# carrier \"9E\" is used as base level\n",
    "const var2col = Dict(\n",
    "        \"Intercept\" => 1,\n",
    "        \"Distance\" => 2,\n",
    "        \"DepDelay\" => 3,\n",
    "        \"AA\" => 4,\n",
    "        \"AQ\" => 5,\n",
    "        \"AS\" => 6,\n",
    "        \"B6\" => 7,\n",
    "        \"CO\" => 8,\n",
    "        \"DH\" => 9,\n",
    "        \"DL\" => 10,\n",
    "        \"EV\" => 11,\n",
    "        \"F9\" => 12,\n",
    "        \"FL\" => 13,\n",
    "        \"HA\" => 14,\n",
    "        \"HP\" => 15,\n",
    "        \"MQ\" => 16,\n",
    "        \"NW\" => 17,\n",
    "        \"OH\" => 18,\n",
    "        \"OO\" => 19,\n",
    "        \"TZ\" => 20,\n",
    "        \"UA\" => 21,\n",
    "        \"US\" => 22,\n",
    "        \"WN\" => 23,\n",
    "        \"XE\" => 24,\n",
    "        \"YV\" => 25,\n",
    "        \"Gain\" => 26)\n",
    "# mapping from column to variable names\n",
    "const col2var = map(reverse, var2col)\n",
    "\n",
    "# a custom function to generate [X y] from data table\n",
    "function generate_xy(tbl)\n",
    "    # X matrix\n",
    "    XY = zeros(length(tbl), 26)\n",
    "    # intercept term\n",
    "    @views fill!(XY[:, 1], 1)\n",
    "    # Distance term\n",
    "    @views copy!(XY[:, 2], columns(tbl, :Distance))\n",
    "    # DepDelay term\n",
    "    @views copy!(XY[:, 3], columns(tbl, :DepDelay))\n",
    "    # Dummy coding for airline\n",
    "    @inbounds for i in 1:length(tbl)\n",
    "        tbl[i][:UniqueCarrier] == \"9E\" && continue # base level\n",
    "        XY[i, var2col[tbl[i][:UniqueCarrier]]] = 1\n",
    "    end\n",
    "    # last column is response: gain = depdelay - arrdelay\n",
    "    XY[:, 26] = select(tbl, \n",
    "        (:DepDelay, :ArrDelay) => p -> Float64(p.DepDelay - p.ArrDelay))\n",
    "    # return\n",
    "    XY\n",
    "end"
   ]
  },
  {
   "cell_type": "code",
   "execution_count": 15,
   "metadata": {},
   "outputs": [
    {
     "data": {
      "text/plain": [
       "sumXy (generic function with 1 method)"
      ]
     },
     "execution_count": 15,
     "metadata": {},
     "output_type": "execute_result"
    }
   ],
   "source": [
    "#Pkg.add(\"JuliaDB\")\n",
    "using JuliaDB\n",
    "using SweepOperator\n",
    "function sumXy(year1, year2)\n",
    "    sumxx = zeros(25, 25)\n",
    "    sumxy = zeros(25, 1)\n",
    "    sumyy = 0\n",
    "    n = 0\n",
    "    for i in year1: year2\n",
    "        file = \"$i.csv\"\n",
    "        yrtable = loadtable(\n",
    "            file, \n",
    "        datacols = [\"DepDelay\", \"ArrDelay\", \"UniqueCarrier\", \"Distance\"])\n",
    "        yrtable = dropna(yrtable)\n",
    "        xy = generate_xy(yrtable)\n",
    "        X = xy[:, 1:25]\n",
    "        y = xy[:, 26]\n",
    "        x_x = At_mul_B(X, X)\n",
    "        x_y = At_mul_B(X, y)\n",
    "        y_y = At_mul_B(y, y)\n",
    "        sumxx = sumxx + x_x\n",
    "        sumxy = sumxy + x_y\n",
    "        sumyy = sumyy + y_y\n",
    "        n = n + countlines(file)\n",
    "    end\n",
    "    G = [sumxx sumxy; sumxy' sumyy]\n",
    "    tableau = sweep!(G, 1:25)\n",
    "    # beta\n",
    "    beta = tableau[1:25, end]\n",
    "    # standard error\n",
    "    sigma = - diag(tableau[1:25, 1:25])\n",
    "    # Variance \n",
    "    var = (tableau[end, end]) / (n - 1)\n",
    "    return beta, var, sigma \n",
    "end"
   ]
  },
  {
   "cell_type": "code",
   "execution_count": 16,
   "metadata": {},
   "outputs": [
    {
     "name": "stdout",
     "output_type": "stream",
     "text": [
      "191.557238 seconds (760.53 M allocations: 52.225 GiB, 9.14% gc time)\n"
     ]
    },
    {
     "data": {
      "text/plain": [
       "([1.14033, 0.00164935, -0.0118811, -1.8723, -0.5789, -0.938452, -1.42247, -2.57627, 1.16808, -2.19625  …  -1.46395, -3.62506, -0.00722279, -0.40365, -3.5774, -1.14816, -0.883753, 2.74855, -2.56721, -0.202211], 200.1913490791941, [2.00254e-6, 9.38376e-14, 2.32165e-11, 2.27349e-6, 1.3304e-5, 3.06651e-6, 3.2857e-6, 2.57756e-6, 3.47597e-6, 2.29503e-6  …  2.32619e-6, 2.36976e-6, 2.68936e-6, 2.31357e-6, 6.88248e-6, 2.35592e-6, 2.36834e-6, 2.14112e-6, 2.41944e-6, 3.19909e-6])"
      ]
     },
     "execution_count": 16,
     "metadata": {},
     "output_type": "execute_result"
    }
   ],
   "source": [
    "@time beta, var, sigma = sumXy(2003, 2008)"
   ]
  },
  {
   "cell_type": "code",
   "execution_count": 166,
   "metadata": {},
   "outputs": [
    {
     "data": {
      "text/plain": [
       "25-element Array{Float64,1}:\n",
       "  1.14033   \n",
       "  0.00164935\n",
       " -0.0118811 \n",
       " -1.8723    \n",
       " -0.5789    \n",
       " -0.938452  \n",
       " -1.42247   \n",
       " -2.57627   \n",
       "  1.16808   \n",
       " -2.19625   \n",
       "  1.03932   \n",
       " -2.15207   \n",
       " -1.35247   \n",
       " -1.87248   \n",
       " -0.350758  \n",
       " -1.46395   \n",
       " -3.62506   \n",
       " -0.00722279\n",
       " -0.40365   \n",
       " -3.5774    \n",
       " -1.14816   \n",
       " -0.883753  \n",
       "  2.74855   \n",
       " -2.56721   \n",
       " -0.202211  "
      ]
     },
     "execution_count": 166,
     "metadata": {},
     "output_type": "execute_result"
    }
   ],
   "source": [
    "beta"
   ]
  },
  {
   "cell_type": "code",
   "execution_count": 167,
   "metadata": {},
   "outputs": [
    {
     "data": {
      "text/plain": [
       "25-element Array{Float64,1}:\n",
       " -2.00254e-6 \n",
       " -9.38376e-14\n",
       " -2.32165e-11\n",
       " -2.27349e-6 \n",
       " -1.3304e-5  \n",
       " -3.06651e-6 \n",
       " -3.2857e-6  \n",
       " -2.57756e-6 \n",
       " -3.47597e-6 \n",
       " -2.29503e-6 \n",
       " -2.59073e-6 \n",
       " -4.98673e-6 \n",
       " -2.78704e-6 \n",
       " -5.65057e-6 \n",
       " -3.75159e-6 \n",
       " -2.32619e-6 \n",
       " -2.36976e-6 \n",
       " -2.68936e-6 \n",
       " -2.31357e-6 \n",
       " -6.88248e-6 \n",
       " -2.35592e-6 \n",
       " -2.36834e-6 \n",
       " -2.14112e-6 \n",
       " -2.41944e-6 \n",
       " -3.19909e-6 "
      ]
     },
     "execution_count": 167,
     "metadata": {},
     "output_type": "execute_result"
    }
   ],
   "source": [
    "sigma"
   ]
  },
  {
   "cell_type": "code",
   "execution_count": 168,
   "metadata": {},
   "outputs": [
    {
     "data": {
      "text/plain": [
       "1.699551377525901e7"
      ]
     },
     "execution_count": 168,
     "metadata": {},
     "output_type": "execute_result"
    }
   ],
   "source": [
    "var"
   ]
  },
  {
   "cell_type": "markdown",
   "metadata": {},
   "source": [
    "* Another method to get $\\beta$: "
   ]
  },
  {
   "cell_type": "code",
   "execution_count": 17,
   "metadata": {},
   "outputs": [
    {
     "data": {
      "text/plain": [
       "sumXy1 (generic function with 1 method)"
      ]
     },
     "execution_count": 17,
     "metadata": {},
     "output_type": "execute_result"
    }
   ],
   "source": [
    "using JuliaDB\n",
    "using SweepOperator\n",
    "function sumXy1(year1, year2)\n",
    "    sumxx = zeros(25, 25)\n",
    "    sumxy = zeros(25, 1)\n",
    "    sumyy = 0\n",
    "    for i in year1: year2\n",
    "        file = \"$i.csv\"\n",
    "        yrtable = loadtable(\n",
    "            file, \n",
    "        datacols = [\"DepDelay\", \"ArrDelay\", \"UniqueCarrier\", \"Distance\"])\n",
    "        yrtable = dropna(yrtable)\n",
    "        xy = generate_xy(yrtable)\n",
    "        X = xy[:, 1:25]\n",
    "        y = xy[:, 26]\n",
    "        x_x = At_mul_B(X, X)\n",
    "        x_y = At_mul_B(X, y)\n",
    "        y_y = At_mul_B(y, y)\n",
    "        sumxx = sumxx + x_x\n",
    "        sumxy = sumxy + x_y\n",
    "        sumyy = sumyy + y_y        \n",
    "    end\n",
    "    beta = inv(sumxx) * sumxy\n",
    "    return sumxx, sumxy, sumyy, beta\n",
    "end"
   ]
  },
  {
   "cell_type": "code",
   "execution_count": 18,
   "metadata": {},
   "outputs": [
    {
     "name": "stdout",
     "output_type": "stream",
     "text": [
      "180.610353 seconds (757.47 M allocations: 51.932 GiB, 9.88% gc time)\n"
     ]
    },
    {
     "data": {
      "text/plain": [
       "([4.14904e7 3.00028e10 … 2.29046e6 822290.0; 3.00028e10 3.51353e13 … 1.23256e9 3.27927e8; … ; 2.29046e6 1.23256e9 … 2.29046e6 0.0; 822290.0 3.27927e8 … 0.0 822290.0], [6.0236e7; 5.75882e10; … ; -1.46404e6; 1.18638e6], 8.723124423e9, [1.14033; 0.00164935; … ; -2.56721; -0.202211])"
      ]
     },
     "execution_count": 18,
     "metadata": {},
     "output_type": "execute_result"
    }
   ],
   "source": [
    "@time sumxx, sumxy, sumyy, beta = sumXy1(2003, 2008)"
   ]
  },
  {
   "cell_type": "code",
   "execution_count": 19,
   "metadata": {},
   "outputs": [
    {
     "data": {
      "text/plain": [
       "25×1 Array{Float64,2}:\n",
       "  1.14033   \n",
       "  0.00164935\n",
       " -0.0118811 \n",
       " -1.8723    \n",
       " -0.5789    \n",
       " -0.938452  \n",
       " -1.42247   \n",
       " -2.57627   \n",
       "  1.16808   \n",
       " -2.19625   \n",
       "  1.03932   \n",
       " -2.15207   \n",
       " -1.35247   \n",
       " -1.87248   \n",
       " -0.350758  \n",
       " -1.46395   \n",
       " -3.62506   \n",
       " -0.00722279\n",
       " -0.40365   \n",
       " -3.5774    \n",
       " -1.14816   \n",
       " -0.883753  \n",
       "  2.74855   \n",
       " -2.56721   \n",
       " -0.202211  "
      ]
     },
     "execution_count": 19,
     "metadata": {},
     "output_type": "execute_result"
    }
   ],
   "source": [
    "beta"
   ]
  },
  {
   "cell_type": "markdown",
   "metadata": {},
   "source": [
    "* The results of beta are same."
   ]
  },
  {
   "cell_type": "markdown",
   "metadata": {},
   "source": [
    "### Q1(4)\n",
    "\n",
    "Go to your resume/cv and claim you have experience performing analytics on data with hundred millions of observations."
   ]
  },
  {
   "cell_type": "markdown",
   "metadata": {},
   "source": [
    "* Will do :)"
   ]
  },
  {
   "cell_type": "markdown",
   "metadata": {},
   "source": [
    "## Q2 - Google PageRank\n",
    "\n",
    "We are going to try different numerical methods learnt in class on the [Google PageRank problem](https://en.wikipedia.org/wiki/PageRank)."
   ]
  },
  {
   "cell_type": "markdown",
   "metadata": {},
   "source": [
    "### Q2(1)\n",
    "\n",
    "Let $\\mathbf{A} \\in \\{0,1\\}^{n \\times n}$ be the connectivity matrix of $n$ web pages with entries\n",
    "$$\n",
    "\\begin{eqnarray*}\n",
    "\ta_{ij}= \\begin{cases}\n",
    "\t1 & \\text{if page $i$ links to page $j$} \\\\\n",
    "\t0 & \\text{otherwise}\n",
    "\t\\end{cases}.\n",
    "\\end{eqnarray*}\n",
    "$$\n",
    "$r_i = \\sum_j a_{ij}$ is the out-degree of page $i$. That is $r_i$ is the number of links on page $i$. Imagine a random surfer exploring the space of $n$ pages according to the following rules.  \n",
    "\n",
    "- From a page $i$ with $r_i>0$\n",
    "    * with probability $p$, (s)he randomly chooses a link on page $i$ (uniformly) and follows that link to the next page  \n",
    "    * with probability $1-p$, (s)he randomly chooses one page from the set of all $n$ pages (uniformly) and proceeds to that page  \n",
    "- From a page $i$ with $r_i=0$ (a dangling page), (s)he randomly chooses one page from the set of all $n$ pages (uniformly) and proceeds to that page  \n",
    "    \n",
    "The process defines a Markov chain on the space of $n$ pages. Write the transition matrix $\\mathbf{P}$ of the Markov chain as a sparse matrix plus rank 1 matrix."
   ]
  },
  {
   "cell_type": "markdown",
   "metadata": {},
   "source": [
    "#### Q2 (1) Answer: \n",
    "\n",
    "For a page $i$ with $r_i>0$ (there are $r_i$ outgoing links),\n",
    "- if there is link from page i to page j, then $p_{ij} = p a_{ij} / r_i + (1-p) / n $ ($a_{ij}=1$).\n",
    "- if there is no link between page i and page j, then $p_{ij} = (1-p) / n = p a_{ij} / r_i + (1-p) / n $ ($a_{ij}=0$).\n",
    "- Hence for the case of $r_i>0$,  $p_{ij} = p a_{ij} / r_i + (1-p) / n $.\n",
    "\n",
    "For a page $i$ with $r_i=0$ (there is no link), \n",
    "- the probability will be probability that randomly select a page from $n$ pages, then $p_{ij} = 1 / n  $.\n",
    "\n",
    "Therefore, \n",
    "$$ p_{ij} = \\begin{cases} p a_{ij} / r_i + (1-p) / n & r_i > 0 \\\\ 1/n & r_i = 0 \\end{cases}. $$ \n",
    "\n",
    "To write the transition matrix $\\mathbf{P}$,\n",
    "\n",
    "Let $$ r_i^* = \\begin{cases} p/r_i & r_i > 0 \\\\ 0 & r_i = 0 \\end{cases} $$\n",
    "\n",
    "and let $\\mathbf{z} \\in \\mathbf{R}^n$ be $$ z_i = \\begin{cases} (1-p)/n & r_i > 0 \\\\ 1/n & r_i = 0 \\end{cases}. $$\n",
    "\n",
    "Then the transition matrix $\\mathbf{P}$ can be written as:\n",
    "$$ \\mathbf{P} = \\text{diag}(\\mathbf{r}^*) * \\mathbf{A} + \\mathbf{z} \\mathbf{1}_n^T, $$ "
   ]
  },
  {
   "cell_type": "markdown",
   "metadata": {
    "collapsed": true
   },
   "source": [
    "### Q2(2)\n",
    "\n",
    "According to standard Markov chain theory, the (random) position of the surfer converges to the stationary distribution $\\mathbf{x} = (x_1,\\ldots,x_n)^T$ of the Markov chain. $x_i$ has the natural interpretation of the proportion of times the surfer visits page $i$ in the long run. Therefore $\\mathbf{x}$ serves as page ranks: a higher $x_i$ means page $i$ is more visited. It is well-known that $\\mathbf{x}$ is the left eigenvector corresponding to the top eigenvalue 1 of the transition matrix $\\mathbf{P}$. That is $\\mathbf{P}^T \\mathbf{x} = \\mathbf{x}$. Therefore $\\mathbf{x}$ can be solved as an eigen-problem. Show that it can also be cast as solving a linear system. Since the row sums of $\\mathbf{P}$ are 1, $\\mathbf{P}$ is rank deficient. We can replace the first equation by the $\\sum_{i=1}^n x_i = 1$."
   ]
  },
  {
   "cell_type": "markdown",
   "metadata": {},
   "source": [
    "#### Q2 (2) Answer: \n",
    "\n",
    "Since $\\mathbf{x}$ is the left eigenvector corresponding to the top eigenvalue 1 of the transition matrix $\\mathbf{P}$, \n",
    "\n",
    "$$\\mathbf{P}^T \\mathbf{x} = \\mathbf{x}$$\n",
    "\n",
    "$$\\mathbf{P}^T \\mathbf{x} - \\mathbf{x} = \\mathbf{0}_n $$\n",
    "\n",
    "$$(\\mathbf{P}^T - \\mathbf{I}_n)* \\mathbf{x} = \\mathbf{0}_n $$\n",
    "\n",
    "Because the column sum of $\\mathbf{P}^T$ is $\\mathbf{1}$, the column sums of $(\\mathbf{P}^T - \\mathbf{I}_n)$ are $\\mathbf{0}$. It implies that the rank of $(\\mathbf{P}^T - \\mathbf{I}_n)$ is not full, but $n-1$, and one equation can be derived by the remaining $n-1$ equations. Therefore we can replace the first equation by $\\sum_{i=1}^n x_i = 1$.\n"
   ]
  },
  {
   "cell_type": "markdown",
   "metadata": {},
   "source": [
    "### Q2(3)\n",
    "\n",
    "Download the [`ucla.zip`](http://hua-zhou.github.io/teaching/biostatm280-2018spring/hw/hw3/ucla.zip) package from course webpage. Unzip the package, which contains two files `U.txt` and `A.txt`. `U.txt` lists the 500 URL names. `A.txt` is the $500 \\times 500$ connectivity matrix. Read data into Julia. Compute summary statistics:\n",
    "* number of pages\n",
    "* number of edges\n",
    "* number of dangling nodes (pages with no out links)\n",
    "* which page has max in-degree?\n",
    "* which page has max out-degree?\n",
    "* visualize the sparsity pattern of $\\mathbf{A}$"
   ]
  },
  {
   "cell_type": "code",
   "execution_count": 22,
   "metadata": {},
   "outputs": [
    {
     "data": {
      "text/plain": [
       "500-element Array{String,1}:\n",
       " \"http://www.ucla.edu\"                                                                                                                     \n",
       " \"http://4393665.fls.doubleclick.net/activityi;src=4393665;type=Prima0;cat=UCLAe0;ord=\"                                                    \n",
       " \"http://www.atmos.ucla.edu/weather/quick-look\"                                                                                            \n",
       " \"http://bit.ly/10Wf0Te\"                                                                                                                   \n",
       " \"http://bit.ly/1NMd3KF\"                                                                                                                   \n",
       " \"http://bit.ly/1JTGEHi\"                                                                                                                   \n",
       " \"http://bit.ly/1JTGEHj\"                                                                                                                   \n",
       " \"http://bit.ly/1JTGEHk\"                                                                                                                   \n",
       " \"http://bit.ly/1TooUWd\"                                                                                                                   \n",
       " \"http://bit.ly/1Sm3c4v\"                                                                                                                   \n",
       " \"http://bit.ly/1OV2jxs\"                                                                                                                   \n",
       " \"http://newsroom.ucla.edu/stories/international-olympic-committee-president-tours-facilities-at-ucla\"                                     \n",
       " \"http://newsroom.ucla.edu/releases/chemical-used-to-replace-bpa-in-plastic-accelerates-embryonic-development-disrupts-reproductive-system\"\n",
       " ⋮                                                                                                                                         \n",
       " \"http://schema.org/audio\"                                                                                                                 \n",
       " \"http://schema.org/AudioObject\"                                                                                                           \n",
       " \"http://schema.org/author\"                                                                                                                \n",
       " \"http://schema.org/Organization\"                                                                                                          \n",
       " \"http://schema.org/award\"                                                                                                                 \n",
       " \"http://schema.org/character\"                                                                                                             \n",
       " \"http://schema.org/citation\"                                                                                                              \n",
       " \"http://schema.org/CreativeWork\"                                                                                                          \n",
       " \"http://schema.org/comment\"                                                                                                               \n",
       " \"http://schema.org/Comment\"                                                                                                               \n",
       " \"http://schema.org/commentCount\"                                                                                                          \n",
       " \"http://schema.org/contentLocation\"                                                                                                       "
      ]
     },
     "execution_count": 22,
     "metadata": {},
     "output_type": "execute_result"
    }
   ],
   "source": [
    "# Read in A.txt\n",
    "A = readcsv(\"ucla/A.txt\")\n",
    "# If the page i in linked in page i itself, delete\n",
    "for i in 1:size(A, 1)\n",
    "    A[i, i] = 0.0\n",
    "end\n",
    "# sparse matrix\n",
    "A = sparse(A)\n",
    "U = vec(readdlm(\"ucla/U.txt\", '\\n', String))"
   ]
  },
  {
   "cell_type": "code",
   "execution_count": 23,
   "metadata": {},
   "outputs": [
    {
     "data": {
      "text/plain": [
       "500"
      ]
     },
     "execution_count": 23,
     "metadata": {},
     "output_type": "execute_result"
    }
   ],
   "source": [
    "# pages\n",
    "n = size(A, 1)"
   ]
  },
  {
   "cell_type": "code",
   "execution_count": 24,
   "metadata": {},
   "outputs": [
    {
     "data": {
      "text/plain": [
       "10853"
      ]
     },
     "execution_count": 24,
     "metadata": {},
     "output_type": "execute_result"
    }
   ],
   "source": [
    "# edges\n",
    "countnz(A)"
   ]
  },
  {
   "cell_type": "code",
   "execution_count": 25,
   "metadata": {},
   "outputs": [
    {
     "data": {
      "text/plain": [
       "103"
      ]
     },
     "execution_count": 25,
     "metadata": {},
     "output_type": "execute_result"
    }
   ],
   "source": [
    "# dangling nodes (pages with no out links)?\n",
    "outdeg = sum(A, 2)\n",
    "countnz(outdeg .< 1)"
   ]
  },
  {
   "cell_type": "code",
   "execution_count": 26,
   "metadata": {},
   "outputs": [
    {
     "name": "stdout",
     "output_type": "stream",
     "text": [
      "U[idxideg] = \"http://www.ucla.edu\"\n",
      "indeg[idxideg] = 171.0\n"
     ]
    },
    {
     "data": {
      "text/plain": [
       "171.0"
      ]
     },
     "execution_count": 26,
     "metadata": {},
     "output_type": "execute_result"
    }
   ],
   "source": [
    "# page has max in-degree?\n",
    "indeg = sum(A, 1)\n",
    "idxideg = indmax(indeg)\n",
    "@show U[idxideg]\n",
    "@show indeg[idxideg]"
   ]
  },
  {
   "cell_type": "code",
   "execution_count": 27,
   "metadata": {},
   "outputs": [
    {
     "name": "stdout",
     "output_type": "stream",
     "text": [
      "U[idxodeg] = \"http://giveto.ucla.edu\"\n",
      "outdeg[idxodeg] = 87.0\n"
     ]
    }
   ],
   "source": [
    "# page has max out-degree?\n",
    "idxodeg = indmax(outdeg)\n",
    "@show U[idxodeg]\n",
    "@show outdeg[idxodeg];"
   ]
  },
  {
   "cell_type": "code",
   "execution_count": 30,
   "metadata": {},
   "outputs": [
    {
     "data": {
      "image/svg+xml": [
       "<?xml version=\"1.0\" encoding=\"utf-8\"?>\n",
       "<svg xmlns=\"http://www.w3.org/2000/svg\" xmlns:xlink=\"http://www.w3.org/1999/xlink\" width=\"600\" height=\"400\" viewBox=\"0 0 600 400\">\n",
       "<defs>\n",
       "  <clipPath id=\"clip2000\">\n",
       "    <rect x=\"0\" y=\"0\" width=\"600\" height=\"400\"/>\n",
       "  </clipPath>\n",
       "</defs>\n",
       "<polygon clip-path=\"url(#clip2000)\" points=\"\n",
       "0,400 600,400 600,0 0,0 \n",
       "  \" fill=\"#ffffff\" fill-opacity=\"1\"/>\n",
       "<defs>\n",
       "  <clipPath id=\"clip2001\">\n",
       "    <rect x=\"120\" y=\"0\" width=\"421\" height=\"400\"/>\n",
       "  </clipPath>\n",
       "</defs>\n",
       "<polygon clip-path=\"url(#clip2000)\" points=\"\n",
       "126.039,375.869 490.096,375.869 490.096,11.811 126.039,11.811 \n",
       "  \" fill=\"#ffffff\" fill-opacity=\"1\"/>\n",
       "<defs>\n",
       "  <clipPath id=\"clip2002\">\n",
       "    <rect x=\"126\" y=\"11\" width=\"365\" height=\"365\"/>\n",
       "  </clipPath>\n",
       "</defs>\n",
       "<polyline clip-path=\"url(#clip2000)\" style=\"stroke:#000000; stroke-width:1; stroke-opacity:1; fill:none\" points=\"\n",
       "  126.039,375.869 490.096,375.869 \n",
       "  \"/>\n",
       "<polyline clip-path=\"url(#clip2000)\" style=\"stroke:#000000; stroke-width:1; stroke-opacity:1; fill:none\" points=\"\n",
       "  126.039,11.811 126.039,375.869 \n",
       "  \"/>\n",
       "<polyline clip-path=\"url(#clip2000)\" style=\"stroke:#000000; stroke-width:1; stroke-opacity:1; fill:none\" points=\"\n",
       "  198.486,375.869 198.486,370.408 \n",
       "  \"/>\n",
       "<polyline clip-path=\"url(#clip2000)\" style=\"stroke:#000000; stroke-width:1; stroke-opacity:1; fill:none\" points=\"\n",
       "  271.298,375.869 271.298,370.408 \n",
       "  \"/>\n",
       "<polyline clip-path=\"url(#clip2000)\" style=\"stroke:#000000; stroke-width:1; stroke-opacity:1; fill:none\" points=\"\n",
       "  344.109,375.869 344.109,370.408 \n",
       "  \"/>\n",
       "<polyline clip-path=\"url(#clip2000)\" style=\"stroke:#000000; stroke-width:1; stroke-opacity:1; fill:none\" points=\"\n",
       "  416.921,375.869 416.921,370.408 \n",
       "  \"/>\n",
       "<polyline clip-path=\"url(#clip2000)\" style=\"stroke:#000000; stroke-width:1; stroke-opacity:1; fill:none\" points=\"\n",
       "  489.732,375.869 489.732,370.408 \n",
       "  \"/>\n",
       "<polyline clip-path=\"url(#clip2000)\" style=\"stroke:#000000; stroke-width:1; stroke-opacity:1; fill:none\" points=\"\n",
       "  126.039,84.2585 131.499,84.2585 \n",
       "  \"/>\n",
       "<polyline clip-path=\"url(#clip2000)\" style=\"stroke:#000000; stroke-width:1; stroke-opacity:1; fill:none\" points=\"\n",
       "  126.039,157.07 131.499,157.07 \n",
       "  \"/>\n",
       "<polyline clip-path=\"url(#clip2000)\" style=\"stroke:#000000; stroke-width:1; stroke-opacity:1; fill:none\" points=\"\n",
       "  126.039,229.882 131.499,229.882 \n",
       "  \"/>\n",
       "<polyline clip-path=\"url(#clip2000)\" style=\"stroke:#000000; stroke-width:1; stroke-opacity:1; fill:none\" points=\"\n",
       "  126.039,302.693 131.499,302.693 \n",
       "  \"/>\n",
       "<polyline clip-path=\"url(#clip2000)\" style=\"stroke:#000000; stroke-width:1; stroke-opacity:1; fill:none\" points=\"\n",
       "  126.039,375.505 131.499,375.505 \n",
       "  \"/>\n",
       "<g clip-path=\"url(#clip2000)\">\n",
       "<text style=\"fill:#000000; fill-opacity:1; font-family:Arial,Helvetica Neue,Helvetica,sans-serif; font-size:12; text-anchor:middle;\" transform=\"rotate(0, 198.486, 389.669)\" x=\"198.486\" y=\"389.669\">100</text>\n",
       "</g>\n",
       "<g clip-path=\"url(#clip2000)\">\n",
       "<text style=\"fill:#000000; fill-opacity:1; font-family:Arial,Helvetica Neue,Helvetica,sans-serif; font-size:12; text-anchor:middle;\" transform=\"rotate(0, 271.298, 389.669)\" x=\"271.298\" y=\"389.669\">200</text>\n",
       "</g>\n",
       "<g clip-path=\"url(#clip2000)\">\n",
       "<text style=\"fill:#000000; fill-opacity:1; font-family:Arial,Helvetica Neue,Helvetica,sans-serif; font-size:12; text-anchor:middle;\" transform=\"rotate(0, 344.109, 389.669)\" x=\"344.109\" y=\"389.669\">300</text>\n",
       "</g>\n",
       "<g clip-path=\"url(#clip2000)\">\n",
       "<text style=\"fill:#000000; fill-opacity:1; font-family:Arial,Helvetica Neue,Helvetica,sans-serif; font-size:12; text-anchor:middle;\" transform=\"rotate(0, 416.921, 389.669)\" x=\"416.921\" y=\"389.669\">400</text>\n",
       "</g>\n",
       "<g clip-path=\"url(#clip2000)\">\n",
       "<text style=\"fill:#000000; fill-opacity:1; font-family:Arial,Helvetica Neue,Helvetica,sans-serif; font-size:12; text-anchor:middle;\" transform=\"rotate(0, 489.732, 389.669)\" x=\"489.732\" y=\"389.669\">500</text>\n",
       "</g>\n",
       "<g clip-path=\"url(#clip2000)\">\n",
       "<text style=\"fill:#000000; fill-opacity:1; font-family:Arial,Helvetica Neue,Helvetica,sans-serif; font-size:12; text-anchor:end;\" transform=\"rotate(0, 120.039, 88.7585)\" x=\"120.039\" y=\"88.7585\">100</text>\n",
       "</g>\n",
       "<g clip-path=\"url(#clip2000)\">\n",
       "<text style=\"fill:#000000; fill-opacity:1; font-family:Arial,Helvetica Neue,Helvetica,sans-serif; font-size:12; text-anchor:end;\" transform=\"rotate(0, 120.039, 161.57)\" x=\"120.039\" y=\"161.57\">200</text>\n",
       "</g>\n",
       "<g clip-path=\"url(#clip2000)\">\n",
       "<text style=\"fill:#000000; fill-opacity:1; font-family:Arial,Helvetica Neue,Helvetica,sans-serif; font-size:12; text-anchor:end;\" transform=\"rotate(0, 120.039, 234.382)\" x=\"120.039\" y=\"234.382\">300</text>\n",
       "</g>\n",
       "<g clip-path=\"url(#clip2000)\">\n",
       "<text style=\"fill:#000000; fill-opacity:1; font-family:Arial,Helvetica Neue,Helvetica,sans-serif; font-size:12; text-anchor:end;\" transform=\"rotate(0, 120.039, 307.193)\" x=\"120.039\" y=\"307.193\">400</text>\n",
       "</g>\n",
       "<g clip-path=\"url(#clip2000)\">\n",
       "<text style=\"fill:#000000; fill-opacity:1; font-family:Arial,Helvetica Neue,Helvetica,sans-serif; font-size:12; text-anchor:end;\" transform=\"rotate(0, 120.039, 380.005)\" x=\"120.039\" y=\"380.005\">500</text>\n",
       "</g>\n",
       "<polyline clip-path=\"url(#clip2002)\" style=\"stroke:#000000; stroke-width:1; stroke-opacity:1; fill:none\" points=\"\n",
       "  126.039,11.811 490.096,11.811 \n",
       "  \"/>\n",
       "<polyline clip-path=\"url(#clip2002)\" style=\"stroke:#000000; stroke-width:1; stroke-opacity:1; fill:none\" points=\"\n",
       "  490.096,11.811 490.096,375.869 \n",
       "  \"/>\n",
       "<g clip-path=\"url(#clip2002)\">\n",
       "<image width=\"364\" height=\"364\" xlink:href=\"data:image/png;base64,\n",
       "iVBORw0KGgoAAAANSUhEUgAAAWwAAAFsCAYAAADon4O5AAAMY0lEQVR4nO3d626jOhQGUDLq+79y\n",
       "zo9RNBwKwYBv215LqhqlaUgb87GzMbAsAAAwqPfDn99a1k/GJwWYzXtZllfCY7Is60+mJwKgjNeS\n",
       "t2IHmMp7873GshYVNsB9Z+2QI7eCXmAD3Pekwr78uwIb4L67FfbZ7+6G+ZOF9SZlby1ADp+8Ocqd\n",
       "9f1XKmk7GAEys9MRIJicn+pPw19gA/ThNPwFNsB9VfvNAhsgvyJBLrAB8nva2zZTBCCTp4F65ffN\n",
       "EgHI4G5wn8233v2ZwAYIQmADADCsmjsF7YAEeKDmJcIAeKDmuUQAeKBJUNvpCHDfUXA70hEgiCLn\n",
       "5h8psPWSgKGNFNgAQxPYAAAMyyyRh/SwgdrkDgDQnooEbvqzWIEAYBo2+lBJiZXNCgwAHbKBBr4S\n",
       "EsBUPheCzHmikk+QFjn5CV3b24gaBxBIqUq45mXmAbpQOrgEI6UZYwBAX3JUJ++dr9LLhGX5PZaM\n",
       "LQCgrdZ78LczVK5WR61fP9flnpUE0+jx9KpW5rF5f0n13tzudcZZNT0GNsAVTwM3TBEhsIHoUgM3\n",
       "TCV9RGADswhTSR9p+QfsHcJupyNw1TQ7sltW2FP8g/kl/MdSHinx/k+TJT22RKb550/K+zu3K+9/\n",
       "7lki4YsFLRGAIHpsiQhhYFnqzcMOo8eWyPRvyuC8v6R6bW5PX8y1DGwr7pymX+moZriM0RIBRrFt\n",
       "mwyXJT22RADu+lz2cEgCGxjF0GG9LAIbGMfQYb0sy/LT+gXsGP6fPrlpDiOmuuHHlVki1Db8SkV1\n",
       "02SJlgjQs5QwnqYI6HFaH2ObphoiCzmxoiVCbVZAcpgyP7REgIim3PD32BKZ8o0Aftme/Gl6Kmwg\n",
       "guEPigFgIK3bD9uDKFzAYHwOnAGAAbhQwRc9XCLsCZUaAAAAENzVFok+F4zD+pzAPGygB+ZZJxDY\n",
       "QC9MIkjwdKt2dvjoO/FxT5b/7Sv38gCaUGEDBCGwAYIQ2ABBtG7y751L5Mre4tavHyhnnQ+fTHiy\n",
       "zjuPDUBGziUCwBhybM2OptOVXCYsy++xZGwxrE+/uEZfp4f+Ua8r87ZPl/JYYDI/rV8A0LUnRU7N\n",
       "gnAKpvUBJTg3SAECG8hNWBcisIGchHVBeth9MdjpzVn/ea9HrWddiMDui7CmNylj8uwIZQGeicDu\n",
       "iwqb3uydOiLlsRSghw2kSmmPUJDABnJRYRcmsAGCENgAQQhsgCAENkAQAhsgCIENpHon3AYAAAAA\n",
       "AAAAAAAAgG5EPh3i2cnUS/8+XFXjAJPUMf15LWcXzbCOdGbWo5Rm/buB55rkR+StpwqbaHqqsNdU\n",
       "2EE4lwiMb++8Hz5hEooBC4QS+arpWhpE06ol8v7ys/XPU58PLlMhA1OJXGE/pUKntpY7Hb+NdxV2\n",
       "EHY6whwE7wAENoxJy3BAAhvGpKIekMAGCEJgw5zei7ZJODPPEoHRXGmDaJkEpMKGMZydde/sdz9f\n",
       "yyLMu6XChviehPXec62/0xGBDeXUODgrR1g7cCYILREop/ewttMxGIENMeWorFXPwQhsiCdnz5pA\n",
       "BDbEIqwnJrAhjlJhbVpfEGaJQAwlK+vt86rgO6XChv6Vng2iwg5ChQ19uxPW2/nfZwGswg5ChQ39\n",
       "ultZp1TITv4UkMCmJgGRrlTPen1BXq2PYAQ2NQmINCV3MK7fAxvQYAQ29KXmPGsb0GAENvTDQTF8\n",
       "JbChD8KaU7UC20CEY8KaJLUCW68M9glrkmmJQDvCGgAAAAAA4IsaO1LsrKGmvTPaGYMAAAAAAADQ\n",
       "gB11AEA1Cg8AAKAhH0mAqThPNfzf1UIgdR16X3gsVOXQdEazd2g6DMFgZgbGOQAAAJBIGwEmZMUn\n",
       "EuOVbhmcAAAAAAAAAAC9eW++nz1275wKe18pyzy7j30p/+Oa7o6dEowthpZzMD8J7DvLAvpnXc3k\n",
       "teQ97ePnjXEaSVq6EhCfsWrsMp3UFcUWFwCAMWmJMKKUT3DrsW/cEsKf1i8AGliH9JpWHV0T2Mzm\n",
       "KKyhewKbmQhrQhPYjO61+v7e3L/tWeth0zWBzei2OxbX96u2CUVgMzptEIZRK7CvnK+EMbWoaIU1\n",
       "Q/mptJzX5jvzafHeC2uGoiVCb3KErMIAAGhne6ayEs8NQGZPQvvqBQyYz/vgdmSj/B0EoYdNLa+D\n",
       "25GN8ncQSNQqIerrBuiCEAUAgBJV8Z3nVJ3HtT6S1c5nRrId2+v7qqt1pGMKO3DiSnnvXNWFiPaO\n",
       "0m42htcLfnKpsL0tjhUTICPT+gCCENgAQQhsgCAENkAQAhsgCIENEITABgii9jUdAQAAADqQ49D0\n",
       "o3aHQ9MBMrLTkVpaXiIs5Sxr9rPQPSd/AvjrSQZW8Vqev8h1WL8Wp9Gc2ZWxVLKiNfYAAO7QcwSA\n",
       "QmxkGYFxDAAAAFBPrulP5mEDAAAAAAA9Mi8VAAAAAG57L1psh1zAACCQp1uzsyuJ7F3tI+cWdL1F\n",
       "fu985V4eQBMqbAAAAGBSV/u728f30sM++sq9PIAm7vSwnYVvDqZXQWd+Wr8AumXDDABwV+rH3qPH\n",
       "6WGPQxsEKEKwAADQp5RK9dtjtETi8/+BIK4Gdmp4lyZk+DAWmMJr+TvYn0zhWv/+3nN97jt73JPl\n",
       "f5Pjb+xRrpAa7f8CwzIPOy5BC5Nxtj4AAADqsUOTroxyxRnT+oCh6WEDBCGwucInFWhIYHOFqYQA\n",
       "ACnsdAQIQEsEIAiBDQDs0p6CB/SwAQLQEgEIovW82u15qtfnzk7R+vUD5WzPob8s1nktEYAIXMAg\n",
       "NledgYkI7NgELUzETkcAAABgQp8pdDV6obWWc/YaerSd2rj3c9OaYHK5e9i9BmJkV+al3+V9AwDI\n",
       "RUukD3stkaPKuvX/EGjEtL4+1WiDAABQgpZIH85miRw9FnrXw3o/jJlaIr2GNYxMWAMAAAAAAAAA\n",
       "wCXmYffBPGyi6WF9ns5M87BbM7gZxSesUwqgXoukkAR2HSmD28Amitfme8pjyUBgl5daiRjYwFcC\n",
       "uyxn3QOyEdjl3Alr4c5ojOmMBHYZdytrbRFGY0xnJLDz0wZhNHvj2RhvQGDn9SSsrQD0aq9K/txn\n",
       "3FYksPN5Wln76EhExm1FAjsPbRBm9T64TQEC+zlhzcxeB7cpQGA/I6yZmbFfmcC+T1gzOxV1ZQL7\n",
       "HmHNbIz3Dgjs64Q1M1JNd0BgX1MyrG0EiMi4rUhgpytdWatgiGK9Hhi3FQnsNNog8M9RSFtHChPY\n",
       "54Q1pFFtFyawvxPWQDcE9jFhDXRFYO8T1kB3BPZvwhroksD+v9ZhbUPBaIzpjAT2P63D+vMaYCTG\n",
       "dEYC+68ewhrgK4EtrOGu92LdAQAAAGAcel0AAIzvM0OixlzJWss5ew09S5mx0vp/CHBZ7+HLb94z\n",
       "eOjpSvQ+uL297+xxd5d99pVzeQDNRD9w5qw9oH1QZkMJNBA9sL9xBONfr4PbQDCjBrawBoYzYmAL\n",
       "a2BIowW2sAaGpacJcF2TwnAd2E8ObNl78TYGrPVw4BR8cyWEjWWARkK0UnMcmr7+/b3n+tx39rgn\n",
       "y09hiwgAQHmtq85tpb2uxr+pedIqoI3tp/Jlyb/Ol3reIiJO6zN1D1i7mwefDUKIsF6WeIEtrIGt\n",
       "1MDdnlcnTFB/tHzBex9FvoXxXliH+4cD2V0J35BB/dGywj76p+3dr7KG+Wwr4qMMSAngz++HDetl\n",
       "idESEdbAXetP8qHDeln6b4mchXX4NwAoItTsj1Q/DZd9FMbrKXsqayDFFPu3Wgb2URgLa+DjW995\n",
       "/bMhA3qrxx62sAZSTBHSa70FtrAG1vZC+duMEQBor/VHiqNzBTgDH+A8+xstdzpufYLaR52xhT94\n",
       "gSqMEwAAyMGn7C9c0xEAAHK6UgWfHXF09fn2nvPqUY6qeLbsrOpXynrtvftitktt9dob205tTHks\n",
       "1JBjnTFmAZjLlcru7nMDAMA8nkzjS7n8vIsPAGQy205HOFNyx7T1jEdynEtkW20blLT2JHSNX7qV\n",
       "6+RPe2faM/Dnk7rBLj290thjWLXnJvc6F5o6vP8AwNhK7HTUEpnD3vvsJGBQUE8XMGBc6yAX4HCT\n",
       "wKY0M4cgo6c7gd4Ht7f3nT3uyfLfm9vb57ej67n3cvz/BSoYqcI+CmnV3XOqZOjAn9YvgBCENXRg\n",
       "pAqb5+wchI4JbJZF+whCENhx5dzxJ6ghAIEdk52AMCE7HeMR1jCp6IGd0hYYbc6wsIZJtVz5XY0Z\n",
       "4IKSlwg7C2RhCwAAADTyHw8376M1nBsKAAAAAElFTkSuQmCC\n",
       "\" transform=\"translate(126, 12)\"/>\n",
       "</g>\n",
       "</svg>\n"
      ]
     },
     "execution_count": 30,
     "metadata": {},
     "output_type": "execute_result"
    }
   ],
   "source": [
    "#Pkg.add(\"GR\")\n",
    "using Plots, GR\n",
    "#plotly()\n",
    "gr()\n",
    "spy(A)"
   ]
  },
  {
   "cell_type": "markdown",
   "metadata": {},
   "source": [
    "### Q2(4)\n",
    "\n",
    "Set the _teleportation_ parameter at $p = 0.85$. Try the following methods to solve for $\\mathbf{x}$ using the `ucla.zip` data.\n",
    "\n",
    "0. A dense linear system solver such as LU decomposition.  \n",
    "0. A simple iterative linear system solver such as Jacobi or Gauss-Seidel.   \n",
    "0. A dense eigen-solver.  \n",
    "0. A simple iterative eigen-solver such as the power method.  \n",
    "\n",
    "For iterative methods, you can use the [`IterativeSolvers.jl`](https://github.com/JuliaMath/IterativeSolvers.jl) package. Make sure to utilize the special structure of $\\mathbf{P}$ (sparse + rank 1) to speed up the matrix-vector multiplication."
   ]
  },
  {
   "cell_type": "markdown",
   "metadata": {},
   "source": [
    "#### 1. A dense linear system solver such as LU decomposition.\n",
    "LU decomposition: \n",
    "$$\\mathbf{A} = \\mathbf{L} \\mathbf{U}, $$\n",
    "where $\\mathbf{L}$ is unit lower triangular and $\\mathbf{U}$ is upper triangular.\n",
    "\n",
    "As mentioned above, since $(\\mathbf{P}^T - \\mathbf{I}_n)$ has rank of $n-1$, and one equation is redundent, we need to replace the first equation by $\\sum_{i=1}^n x_i = 1$."
   ]
  },
  {
   "cell_type": "code",
   "execution_count": 111,
   "metadata": {},
   "outputs": [
    {
     "data": {
      "text/plain": [
       "pagerank_lu (generic function with 2 methods)"
      ]
     },
     "execution_count": 111,
     "metadata": {},
     "output_type": "execute_result"
    }
   ],
   "source": [
    "function pagerank_lu(A::AbstractMatrix, p = 0.85)    \n",
    "    \n",
    "    n = size(A, 1)\n",
    "    # r_i = sum(a_ij * p)\n",
    "    r = vec(sum(A, 2))\n",
    "    # initial the z and r1 value\n",
    "    z = fill(1 / n, n)\n",
    "    r1 = zeros(r)\n",
    "    for i in 1:n\n",
    "        if r[i] > 0\n",
    "            r1[i] = p / r[i]\n",
    "            z[i] = (1 - p) / n\n",
    "        end\n",
    "    end\n",
    "    P = Diagonal(r1) * full(A) .+ z\n",
    "    ImP = I - P'\n",
    "    # replace the first equation to $\\sum_{i=1}^n x_i = 1$\n",
    "    ImP[1, :] = 1.0\n",
    "    b = zeros(n)\n",
    "    b[1] = 1.0\n",
    "    # LU solution\n",
    "    return ImP \\ b\n",
    "    \n",
    "end"
   ]
  },
  {
   "cell_type": "code",
   "execution_count": 112,
   "metadata": {},
   "outputs": [
    {
     "name": "stdout",
     "output_type": "stream",
     "text": [
      "  0.091706 seconds (11.01 k allocations: 11.962 MiB, 15.43% gc time)\n"
     ]
    },
    {
     "data": {
      "text/plain": [
       "500-element Array{Float64,1}:\n",
       " 0.0127701 \n",
       " 0.00130393\n",
       " 0.00405405\n",
       " 0.00398338\n",
       " 0.00130393\n",
       " 0.00130393\n",
       " 0.00130393\n",
       " 0.00130393\n",
       " 0.00130393\n",
       " 0.00130393\n",
       " 0.00130393\n",
       " 0.00145083\n",
       " 0.00141309\n",
       " ⋮         \n",
       " 0.0011959 \n",
       " 0.00149245\n",
       " 0.0011959 \n",
       " 0.00345944\n",
       " 0.00211007\n",
       " 0.0011959 \n",
       " 0.0011959 \n",
       " 0.0084935 \n",
       " 0.0011959 \n",
       " 0.00149103\n",
       " 0.0011959 \n",
       " 0.0011959 "
      ]
     },
     "execution_count": 112,
     "metadata": {},
     "output_type": "execute_result"
    }
   ],
   "source": [
    "@time x1 = pagerank_lu(A)"
   ]
  },
  {
   "cell_type": "markdown",
   "metadata": {},
   "source": [
    "#### 2. A simple iterative linear system solver such as Jacobi or Gauss-Seidel.\n",
    "Jacobi iteration: \n",
    "$$ x_i^{(t+1)} = \\frac{b_i - \\sum_{j=1}^{i-1} a_{ij} x_j^{(t)} - \\sum_{j=i+1}^n a_{ij} x_j^{(t)}}{a_{ii}}$$\n",
    "\n",
    "\n",
    "$$ \\mathbf{x}^{(t+1)} = - \\mathbf{D}^{-1} (\\mathbf{I} - \\mathbf{P}^T) \\mathbf{x}^{(t)} + \\mathbf{x}^{(t)} + \\mathbf{D}^{-1} \\mathbf{b} $$ \n",
    "\n",
    "$$  = \\mathbf{D}^{-1} \\mathbf{P}^T \\mathbf{x}^{(t)} - \\mathbf{D}^{-1} \\mathbf{x}^{(t)} + \\mathbf{x}^{(t)} + \\mathbf{D}^{-1} \\mathbf{b} $$\n",
    "\n",
    "$$ = \\mathbf{D}^{-1} [\\mathbf{A}^T \\text{diag}(\\mathbf{r}^*) + \\mathbf{1} \\mathbf{z}^T] \\mathbf{x}^{(t)} - \\mathbf{D}^{-1} \\mathbf{x}^{(t)} + \\mathbf{x}^{(t)} + \\mathbf{D}^{-1} \\mathbf{b} $$ \n",
    "\n",
    "$$ = \\mathbf{D}^{-1} \\mathbf{A}^T \\text{diag}(\\mathbf{r}^*)\\mathbf{x}^{(t)} + \\mathbf{D}^{-1} \\mathbf{1} (\\mathbf{z}^T \\mathbf{x}^{(t)}) - \\mathbf{D}^{-1} \\mathbf{x}^{(t)} + \\mathbf{x}^{(t)} + \\mathbf{D}^{-1} \\mathbf{b}, $$\n",
    "\n",
    "$$ = \\mathbf{D}^{-1} \\mathbf{A}^T \\text{diag}(\\mathbf{r}^*)\\mathbf{x}^{(t)} + \\mathbf{D}^{-1} \\mathbf{1} (\\mathbf{z}^T \\mathbf{x}^{(t)}) - \\mathbf{D}^{-1} \\mathbf{x}^{(t)} + \\mathbf{x}^{(t)}, $$\n",
    "\n",
    "$$ = \\mathbf{D}^{-1} (\\mathbf{A}^T \\text{diag}(\\mathbf{r}^*)\\mathbf{x}^{(t)} + \\mathbf{z}^T \\mathbf{x}^{(t)} - \\mathbf{x}^{(t)}) + \\mathbf{x}^{(t)}, $$\n",
    "\n",
    "$$ = \\mathbf{D}^{-1} (\\mathbf{A}^T (\\mathbf{r}^*.* \\mathbf{x}^{(t)}) + \\mathbf{z}^T \\mathbf{x}^{(t)} - \\mathbf{x}^{(t)}) + \\mathbf{x}^{(t)}, $$\n",
    "\n",
    "where $\\mathbf{D}$ is diagonal of the matrix $\\mathbf{I} - \\mathbf{P}^T$."
   ]
  },
  {
   "cell_type": "code",
   "execution_count": 100,
   "metadata": {},
   "outputs": [
    {
     "data": {
      "text/plain": [
       "pagerank_jacobi (generic function with 2 methods)"
      ]
     },
     "execution_count": 100,
     "metadata": {},
     "output_type": "execute_result"
    }
   ],
   "source": [
    "function pagerank_jacobi(A::AbstractMatrix, p = 0.85)\n",
    "\n",
    "    n = size(A, 1)\n",
    "    # r_i = sum(a_ij * p)\n",
    "    r = vec(sum(A, 2))\n",
    "    # initial the z and r1 value\n",
    "    z = fill(1 / n, n)\n",
    "    r1 = zeros(r)\n",
    "    for i in 1:n\n",
    "        if r[i] > 0\n",
    "            r1[i] = p / r[i]\n",
    "            z[i] = (1 - p) / n\n",
    "        end\n",
    "    end\n",
    "    # Get the inverse of D\n",
    "    D_inv = 1 ./ (1 - diag(A) .* r1 - z)\n",
    "    \n",
    "    # Randomly initialize x with sum of 1\n",
    "    x = rand(size(A, 1)) \n",
    "    x = x / sum(x)\n",
    "    \n",
    "    # Record the previous x vector\n",
    "    x_prev = similar(x)\n",
    "    \n",
    "    # Jacobian iteration\n",
    "    for i in 1:1000\n",
    "        copy!(x_prev, x)\n",
    "        \n",
    "        # D_inv * ( A' * (r1 .* x) + z .* x - x) + x\n",
    "        x .= D_inv .* ( At_mul_B(A, r1 .* x) .+ dot(z, x) .- x) .+ x\n",
    "        if  vecnorm(x - x_prev) < 1e-6\n",
    "            break\n",
    "        end\n",
    "    end\n",
    "    return abs.(x / sum(x))\n",
    "    \n",
    "end"
   ]
  },
  {
   "cell_type": "code",
   "execution_count": 107,
   "metadata": {},
   "outputs": [
    {
     "name": "stdout",
     "output_type": "stream",
     "text": [
      "  0.000461 seconds (99 allocations: 333.656 KiB)\n"
     ]
    },
    {
     "data": {
      "text/plain": [
       "500-element Array{Float64,1}:\n",
       " 0.0127703 \n",
       " 0.00130394\n",
       " 0.0040541 \n",
       " 0.00398343\n",
       " 0.00130394\n",
       " 0.00130394\n",
       " 0.00130394\n",
       " 0.00130394\n",
       " 0.00130394\n",
       " 0.00130394\n",
       " 0.00130394\n",
       " 0.00145084\n",
       " 0.0014131 \n",
       " ⋮         \n",
       " 0.00119591\n",
       " 0.00149246\n",
       " 0.00119591\n",
       " 0.0034595 \n",
       " 0.00211011\n",
       " 0.00119591\n",
       " 0.00119591\n",
       " 0.00849366\n",
       " 0.00119591\n",
       " 0.00149105\n",
       " 0.00119591\n",
       " 0.00119591"
      ]
     },
     "execution_count": 107,
     "metadata": {},
     "output_type": "execute_result"
    }
   ],
   "source": [
    "@time x2 = pagerank_jacobi(A)"
   ]
  },
  {
   "cell_type": "markdown",
   "metadata": {},
   "source": [
    "#### 3. A dense eigen-solver.\n",
    "We aim to find the eigenvector of the matrix $\\mathbf{P}$ with eigenvalue 1:\n",
    "$$ \\mathbf{x}^T \\mathbf{P} = \\mathbf{x}^T $$"
   ]
  },
  {
   "cell_type": "code",
   "execution_count": 59,
   "metadata": {},
   "outputs": [
    {
     "data": {
      "text/plain": [
       "pagerank_eigen (generic function with 2 methods)"
      ]
     },
     "execution_count": 59,
     "metadata": {},
     "output_type": "execute_result"
    }
   ],
   "source": [
    "function pagerank_eigen(A, p = 0.85)\n",
    "\n",
    "    n = size(A, 1)\n",
    "    # r_i = sum(a_ij * p)\n",
    "    r = vec(sum(A, 2))\n",
    "    # initial the z and r1 value\n",
    "    z = fill(1 / n, n)\n",
    "    r1 = zeros(r)\n",
    "    for i in 1:n\n",
    "        if r[i] > 0\n",
    "            r1[i] = p / r[i]\n",
    "            z[i] = (1 - p) / n\n",
    "        end\n",
    "    end\n",
    "    P = Diagonal(r1) * full(A) .+ z\n",
    "    efP = eigfact!(P')\n",
    "    pr = real(efP[:vectors][:, 1])   \n",
    "    return abs.(pr / sum(pr))\n",
    "    \n",
    "end"
   ]
  },
  {
   "cell_type": "code",
   "execution_count": 60,
   "metadata": {},
   "outputs": [
    {
     "data": {
      "text/plain": [
       "500-element Array{Float64,1}:\n",
       " 0.0127701 \n",
       " 0.00130393\n",
       " 0.00405405\n",
       " 0.00398338\n",
       " 0.00130393\n",
       " 0.00130393\n",
       " 0.00130393\n",
       " 0.00130393\n",
       " 0.00130393\n",
       " 0.00130393\n",
       " 0.00130393\n",
       " 0.00145083\n",
       " 0.00141309\n",
       " ⋮         \n",
       " 0.0011959 \n",
       " 0.00149245\n",
       " 0.0011959 \n",
       " 0.00345944\n",
       " 0.00211007\n",
       " 0.0011959 \n",
       " 0.0011959 \n",
       " 0.0084935 \n",
       " 0.0011959 \n",
       " 0.00149103\n",
       " 0.0011959 \n",
       " 0.0011959 "
      ]
     },
     "execution_count": 60,
     "metadata": {},
     "output_type": "execute_result"
    }
   ],
   "source": [
    "x3 = pagerank_eigen(A)"
   ]
  },
  {
   "cell_type": "markdown",
   "metadata": {},
   "source": [
    "#### 4. A simple iterative eigen-solver such as the power method.\n",
    "\n",
    "By choosing a random vector $\\mathbf{x}^{(0)}$ with sum of 1, the pagerank can be computed by iteratively multiplication of $\\mathbf{P}^T$, i.e., \n",
    "$$ \\mathbf{x}^{(t+1)} = \\mathbf{P}^T \\mathbf{x}^{(t)} $$"
   ]
  },
  {
   "cell_type": "code",
   "execution_count": 121,
   "metadata": {},
   "outputs": [
    {
     "data": {
      "text/plain": [
       "pagerank_power (generic function with 2 methods)"
      ]
     },
     "execution_count": 121,
     "metadata": {},
     "output_type": "execute_result"
    }
   ],
   "source": [
    "function pagerank_power(A, p = 0.85)\n",
    "\n",
    "    n = size(A, 1)\n",
    "    # r_i = sum(a_ij * p)\n",
    "    r = vec(sum(A, 2))\n",
    "    # initial the z and r1 value\n",
    "    z = fill(1 / n, n)\n",
    "    r1 = zeros(r)\n",
    "    for i in 1:n\n",
    "        if r[i] > 0\n",
    "            r1[i] = p / r[i]\n",
    "            z[i] = (1 - p) / n\n",
    "        end\n",
    "    end\n",
    "    # Initialize the x0 with the sum of 1\n",
    "    x = rand(size(A, 1))\n",
    "    x = x / sum(x)\n",
    "    \n",
    "    x_prev = similar(x)\n",
    "\n",
    "    for iter in 1:1000\n",
    "        copy!(x_prev, x)\n",
    "        \n",
    "        # x = A' * (x .* r1) + dot(x, z)\n",
    "        x .= At_mul_B(A, x .* r1) + dot(x, z)\n",
    "\n",
    "        if vecnorm(x - x_prev) < 1e-6\n",
    "            break\n",
    "        end\n",
    "    end\n",
    "    return abs.(x / sum(x))\n",
    "end\n",
    "    "
   ]
  },
  {
   "cell_type": "code",
   "execution_count": 122,
   "metadata": {},
   "outputs": [
    {
     "data": {
      "text/plain": [
       "500-element Array{Float64,1}:\n",
       " 0.0127702 \n",
       " 0.00130394\n",
       " 0.00405408\n",
       " 0.00398341\n",
       " 0.00130394\n",
       " 0.00130394\n",
       " 0.00130394\n",
       " 0.00130394\n",
       " 0.00130394\n",
       " 0.00130394\n",
       " 0.00130394\n",
       " 0.00145084\n",
       " 0.0014131 \n",
       " ⋮         \n",
       " 0.00119591\n",
       " 0.00149247\n",
       " 0.00119591\n",
       " 0.0034595 \n",
       " 0.00211011\n",
       " 0.00119591\n",
       " 0.00119591\n",
       " 0.00849366\n",
       " 0.00119591\n",
       " 0.00149105\n",
       " 0.00119591\n",
       " 0.00119591"
      ]
     },
     "execution_count": 122,
     "metadata": {},
     "output_type": "execute_result"
    }
   ],
   "source": [
    "x4 = pagerank_power(A)"
   ]
  },
  {
   "cell_type": "markdown",
   "metadata": {},
   "source": [
    "### Q2(5)\n",
    "\n",
    "List the top 20 ranked URLs you found."
   ]
  },
  {
   "cell_type": "code",
   "execution_count": 113,
   "metadata": {},
   "outputs": [
    {
     "data": {
      "text/plain": [
       "20×3 Array{Any,2}:\n",
       "  1  …  \"http://schema.org\"                                                     \n",
       "  2     \"http://www\"                                                            \n",
       "  3     \"http://www.ucla.edu\"                                                   \n",
       "  4     \"http://www.directory.ucla.edu\"                                         \n",
       "  5     \"http://www.universityofcalifornia.edu\"                                 \n",
       "  6  …  \"http://schema.org/CreativeWork\"                                        \n",
       "  7     \"http://schema.org/Text\"                                                \n",
       "  8     \"http://giveto.ucla.edu\"                                                \n",
       "  9     \"http://www.registrar.ucla.edu/calendar\"                                \n",
       " 10     \"http://www.uclalumni.net\"                                              \n",
       " 11  …  \"http://www.magazine.ucla.edu/depts/lifesigns/honoring-adolescence\"     \n",
       " 12     \"http://www.magazine.ucla.edu/depts/lifesigns/breaking-the-bad\"         \n",
       " 13     \"http://www.magazine.ucla.edu/depts/atissue/local-thought-global-action\"\n",
       " 14     \"http://www.magazine.ucla.edu/depts/forward-thinker/homes-with-heart\"   \n",
       " 15     \"http://www.magazine.ucla.edu/depts/hailhills/uncle-welton-in-westwood\" \n",
       " 16  …  \"http://www.magazine.ucla.edu/features/patient-test-thyself\"            \n",
       " 17     \"http://www.magazine.ucla.edu/depts/style/the-dancing-scientist\"        \n",
       " 18     \"http://www.magazine.ucla.edu/depts/style/welcome-to-the-jungle\"        \n",
       " 19     \"http://www.magazine.ucla.edu/features/splendor-in-the-trash\"           \n",
       " 20     \"http://www.magazine.ucla.edu/features/not-your-fathers-mba\"            "
      ]
     },
     "execution_count": 113,
     "metadata": {},
     "output_type": "execute_result"
    }
   ],
   "source": [
    "top20 = sortperm(x1, rev = true)[1:20]\n",
    "[collect(1:20) x1[top20] U[top20]]"
   ]
  },
  {
   "cell_type": "code",
   "execution_count": 108,
   "metadata": {},
   "outputs": [
    {
     "data": {
      "text/plain": [
       "20×3 Array{Any,2}:\n",
       "  1  …  \"http://schema.org\"                                                                     \n",
       "  2     \"http://www\"                                                                            \n",
       "  3     \"http://www.ucla.edu\"                                                                   \n",
       "  4     \"http://www.directory.ucla.edu\"                                                         \n",
       "  5     \"http://www.universityofcalifornia.edu\"                                                 \n",
       "  6  …  \"http://schema.org/CreativeWork\"                                                        \n",
       "  7     \"http://schema.org/Text\"                                                                \n",
       "  8     \"http://giveto.ucla.edu\"                                                                \n",
       "  9     \"http://www.registrar.ucla.edu/calendar\"                                                \n",
       " 10     \"http://www.uclalumni.net\"                                                              \n",
       " 11  …  \"http://www.magazine.ucla.edu/depts/lifesigns/honoring-adolescence\"                     \n",
       " 12     \"http://www.magazine.ucla.edu/depts/lifesigns/breaking-the-bad\"                         \n",
       " 13     \"http://www.magazine.ucla.edu/depts/forward-thinker/homes-with-heart\"                   \n",
       " 14     \"http://www.magazine.ucla.edu/depts/atissue/local-thought-global-action\"                \n",
       " 15     \"http://www.magazine.ucla.edu/depts/hailhills/uncle-welton-in-westwood\"                 \n",
       " 16  …  \"http://www.magazine.ucla.edu/features/patient-test-thyself\"                            \n",
       " 17     \"http://www.magazine.ucla.edu/depts/style/the-dancing-scientist\"                        \n",
       " 18     \"http://www.magazine.ucla.edu/depts/style/welcome-to-the-jungle\"                        \n",
       " 19     \"http://www.magazine.ucla.edu/features/heads-up\"                                        \n",
       " 20     \"http://www.magazine.ucla.edu/features/hope-is-real-the-ucla-depression-grand-challenge\""
      ]
     },
     "execution_count": 108,
     "metadata": {},
     "output_type": "execute_result"
    }
   ],
   "source": [
    "top20 = sortperm(x2, rev = true)[1:20]\n",
    "[collect(1:20) x2[top20] U[top20]]"
   ]
  },
  {
   "cell_type": "code",
   "execution_count": 109,
   "metadata": {},
   "outputs": [
    {
     "data": {
      "text/plain": [
       "20×3 Array{Any,2}:\n",
       "  1  …  \"http://schema.org\"                                                                     \n",
       "  2     \"http://www\"                                                                            \n",
       "  3     \"http://www.ucla.edu\"                                                                   \n",
       "  4     \"http://www.directory.ucla.edu\"                                                         \n",
       "  5     \"http://www.universityofcalifornia.edu\"                                                 \n",
       "  6  …  \"http://schema.org/CreativeWork\"                                                        \n",
       "  7     \"http://schema.org/Text\"                                                                \n",
       "  8     \"http://giveto.ucla.edu\"                                                                \n",
       "  9     \"http://www.registrar.ucla.edu/calendar\"                                                \n",
       " 10     \"http://www.uclalumni.net\"                                                              \n",
       " 11  …  \"http://www.magazine.ucla.edu/depts/lifesigns/honoring-adolescence\"                     \n",
       " 12     \"http://www.magazine.ucla.edu/depts/lifesigns/breaking-the-bad\"                         \n",
       " 13     \"http://www.magazine.ucla.edu/depts/forward-thinker/homes-with-heart\"                   \n",
       " 14     \"http://www.magazine.ucla.edu/depts/atissue/local-thought-global-action\"                \n",
       " 15     \"http://www.magazine.ucla.edu/depts/hailhills/uncle-welton-in-westwood\"                 \n",
       " 16  …  \"http://www.magazine.ucla.edu/features/patient-test-thyself\"                            \n",
       " 17     \"http://www.magazine.ucla.edu/depts/style/the-dancing-scientist\"                        \n",
       " 18     \"http://www.magazine.ucla.edu/depts/style/welcome-to-the-jungle\"                        \n",
       " 19     \"http://www.magazine.ucla.edu/features/heads-up\"                                        \n",
       " 20     \"http://www.magazine.ucla.edu/features/hope-is-real-the-ucla-depression-grand-challenge\""
      ]
     },
     "execution_count": 109,
     "metadata": {},
     "output_type": "execute_result"
    }
   ],
   "source": [
    "top20 = sortperm(x3, rev = true)[1:20]\n",
    "[collect(1:20) x3[top20] U[top20]]"
   ]
  },
  {
   "cell_type": "code",
   "execution_count": 123,
   "metadata": {},
   "outputs": [
    {
     "data": {
      "text/plain": [
       "20×3 Array{Any,2}:\n",
       "  1  …  \"http://schema.org\"                                                                     \n",
       "  2     \"http://www\"                                                                            \n",
       "  3     \"http://www.ucla.edu\"                                                                   \n",
       "  4     \"http://www.directory.ucla.edu\"                                                         \n",
       "  5     \"http://www.universityofcalifornia.edu\"                                                 \n",
       "  6  …  \"http://schema.org/CreativeWork\"                                                        \n",
       "  7     \"http://schema.org/Text\"                                                                \n",
       "  8     \"http://giveto.ucla.edu\"                                                                \n",
       "  9     \"http://www.registrar.ucla.edu/calendar\"                                                \n",
       " 10     \"http://www.uclalumni.net\"                                                              \n",
       " 11  …  \"http://www.magazine.ucla.edu/depts/lifesigns/honoring-adolescence\"                     \n",
       " 12     \"http://www.magazine.ucla.edu/depts/lifesigns/breaking-the-bad\"                         \n",
       " 13     \"http://www.magazine.ucla.edu/depts/forward-thinker/homes-with-heart\"                   \n",
       " 14     \"http://www.magazine.ucla.edu/depts/atissue/local-thought-global-action\"                \n",
       " 15     \"http://www.magazine.ucla.edu/depts/hailhills/uncle-welton-in-westwood\"                 \n",
       " 16  …  \"http://www.magazine.ucla.edu/features/patient-test-thyself\"                            \n",
       " 17     \"http://www.magazine.ucla.edu/depts/style/the-dancing-scientist\"                        \n",
       " 18     \"http://www.magazine.ucla.edu/depts/style/welcome-to-the-jungle\"                        \n",
       " 19     \"http://www.magazine.ucla.edu/features/heads-up\"                                        \n",
       " 20     \"http://www.magazine.ucla.edu/features/hope-is-real-the-ucla-depression-grand-challenge\""
      ]
     },
     "execution_count": 123,
     "metadata": {},
     "output_type": "execute_result"
    }
   ],
   "source": [
    "top20 = sortperm(x4, rev = true)[1:20]\n",
    "[collect(1:20) x4[top20] U[top20]]"
   ]
  },
  {
   "cell_type": "markdown",
   "metadata": {},
   "source": [
    "### Q2(6)\n",
    "\n",
    "As of Monday May 11 2018, there are at least 1.83 billion indexed webpages on internet according to <http://www.worldwidewebsize.com/>. Explain whether each of these methods works for the PageRank problem at this scale."
   ]
  },
  {
   "cell_type": "markdown",
   "metadata": {},
   "source": [
    "#### Q2(6) Answer \n",
    "\n",
    "We first benchmark all these four methods."
   ]
  },
  {
   "cell_type": "code",
   "execution_count": 98,
   "metadata": {},
   "outputs": [
    {
     "data": {
      "text/plain": [
       "BenchmarkTools.Trial: \n",
       "  memory estimate:  11.47 MiB\n",
       "  allocs estimate:  30\n",
       "  --------------\n",
       "  minimum time:     5.235 ms (0.00% GC)\n",
       "  median time:      7.396 ms (0.00% GC)\n",
       "  mean time:        7.338 ms (14.99% GC)\n",
       "  maximum time:     15.017 ms (16.31% GC)\n",
       "  --------------\n",
       "  samples:          681\n",
       "  evals/sample:     1"
      ]
     },
     "execution_count": 98,
     "metadata": {},
     "output_type": "execute_result"
    }
   ],
   "source": [
    "using BenchmarkTools\n",
    "@benchmark pagerank_lu(A)"
   ]
  },
  {
   "cell_type": "code",
   "execution_count": 102,
   "metadata": {},
   "outputs": [
    {
     "data": {
      "text/plain": [
       "BenchmarkTools.Trial: \n",
       "  memory estimate:  284.70 KiB\n",
       "  allocs estimate:  82\n",
       "  --------------\n",
       "  minimum time:     312.256 μs (0.00% GC)\n",
       "  median time:      385.390 μs (0.00% GC)\n",
       "  mean time:        471.238 μs (13.52% GC)\n",
       "  maximum time:     6.406 ms (91.26% GC)\n",
       "  --------------\n",
       "  samples:          10000\n",
       "  evals/sample:     1"
      ]
     },
     "execution_count": 102,
     "metadata": {},
     "output_type": "execute_result"
    }
   ],
   "source": [
    "@benchmark pagerank_jacobi(A)"
   ]
  },
  {
   "cell_type": "code",
   "execution_count": 103,
   "metadata": {},
   "outputs": [
    {
     "data": {
      "text/plain": [
       "BenchmarkTools.Trial: \n",
       "  memory estimate:  13.55 MiB\n",
       "  allocs estimate:  510\n",
       "  --------------\n",
       "  minimum time:     337.990 ms (0.00% GC)\n",
       "  median time:      389.671 ms (0.82% GC)\n",
       "  mean time:        390.825 ms (0.57% GC)\n",
       "  maximum time:     462.481 ms (0.91% GC)\n",
       "  --------------\n",
       "  samples:          13\n",
       "  evals/sample:     1"
      ]
     },
     "execution_count": 103,
     "metadata": {},
     "output_type": "execute_result"
    }
   ],
   "source": [
    "@benchmark pagerank_eigen(A)"
   ]
  },
  {
   "cell_type": "code",
   "execution_count": 124,
   "metadata": {},
   "outputs": [
    {
     "data": {
      "text/plain": [
       "BenchmarkTools.Trial: \n",
       "  memory estimate:  325.17 KiB\n",
       "  allocs estimate:  87\n",
       "  --------------\n",
       "  minimum time:     303.318 μs (0.00% GC)\n",
       "  median time:      373.808 μs (0.00% GC)\n",
       "  mean time:        480.806 μs (16.78% GC)\n",
       "  maximum time:     11.082 ms (89.56% GC)\n",
       "  --------------\n",
       "  samples:          10000\n",
       "  evals/sample:     1"
      ]
     },
     "execution_count": 124,
     "metadata": {},
     "output_type": "execute_result"
    }
   ],
   "source": [
    "@benchmark pagerank_power(A)"
   ]
  },
  {
   "cell_type": "markdown",
   "metadata": {},
   "source": [
    "#### Remarks\n",
    "As we can see, Jacobi and Power methods (which are both iterative methods) clearly demonstrate the advanatge onver LU decomposition and eigen method in terms of running time, which is critical to successfully handle the PageRank problem with the Internet scale. Another advantage of the power method is it can be implemented in thousands of distributed servers to obtain the good performance."
   ]
  },
  {
   "cell_type": "code",
   "execution_count": 125,
   "metadata": {},
   "outputs": [
    {
     "name": "stdout",
     "output_type": "stream",
     "text": [
      "Julia Version 0.6.2\n",
      "Commit d386e40c17 (2017-12-13 18:08 UTC)\n",
      "Platform Info:\n",
      "  OS: macOS (x86_64-apple-darwin14.5.0)\n",
      "  CPU: Intel(R) Core(TM) i7-4980HQ CPU @ 2.80GHz\n",
      "  WORD_SIZE: 64\n",
      "  BLAS: libopenblas (USE64BITINT DYNAMIC_ARCH NO_AFFINITY Haswell)\n",
      "  LAPACK: libopenblas64_\n",
      "  LIBM: libopenlibm\n",
      "  LLVM: libLLVM-3.9.1 (ORCJIT, haswell)\n"
     ]
    }
   ],
   "source": [
    "versioninfo()"
   ]
  }
 ],
 "metadata": {
  "kernelspec": {
   "display_name": "Julia 0.6.2",
   "language": "julia",
   "name": "julia-0.6"
  },
  "language_info": {
   "file_extension": ".jl",
   "mimetype": "application/julia",
   "name": "julia",
   "version": "0.6.2"
  },
  "toc": {
   "colors": {
    "hover_highlight": "#DAA520",
    "running_highlight": "#FF0000",
    "selected_highlight": "#FFD700"
   },
   "moveMenuLeft": true,
   "nav_menu": {
    "height": "87px",
    "width": "252px"
   },
   "navigate_menu": true,
   "number_sections": false,
   "sideBar": true,
   "threshold": 4,
   "toc_cell": false,
   "toc_section_display": "block",
   "toc_window_display": false,
   "widenNotebook": false
  }
 },
 "nbformat": 4,
 "nbformat_minor": 2
}
