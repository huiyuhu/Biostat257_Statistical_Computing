{
 "cells": [
  {
   "cell_type": "markdown",
   "metadata": {},
   "source": [
    "# Biostat M280 Homework 4\n",
    "\n",
    "**Due June 12 @ 11:59PM**"
   ]
  },
  {
   "cell_type": "markdown",
   "metadata": {},
   "source": [
    "In this homework, we build a classifer for handwritten digit recognition. Following figure shows example bitmaps of handwritten digits from U.S. postal envelopes. \n",
    "\n",
    "Each digit is represented by a $32 \\times 32$ bitmap in which each element indicates one pixel with a value of white or black. Each $32 \\times 32$ bitmap is divided into blocks of $4 \\times 4$, and the number of white pixels are counted in each block. Therefore each handwritten digit is summarized by a vector $\\mathbf{x} = (x_1, \\ldots, x_{64})$ of length 64 where each element is a count between 0 and 16. \n",
    "\n",
    "We will use a model-based method by assuming a distribution on the count vector and carry out classification using probabilities. A common distribution for count vectors is the multinomial distribution. However as you will see in Q10, it is not a good model for handwritten digits. Let's work on a more flexible model for count vectors. In the Dirichlet-multinomial model, we assume the multinomial probabilities $\\mathbf{p} = (p_1,\\ldots, p_d)$ follow a Dirichlet distribution with parameter vector $\\alpha = (\\alpha_1,\\ldots, \\alpha_d)$, $\\alpha_j>0$, and density\n",
    "$$\n",
    "\\begin{eqnarray*}\n",
    "\t\\pi(\\mathbf{p}) =  \\frac{\\Gamma(|\\alpha|)}{\\prod_{j=1}^d \\Gamma(\\alpha_j)} \\prod_{j=1}^d p_j^{\\alpha_j-1},\n",
    "\\end{eqnarray*} \n",
    "$$\n",
    "where $|\\alpha|=\\sum_{j=1}^d \\alpha_j$."
   ]
  },
  {
   "cell_type": "markdown",
   "metadata": {},
   "source": [
    "## Q1\n",
    "\n",
    "For a multivariate count vector $\\mathbf{x}=(x_1,\\ldots,x_d)$ with batch size $|\\mathbf{x}|=\\sum_{j=1}^d x_j$, show that the probability mass function for Dirichlet-multinomial distribution is\n",
    "$$\n",
    "    f(\\mathbf{x} \\mid \\alpha) \n",
    "\t= \\int_{\\Delta_d} \\binom{|\\mathbf{x}|}{\\mathbf{x}} \\prod_{j=1}^d p_j^{x_j} \\pi(\\mathbf{p}) \\, d \\mathbf{p}  \n",
    "    = \\binom{|\\mathbf{x}|}{\\mathbf{x}} \\frac{\\prod_{j=1}^d \\Gamma(\\alpha_j+x_j)}{\\prod_{j=1}^d \\Gamma(\\alpha_j)} \\frac{\\Gamma(|\\alpha|)}{\\Gamma(|\\alpha|+|\\mathbf{x}|)}\n",
    "$$\n",
    "where $\\Delta_d$ is the unit simplex in $d$ dimensions and $|\\alpha| = \\sum_{j=1}^d \\alpha_j$.\n"
   ]
  },
  {
   "cell_type": "markdown",
   "metadata": {},
   "source": [
    "$$ Pr(\\mathbf{x}\\mid\\boldsymbol{\\alpha})=\\int_{\\mathbf{p}}\\Pr(\\mathbf{x}\\mid \\mathbf{p})\\Pr(\\mathbf{p}\\mid\\boldsymbol{\\alpha})\\textrm{d}\\mathbf{p} $$,\n",
    "$$ = \\int_{\\Delta_d} \\binom{|\\mathbf{x}|}{\\mathbf{x}} \\prod_{j=1}^d p_j^{x_j} \\pi(\\mathbf{p}) \\, d \\mathbf{p} $$,\n",
    "where $\\pi(\\mathbf{p}) =  \\frac{\\Gamma(|\\alpha|)}{\\prod_{j=1}^d \\Gamma(\\alpha_j)} \\prod_{j=1}^d p_j^{\\alpha_j-1}$\n",
    "$$Pr(\\mathbf{x}\\mid\\boldsymbol{\\alpha}) = \\int_{\\Delta_d} \\binom{|\\mathbf{x}|}{\\mathbf{x}} \\prod_{j=1}^d p_j^{x_j}\\frac{\\Gamma(|\\alpha|)}{\\prod_{j=1}^d \\Gamma(\\alpha_j)} \\prod_{j=1}^d p_j^{\\alpha_j-1} \\, d \\mathbf{p}  $$\n",
    "$$ = \\binom{|\\mathbf{x}|}{\\mathbf{x}} \\frac{\\Gamma(|\\alpha|)}{\\prod_{j=1}^d \\Gamma(\\alpha_j)} \\int_{\\Delta_d} \n",
    "\\prod_{j=1}^d p_j^{x_j + \\alpha_j-1} \\, d \\mathbf{p}  $$\n",
    "$$ = \\binom{|\\mathbf{x}|}{\\mathbf{x}} \\frac{\\Gamma(|\\alpha|)}{\\prod_{j=1}^d \\Gamma(\\alpha_j)} \\frac{\\prod_{j=1}^d \\Gamma(\\alpha_j+x_j)}{\\Gamma(|\\alpha|+|\\mathbf{x}|)}$$\n",
    "$$ = \\binom{|\\mathbf{x}|}{\\mathbf{x}} \\frac{\\prod_{j=1}^d \\Gamma(\\alpha_j+x_j)}{\\prod_{j=1}^d \\Gamma(\\alpha_j)} \\frac{\\Gamma(|\\alpha|)}{\\Gamma(|\\alpha|+|\\mathbf{x}|)} $$\n",
    "\n",
    "\n",
    "\n"
   ]
  },
  {
   "cell_type": "markdown",
   "metadata": {},
   "source": [
    "## Q2\n",
    "\n",
    "Given independent data points $\\mathbf{x}_1, \\ldots, \\mathbf{x}_n$, show that the log-likelihood is\n",
    "$$\n",
    "L(\\alpha) = \\sum_{i=1}^n \\ln \\binom{|\\mathbf{x}_i|}{\\mathbf{x}_i} + \\sum_{i=1}^n \\sum_{j=1}^d [\\ln \\Gamma(\\alpha_j + x_{ij}) - \\ln \\Gamma(\\alpha_j)] - \\sum_{i=1}^n [\\ln \\Gamma(|\\alpha|+|\\mathbf{x}_i|) - \\ln \\Gamma(|\\alpha|)].\n",
    "$$\n",
    "Is the log-likelihood a concave function?"
   ]
  },
  {
   "cell_type": "markdown",
   "metadata": {},
   "source": [
    "We have already known that $ f(x) = \\binom{|\\mathbf{x}|}{\\mathbf{x}} \\frac{\\prod_{j=1}^d \\Gamma(\\alpha_j+x_j)}{\\prod_{j=1}^d \\Gamma(\\alpha_j)} \\frac{\\Gamma(|\\alpha|)}{\\Gamma(|\\alpha|+|\\mathbf{x}|)}$\n",
    "$$ \\begin{aligned}\n",
    "L(\\alpha) &= \\ln \\prod_{i=1}^n  f(\\mathbf{x}_i \\mid \\alpha)\\\\\n",
    "&=\\sum_{i=1}^n\\ln \\binom{|\\mathbf{x}_i|}{\\mathbf{x}_i} + \\sum_{i=1}^n \\sum_{j=1}^d \\ln \\Gamma(\\alpha_j + x_{ij})- \\sum_{i=1}^n \\sum_{j=1}^d \\ln \\Gamma(\\alpha_j)+\\sum_{i=1}^n \\ln \\Gamma(|\\alpha|)- \\sum_{i=1}^n \\ln \\Gamma(|\\alpha|+|\\mathbf{x}_i|)\\\\\n",
    "&= \\sum_{i=1}^n\\ln \\binom{|\\mathbf{x}_i|}{\\mathbf{x}_i} + \\sum_{i=1}^n \\sum_{j=1}^d [\\ln \\Gamma(\\alpha_j + x_{ij}) - \\ln \\Gamma(\\alpha_j)] - \\sum_{i=1}^n [\\ln \\Gamma(|\\alpha|+|\\mathbf{x}_i|) - \\ln \\Gamma(|\\alpha|)].\n",
    "\\end{aligned} $$\n",
    "\n",
    "To see if the log-likelihood is a concave function, the Hessian of L need to be calculated. (The function will be impliment in following question)"
   ]
  },
  {
   "cell_type": "markdown",
   "metadata": {},
   "source": [
    "## Q3\n",
    "\n",
    "Write Julia function to compute the log-density of the Dirichlet-multinomial distribution."
   ]
  },
  {
   "cell_type": "code",
   "execution_count": 4,
   "metadata": {},
   "outputs": [
    {
     "data": {
      "text/plain": [
       "dirmult_logpdf"
      ]
     },
     "execution_count": 4,
     "metadata": {},
     "output_type": "execute_result"
    }
   ],
   "source": [
    "\"\"\"\n",
    "    dirmult_logpdf(x::Vector, α::Vector)\n",
    "    \n",
    "Compute the log-pdf of Dirichlet-multinomial distribution with parameter `α` \n",
    "at data point `x`.\n",
    "\"\"\"\n",
    "function dirmult_logpdf(x::Vector, α::Vector)\n",
    "    n = size(x)[1]\n",
    "    d = size(α)\n",
    "\n",
    "    l = 0.0\n",
    "    \n",
    "    # These parts are computed from each element of x\n",
    "    # ∑[-ln(x_ij) + ln(Γ(α_j + x_{ij})) - ln(Γ(α_j))]\n",
    "    for i = 1:n\n",
    "         l += - lfact(x[i]) - lgamma(α[i]) + lgamma(x[i] + α[i])\n",
    "    end\n",
    "\n",
    "    # These parts are unrelated to each element of x\n",
    "    # ln(|x|) - ln(Γ(|α| + |x|)) + ln(Γ(|α|))\n",
    "    norm_x = sum(x)\n",
    "    norm_α = sum(α)    \n",
    "    l = lfact(norm_x) - lgamma(norm_α + norm_x) + lgamma(norm_α)\n",
    "\n",
    "    return l\n",
    "end\n",
    "\n",
    "function dirmult_logpdf!(r::Vector, X::Matrix, α::Vector)\n",
    "    for j in 1:size(X, 2)\n",
    "        r[j] = dirmult_logpdf(X[:, j], α)\n",
    "    end\n",
    "    return r\n",
    "end\n",
    "\n",
    "\"\"\"\n",
    "    dirmult_logpdf(X, α)\n",
    "    \n",
    "Compute the log-pdf of Dirichlet-multinomial distribution with parameter `α` \n",
    "at each data point in `X`. Each column of `X` is one data point.\n",
    "\"\"\"\n",
    "function dirmult_logpdf(X::Matrix, α::Vector)\n",
    "    r = zeros(size(X, 2))\n",
    "    dirmult_logpdf!(r, X, α)\n",
    "end"
   ]
  },
  {
   "cell_type": "markdown",
   "metadata": {},
   "source": [
    "## Q4\n",
    "\n",
    "Read in `optdigits.tra`, the training set of 3823 handwritten digits. Each row contains the 64 counts of a digit and the last element (65th element) indicates what digit it is. For grading purpose, evaluate the total log-likelihood of this data at parameter values $\\alpha=(1,\\ldots,1)$ using your function in Q3."
   ]
  },
  {
   "cell_type": "code",
   "execution_count": 5,
   "metadata": {},
   "outputs": [
    {
     "name": "stderr",
     "output_type": "stream",
     "text": [
      "  % Total    % Received % Xferd  Average Speed   Time    Time     Time  Current\n",
      "                                 Dload  Upload   Total   Spent    Left  Speed\n",
      "100  550k  100  550k    0     0  1287k      0 --:--:-- --:--:-- --:--:-- 1289k\n"
     ]
    },
    {
     "data": {
      "text/plain": [
       "\"optdigits.tra\""
      ]
     },
     "execution_count": 5,
     "metadata": {},
     "output_type": "execute_result"
    }
   ],
   "source": [
    "# read in optdigits.tra\n",
    "download(\"http://hua-zhou.github.io/teaching/\" * \n",
    "    \"biostatm280-2018spring/hw/hw4/optdigits.tra\",\n",
    "    \"optdigits.tra\")"
   ]
  },
  {
   "cell_type": "code",
   "execution_count": 6,
   "metadata": {},
   "outputs": [
    {
     "data": {
      "text/plain": [
       "3823-element Array{Float64,1}:\n",
       " -165.188\n",
       " -176.23 \n",
       " -167.774\n",
       " -165.564\n",
       " -157.79 \n",
       " -176.071\n",
       " -158.423\n",
       " -159.258\n",
       " -174.302\n",
       " -178.407\n",
       " -171.294\n",
       " -169.383\n",
       " -175.753\n",
       "    ⋮    \n",
       " -160.49 \n",
       " -158.633\n",
       " -156.935\n",
       " -171.975\n",
       " -177.638\n",
       " -169.735\n",
       " -158.423\n",
       " -159.465\n",
       " -159.877\n",
       " -169.735\n",
       " -173.149\n",
       " -155.411"
      ]
     },
     "execution_count": 6,
     "metadata": {},
     "output_type": "execute_result"
    }
   ],
   "source": [
    "opt = readcsv(\"optdigits.tra\", Int)\n",
    "x = opt[:, 1:64]' \n",
    "α = ones(64)\n",
    "loglkh = dirmult_logpdf(x, α)"
   ]
  },
  {
   "cell_type": "code",
   "execution_count": 7,
   "metadata": {},
   "outputs": [
    {
     "data": {
      "text/plain": [
       "-638817.993292528"
      ]
     },
     "execution_count": 7,
     "metadata": {},
     "output_type": "execute_result"
    }
   ],
   "source": [
    "# total log-likelihood \n",
    "tot_loglkh = sum(loglkh)"
   ]
  },
  {
   "cell_type": "markdown",
   "metadata": {},
   "source": [
    "## Q5\n",
    "\n",
    "Derive the score function $\\nabla L(\\alpha)$, observed information matrix $-d^2L(\\alpha)$, and Fisher information matrix $\\mathbf{E}[-d^2L(\\alpha)]$ for the Dirichlet-multinomial distribution.\n",
    "\n",
    "Comment on why Fisher scoring method is inefficient for computing MLE in this example."
   ]
  },
  {
   "cell_type": "markdown",
   "metadata": {},
   "source": [
    "The score: \n",
    "$$\\nabla L(\\theta) = \\begin{pmatrix}\n",
    "  \\frac{\\partial L(\\theta)}{\\partial \\theta_1} \\\\\n",
    "  \\vdots \\\\\n",
    "  \\frac{\\partial L(\\theta)}{\\partial \\theta_p}\n",
    "  \\end{pmatrix} $$\n",
    "\n",
    "$$ \\frac{\\partial}{\\partial \\alpha_j} L(\\alpha) = \\frac{\\partial}{\\partial \\alpha_j} (\\sum_{i=1}^n \\sum_{j=1}^d [\\ln \\Gamma(\\alpha_j + x_{ij}) - \\ln \\Gamma(\\alpha_j)] - \\sum_{i=1}^n [\\ln \\Gamma(|\\alpha|+|\\mathbf{x}_i|) - \\ln \\Gamma(|\\alpha|)] )$$\n",
    "$$ = \\sum_{i=1}^n [\\psi(x_{ij}+\\alpha_j) - \\psi(\\alpha_j)] - \\sum_{i=1}^n [\\psi(|\\mathbf{x}_i|+|\\alpha|) - \\psi(|\\alpha|)]$$\n",
    "where $\\psi(x) = [\\ln \\Gamma(x)]' = \\Gamma'(x)/\\Gamma(x)$\n",
    "\n",
    "The observed information matrix:\n",
    "$$ \\nabla^2 L(\\theta) = d^2 L(\\theta) = \\begin{pmatrix}\n",
    "  \\frac{\\partial^2 L(\\theta)}{\\partial \\theta_1 \\partial \\theta_1} & \\dots & \\frac{\\partial^2 L(\\theta)}{\\partial \\theta_1 \\partial \\theta_p} \\\\\n",
    "  \\vdots & \\ddots & \\vdots \\\\\n",
    "  \\frac{\\partial^2 L(\\theta)}{\\partial \\theta_p \\partial \\theta_1} & \\dots & \\frac{\\partial^2 L(\\theta)}{\\partial \\theta_p \\partial \\theta_p}\n",
    "  \\end{pmatrix}$$\n",
    "  \n",
    "$$ [- d^2 L(\\alpha)] = \\sum_{i=1}^n [\\psi'(\\alpha_j) -\\psi'(x_{ij}+\\alpha_j)] - \\sum_{i=1}^n [ \\psi'(|\\alpha|) + \\psi'(|\\mathbf{x}_i|+|\\alpha|)] $$\n",
    "\n",
    "To express the $[- d^2 L(\\alpha)]$ simpler, observed information matrix can be shown as:\n",
    "$$[- d^2 L(\\alpha)] = \\mathbf{D} - c \\mathbf{1} \\mathbf{1}^T,$$\n",
    "where $ d_j = \\sum_{i=1}^n \\sum_{k=0}^{x_{ij}-1} \\frac{1}{(\\alpha_j + k)^2} $\n",
    "and $ c = \\sum_{i=1}^n \\sum_{k=0}^{|\\mathbf{x}_i|-1} \\frac{1}{(|\\alpha|+k)^2}$\n",
    "\n",
    "The expected information matrix: \n",
    "$$\\mathbf{E}[-d^2L(\\alpha)] = \\mathbf{E}[\\mathbf{D} - c \\mathbf{1} \\mathbf{1}^T] = \\mathbf{E}(\\mathbf{D}) - c \\mathbf{1}_d \\mathbf{1}_d^T $$\n",
    "$$ \\mathbf{E}(d_j) = \\mathbf{E}[\\sum_{i=1}^n \\sum_{k=0}^{x_{ij}-1} \\frac{1}{(\\alpha_j + k)^2}] = \\sum_{i=1}^n \\sum_{k=0}^{|\\mathbf{x}_i|-1} \\frac{\\mathbf{P}(X_{ij}>k)}{(\\alpha_j+k)^2},$$\n",
    "\n",
    "Newton's method can be computed by matrix operations, but Fisher scoring method needs to compute Fisher information matrix which has $n\\times d$ probabilities, which is inefficient in Julia."
   ]
  },
  {
   "cell_type": "markdown",
   "metadata": {},
   "source": [
    "## Q6\n",
    "\n",
    "What structure does the observed information matrix possess that can facilitate the evaluation of the Newton direction? Is the observed information matrix always positive definite? What remedy can we take if it fails to be positive definite? (Hint: HW1 Q6.)"
   ]
  },
  {
   "cell_type": "markdown",
   "metadata": {},
   "source": [
    "By the result of HW1 Q6 \n",
    "\n",
    "Sherman-Morrison formula: $(\\mathbf{A} + \\mathbf{u} \\mathbf{u}^T)^{-1} = \\mathbf{A}^{-1} - \\frac{1}{1 + \\mathbf{u}^T \\mathbf{A}^{-1} \\mathbf{u}} \\mathbf{A}^{-1} \\mathbf{u} \\mathbf{u}^T \\mathbf{A}^{-1}$; \n",
    "Determinant formula: $\\text{det}(\\mathbf{A} + \\mathbf{U} \\mathbf{V}^T) = \\text{det}(\\mathbf{A}) \\text{det}(\\mathbf{I}_m + \\mathbf{V}^T \\mathbf{A}^{-1} \\mathbf{U})$\n",
    "\n",
    "$$[-d^2L(\\boldsymbol{\\alpha})]^{-1} = \\boldsymbol{D}^{-1} + \\frac{1}{c^{-1} - \\sum_j d_j^{-1}} \\boldsymbol{D}^{-1} \\boldsymbol{1} \\boldsymbol{1}^T \\boldsymbol{D}^{-1} $$\n",
    "$$ \\text{det}[-d^2L(\\boldsymbol{\\alpha})] = \\text{det}[\\mathbf{D} - c \\mathbf{1} \\mathbf{1}^T],$$\n",
    "$$ = \\text{det}(\\mathbf{D}) \\text{det}(1 - c*\\boldsymbol{D}^{-1}) $$\n",
    "$$ = \\left( \\prod_j d_j \\right) \\left(1 - c \\sum_j d_j^{-1} \\right)$$\n",
    "\n",
    "Therefore, the observed information matrix is not always positive definite, but only when $\\text{det}[-d^2L(\\boldsymbol{\\alpha})] = \\left( \\prod_j d_j \\right) \\left(1 - c \\sum_j d_j^{-1} \\right) > 0$.\n",
    "\n",
    "When the observed information matrix fails to be positive definite, $c$ can be adjusted to satisfy these two conditions:\n",
    "1. each element of the diagonal matrix $\\mathbf{D}$ is greater than 0\n",
    "2. $c < \\frac{1}{\\sum_j d_j^{-1}} .$\n"
   ]
  },
  {
   "cell_type": "markdown",
   "metadata": {},
   "source": [
    "## Q7\n",
    "\n",
    "Discuss how to choose a good starting point. Implement this as the default starting value in your function below. (Hint: Method of moment estimator may furnish a good starting point.)"
   ]
  },
  {
   "cell_type": "markdown",
   "metadata": {},
   "source": [
    "According Prof.Zhou's announcement:\n",
    "\n",
    "$ P=(P_1, \\ldots, P_d) $ is from Dirichlet distribution with parameter, $\\alpha = (\\alpha_1, \\ldots, \\alpha_d)$, then $ E(P_j) = \\alpha_j / (\\sum_{j’} \\alpha_{j’}) $ and $ E(P_j^2) = \\alpha_j (\\alpha_j + 1) / (\\sum_{j’} \\alpha_{j’}) / ((\\sum_{j’} \\alpha_{j’}) + 1) $\n",
    "\n",
    "Then we can get a equation for $\\alpha$: \n",
    "$$ \\frac{\\mathbf{E}(P_j^2)}{\\mathbf{E}(P_j)} = \\frac{\\boldsymbol{\\alpha_j} + 1}{|\\boldsymbol{\\alpha}|+1} $$\n",
    "then the sum $\\alpha$ can be derive, \n",
    "$$ w := \\sum_j \\frac{\\mathbf{E}(P_j^2)}{\\mathbf{E}(P_j)} = \\frac{|\\boldsymbol{\\alpha}|+d}{|\\boldsymbol{\\alpha}|+1} $$\n",
    "\n",
    "$$ |\\boldsymbol{\\alpha}| = \\frac{d - w}{w - 1} $$\n",
    "\n",
    "Since $E(P_j)$ and $E(P_j^2)$ can be estimated by $\\sum_i (\\frac{x_{ij}}{|\\boldsymbol{x_i}|})$ and $\\sum_i (\\frac{x_{ij}}{|\\boldsymbol{x_i}|})^2$, respectively, $w$ can be estimated by:\n",
    "\n",
    "$$ \\hat{w} = \\sum_j \\frac{\\sum_i (\\frac{x_{ij}}{|\\boldsymbol{x_i}|})^2}{\\sum_i (\\frac{x_{ij}}{|\\boldsymbol{x_i}|})}$$\n",
    "\n",
    "Then $\\alpha_j$ can be initialized as\n",
    "\n",
    "$$ \\alpha_j = |\\boldsymbol{\\alpha}|\\frac{\\sum_i x_{ij}}{\\sum_i |\\boldsymbol{x_i}|} = \\frac{d - \\hat{w}}{\\hat{w} - 1} \\frac{\\sum_i x_{ij}}{\\sum_i |\\boldsymbol{x_i}|}$$\n"
   ]
  },
  {
   "cell_type": "markdown",
   "metadata": {},
   "source": [
    "## Q8\n",
    "\n",
    "Write a function for finding MLE of Dirichlet-multinomial distribution given iid observations $\\mathbf{x}_1,\\ldots,\\mathbf{x}_n$, using the Newton's method. "
   ]
  },
  {
   "cell_type": "code",
   "execution_count": 41,
   "metadata": {},
   "outputs": [
    {
     "data": {
      "text/plain": [
       "dirmult_gradient (generic function with 1 method)"
      ]
     },
     "execution_count": 41,
     "metadata": {},
     "output_type": "execute_result"
    }
   ],
   "source": [
    "# Before writing dirmult_newton implementation evaluate gradient (score)\n",
    "function dirmult_gradient(x::Matrix{Float64}, α::Vector{Float64})\n",
    "    n = size(x, 1)\n",
    "    d = size(x, 2)\n",
    "    grad = zeros(d)\n",
    "    sum1 = sum(α)\n",
    "    sum2 = sum(X, 2)\n",
    "    cons = - (digamma(α) .- digamma(sum1))\n",
    "    for i in 1:n\n",
    "        for j in 1:d\n",
    "            grad[i] += digamma(α[i] + X[i, j]) - digamma(sum1 + sum2[i]) + cons[i]\n",
    "        end\n",
    "    end\n",
    "    return grad\n",
    "end"
   ]
  },
  {
   "cell_type": "code",
   "execution_count": 40,
   "metadata": {},
   "outputs": [
    {
     "data": {
      "text/plain": [
       "dirmult_obs (generic function with 1 method)"
      ]
     },
     "execution_count": 40,
     "metadata": {},
     "output_type": "execute_result"
    }
   ],
   "source": [
    "# observed information matrix\n",
    "#Return vector and constant `con`. The observed information matrix equals `Diagonal(vector) - con`.\n",
    "function dirmult_obs(X::Matrix, α::Vector)\n",
    "    sum1 = sum(α)\n",
    "    sum2 = sum(X, 2)\n",
    "    n = size(x, 1)\n",
    "    d = size(x, 2)\n",
    "    vector = zeros(d)\n",
    "    con = 0\n",
    "    for i in 1:n\n",
    "        con += trigamma(sum1 + sum2[i]) - trigamma(sum1)   \n",
    "        vector[i] += trigamma(α[i]) - trigamma(x[i] + α[i])\n",
    "    end\n",
    "    return Diagonal(vector), con\n",
    "end"
   ]
  },
  {
   "cell_type": "code",
   "execution_count": 2,
   "metadata": {},
   "outputs": [
    {
     "data": {
      "text/plain": [
       "dirmult_newton"
      ]
     },
     "execution_count": 2,
     "metadata": {},
     "output_type": "execute_result"
    }
   ],
   "source": [
    "\"\"\"\n",
    "    dirmult_newton(X)\n",
    "\n",
    "Find the MLE of Dirichlet-multinomial distribution using Newton's method.\n",
    "\n",
    "# Argument\n",
    "* `X`: an `n`-by-`d` matrix of counts; each column is one data point.\n",
    "\n",
    "# Optional argument  \n",
    "* `alpha0`: a `d` vector of starting point (optional). \n",
    "* `maxiters`: the maximum allowable Newton iterations (default 100). \n",
    "* `tolfun`: the tolerance for  relative change in objective values (default 1e-6). \n",
    "\n",
    "# Output\n",
    "* `maximum`: the log-likelihood at MLE.   \n",
    "* `estimate`: the MLE. \n",
    "* `gradient`: the gradient at MLE. \n",
    "* `hessian`: the Hessian at MLE. \n",
    "* `se`: a `d` vector of standard errors. \n",
    "* `iterations`: the number of iterations performed.\n",
    "\"\"\"\n",
    "function dirmult_newton(X::Matrix; α0::Vector = nothing, \n",
    "            maxiters::Int = 100, tolfun::Float64 = 1e-6)\n",
    "    \n",
    "    # set default starting point from Q7\n",
    "    \n",
    "    # Newton loop\n",
    "    for iter in 1:maxiters\n",
    "        \n",
    "        # evaluate gradient (score)\n",
    "        gradient = dirmult_gradient(X, α)\n",
    "        \n",
    "        # obs information matrix\n",
    "        A, u = hess(Xnew, α0)\n",
    "        \n",
    "        # compute Newton's direction\n",
    "        ndir = \n",
    "        # line search loop\n",
    "        for lsiter in 1:10\n",
    "            # step halving\n",
    "        end\n",
    "        \n",
    "        # check convergence criterion\n",
    "        if abs(logl - loglold) < tolfun * (abs(loglold) + 1)\n",
    "            break;\n",
    "        end\n",
    "    end\n",
    "    \n",
    "    # compute logl, gradient, Hessian from final iterate\n",
    "    \n",
    "    # output\n",
    "    \n",
    "end"
   ]
  },
  {
   "cell_type": "markdown",
   "metadata": {},
   "source": [
    "## Q9\n",
    "\n",
    "Read in `optdigits.tra`, the training set of 3823 handwritten digits. Find the MLE for the subset of digit 0, digit 1, ..., and digit 9 separately using your function. "
   ]
  },
  {
   "cell_type": "markdown",
   "metadata": {},
   "source": [
    "## Q10\n",
    "\n",
    "As $\\alpha / |\\alpha| \\to \\mathbf{p}$, the Dirichlet-multinomial distribution converges to a multinomial with parameter $\\mathbf{p}$. Therefore multinomial can be considered as a special Dirichlet-multinomial with $|\\alpha|=\\infty$. Perform a likelihood ratio test (LRT) whether Dirichlet-multinomial offers a better fit than multinomial for digits 0, 1, ..., 9 respectively."
   ]
  },
  {
   "cell_type": "markdown",
   "metadata": {},
   "source": [
    "## Q11\n",
    "\n",
    "Now we can construct a simple Bayesian rule for handwritten digits recognition:\n",
    "$$\n",
    "\t\\mathbf{x}\t\\mapsto \\arg \\max_k \\widehat \\pi_k f(x|\\widehat \\alpha_k).\n",
    "$$\n",
    "Here we can use the proportion of digit $k$ in the training set as the prior probability $\\widehat \\pi_k$. Report the performance of your classifier on the test set of 1797 digits in `optdigits.tes`."
   ]
  }
 ],
 "metadata": {
  "kernelspec": {
   "display_name": "Julia 0.6.2",
   "language": "julia",
   "name": "julia-0.6"
  },
  "language_info": {
   "file_extension": ".jl",
   "mimetype": "application/julia",
   "name": "julia",
   "version": "0.6.2"
  },
  "toc": {
   "colors": {
    "hover_highlight": "#DAA520",
    "running_highlight": "#FF0000",
    "selected_highlight": "#FFD700"
   },
   "moveMenuLeft": true,
   "nav_menu": {
    "height": "65px",
    "width": "252px"
   },
   "navigate_menu": true,
   "number_sections": false,
   "sideBar": true,
   "threshold": 4,
   "toc_cell": false,
   "toc_section_display": "block",
   "toc_window_display": false,
   "widenNotebook": false
  }
 },
 "nbformat": 4,
 "nbformat_minor": 2
}
