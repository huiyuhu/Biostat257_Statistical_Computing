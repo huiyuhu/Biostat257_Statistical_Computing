{
 "cells": [
  {
   "cell_type": "markdown",
   "metadata": {},
   "source": [
    "# Biostat M280 Homework 4\n",
    "\n",
    "**Due June 12 @ 11:59PM**"
   ]
  },
  {
   "cell_type": "markdown",
   "metadata": {},
   "source": [
    "In this homework, we build a classifer for handwritten digit recognition. Following figure shows example bitmaps of handwritten digits from U.S. postal envelopes. \n",
    "\n",
    "Each digit is represented by a $32 \\times 32$ bitmap in which each element indicates one pixel with a value of white or black. Each $32 \\times 32$ bitmap is divided into blocks of $4 \\times 4$, and the number of white pixels are counted in each block. Therefore each handwritten digit is summarized by a vector $\\mathbf{x} = (x_1, \\ldots, x_{64})$ of length 64 where each element is a count between 0 and 16. \n",
    "\n",
    "We will use a model-based method by assuming a distribution on the count vector and carry out classification using probabilities. A common distribution for count vectors is the multinomial distribution. However as you will see in Q10, it is not a good model for handwritten digits. Let's work on a more flexible model for count vectors. In the Dirichlet-multinomial model, we assume the multinomial probabilities $\\mathbf{p} = (p_1,\\ldots, p_d)$ follow a Dirichlet distribution with parameter vector $\\alpha = (\\alpha_1,\\ldots, \\alpha_d)$, $\\alpha_j>0$, and density\n",
    "$$\n",
    "\\begin{eqnarray*}\n",
    "\t\\pi(\\mathbf{p}) =  \\frac{\\Gamma(|\\alpha|)}{\\prod_{j=1}^d \\Gamma(\\alpha_j)} \\prod_{j=1}^d p_j^{\\alpha_j-1},\n",
    "\\end{eqnarray*} \n",
    "$$\n",
    "where $|\\alpha|=\\sum_{j=1}^d \\alpha_j$."
   ]
  },
  {
   "cell_type": "markdown",
   "metadata": {},
   "source": [
    "## Q1\n",
    "\n",
    "For a multivariate count vector $\\mathbf{x}=(x_1,\\ldots,x_d)$ with batch size $|\\mathbf{x}|=\\sum_{j=1}^d x_j$, show that the probability mass function for Dirichlet-multinomial distribution is\n",
    "$$\n",
    "    f(\\mathbf{x} \\mid \\alpha) \n",
    "\t= \\int_{\\Delta_d} \\binom{|\\mathbf{x}|}{\\mathbf{x}} \\prod_{j=1}^d p_j^{x_j} \\pi(\\mathbf{p}) \\, d \\mathbf{p}  \n",
    "    = \\binom{|\\mathbf{x}|}{\\mathbf{x}} \\frac{\\prod_{j=1}^d \\Gamma(\\alpha_j+x_j)}{\\prod_{j=1}^d \\Gamma(\\alpha_j)} \\frac{\\Gamma(|\\alpha|)}{\\Gamma(|\\alpha|+|\\mathbf{x}|)}\n",
    "$$\n",
    "where $\\Delta_d$ is the unit simplex in $d$ dimensions and $|\\alpha| = \\sum_{j=1}^d \\alpha_j$.\n"
   ]
  },
  {
   "cell_type": "markdown",
   "metadata": {},
   "source": [
    "$$ Pr(\\mathbf{x}\\mid\\boldsymbol{\\alpha})=\\int_{\\mathbf{p}}\\Pr(\\mathbf{x}\\mid \\mathbf{p})\\Pr(\\mathbf{p}\\mid\\boldsymbol{\\alpha})\\textrm{d}\\mathbf{p} $$,\n",
    "$$ = \\int_{\\Delta_d} \\binom{|\\mathbf{x}|}{\\mathbf{x}} \\prod_{j=1}^d p_j^{x_j} \\pi(\\mathbf{p}) \\, d \\mathbf{p} $$,\n",
    "where $\\pi(\\mathbf{p}) =  \\frac{\\Gamma(|\\alpha|)}{\\prod_{j=1}^d \\Gamma(\\alpha_j)} \\prod_{j=1}^d p_j^{\\alpha_j-1}$\n",
    "$$Pr(\\mathbf{x}\\mid\\boldsymbol{\\alpha}) = \\int_{\\Delta_d} \\binom{|\\mathbf{x}|}{\\mathbf{x}} \\prod_{j=1}^d p_j^{x_j}\\frac{\\Gamma(|\\alpha|)}{\\prod_{j=1}^d \\Gamma(\\alpha_j)} \\prod_{j=1}^d p_j^{\\alpha_j-1} \\, d \\mathbf{p}  $$\n",
    "$$ = \\binom{|\\mathbf{x}|}{\\mathbf{x}} \\frac{\\Gamma(|\\alpha|)}{\\prod_{j=1}^d \\Gamma(\\alpha_j)} \\int_{\\Delta_d} \n",
    "\\prod_{j=1}^d p_j^{x_j + \\alpha_j-1} \\, d \\mathbf{p}  $$\n",
    "$$ = \\binom{|\\mathbf{x}|}{\\mathbf{x}} \\frac{\\Gamma(|\\alpha|)}{\\prod_{j=1}^d \\Gamma(\\alpha_j)} \\frac{\\prod_{j=1}^d \\Gamma(\\alpha_j+x_j)}{\\Gamma(|\\alpha|+|\\mathbf{x}|)}$$\n",
    "$$ = \\binom{|\\mathbf{x}|}{\\mathbf{x}} \\frac{\\prod_{j=1}^d \\Gamma(\\alpha_j+x_j)}{\\prod_{j=1}^d \\Gamma(\\alpha_j)} \\frac{\\Gamma(|\\alpha|)}{\\Gamma(|\\alpha|+|\\mathbf{x}|)} $$\n",
    "\n",
    "\n",
    "\n"
   ]
  },
  {
   "cell_type": "markdown",
   "metadata": {},
   "source": [
    "## Q2\n",
    "\n",
    "Given independent data points $\\mathbf{x}_1, \\ldots, \\mathbf{x}_n$, show that the log-likelihood is\n",
    "$$\n",
    "L(\\alpha) = \\sum_{i=1}^n \\ln \\binom{|\\mathbf{x}_i|}{\\mathbf{x}_i} + \\sum_{i=1}^n \\sum_{j=1}^d [\\ln \\Gamma(\\alpha_j + x_{ij}) - \\ln \\Gamma(\\alpha_j)] - \\sum_{i=1}^n [\\ln \\Gamma(|\\alpha|+|\\mathbf{x}_i|) - \\ln \\Gamma(|\\alpha|)].\n",
    "$$\n",
    "Is the log-likelihood a concave function?"
   ]
  },
  {
   "cell_type": "markdown",
   "metadata": {},
   "source": [
    "We have already known that $ f(x) = \\binom{|\\mathbf{x}|}{\\mathbf{x}} \\frac{\\prod_{j=1}^d \\Gamma(\\alpha_j+x_j)}{\\prod_{j=1}^d \\Gamma(\\alpha_j)} \\frac{\\Gamma(|\\alpha|)}{\\Gamma(|\\alpha|+|\\mathbf{x}|)}$\n",
    "$$ \\begin{aligned}\n",
    "L(\\alpha) &= \\ln \\prod_{i=1}^n  f(\\mathbf{x}_i \\mid \\alpha)\\\\\n",
    "&=\\sum_{i=1}^n\\ln \\binom{|\\mathbf{x}_i|}{\\mathbf{x}_i} + \\sum_{i=1}^n \\sum_{j=1}^d \\ln \\Gamma(\\alpha_j + x_{ij})- \\sum_{i=1}^n \\sum_{j=1}^d \\ln \\Gamma(\\alpha_j)+\\sum_{i=1}^n \\ln \\Gamma(|\\alpha|)- \\sum_{i=1}^n \\ln \\Gamma(|\\alpha|+|\\mathbf{x}_i|)\\\\\n",
    "&= \\sum_{i=1}^n\\ln \\binom{|\\mathbf{x}_i|}{\\mathbf{x}_i} + \\sum_{i=1}^n \\sum_{j=1}^d [\\ln \\Gamma(\\alpha_j + x_{ij}) - \\ln \\Gamma(\\alpha_j)] - \\sum_{i=1}^n [\\ln \\Gamma(|\\alpha|+|\\mathbf{x}_i|) - \\ln \\Gamma(|\\alpha|)].\n",
    "\\end{aligned} $$\n",
    "\n",
    "To see if the log-likelihood is a concave function, the Hessian of L need to be calculated. (The function will be impliment in following question)"
   ]
  },
  {
   "cell_type": "markdown",
   "metadata": {},
   "source": [
    "## Q3\n",
    "\n",
    "Write Julia function to compute the log-density of the Dirichlet-multinomial distribution."
   ]
  },
  {
   "cell_type": "code",
   "execution_count": 4,
   "metadata": {},
   "outputs": [
    {
     "data": {
      "text/plain": [
       "dirmult_logpdf"
      ]
     },
     "execution_count": 4,
     "metadata": {},
     "output_type": "execute_result"
    }
   ],
   "source": [
    "\"\"\"\n",
    "    dirmult_logpdf(x::Vector, α::Vector)\n",
    "    \n",
    "Compute the log-pdf of Dirichlet-multinomial distribution with parameter `α` \n",
    "at data point `x`.\n",
    "\"\"\"\n",
    "function dirmult_logpdf(x::Vector, α::Vector)\n",
    "    n = size(x)[1]\n",
    "    d = size(α)\n",
    "\n",
    "    l = 0.0\n",
    "    \n",
    "    # These parts are computed from each element of x\n",
    "    # ∑[-ln(x_ij) + ln(Γ(α_j + x_{ij})) - ln(Γ(α_j))]\n",
    "    for i = 1:n\n",
    "         l += - lfact(x[i]) - lgamma(α[i]) + lgamma(x[i] + α[i])\n",
    "    end\n",
    "\n",
    "    # These parts are unrelated to each element of x\n",
    "    # ln(|x|) - ln(Γ(|α| + |x|)) + ln(Γ(|α|))\n",
    "    norm_x = sum(x)\n",
    "    norm_α = sum(α)    \n",
    "    l = lfact(norm_x) - lgamma(norm_α + norm_x) + lgamma(norm_α)\n",
    "\n",
    "    return l\n",
    "end\n",
    "\n",
    "function dirmult_logpdf!(r::Vector, X::Matrix, α::Vector)\n",
    "    for j in 1:size(X, 2)\n",
    "        r[j] = dirmult_logpdf(X[:, j], α)\n",
    "    end\n",
    "    return r\n",
    "end\n",
    "\n",
    "\"\"\"\n",
    "    dirmult_logpdf(X, α)\n",
    "    \n",
    "Compute the log-pdf of Dirichlet-multinomial distribution with parameter `α` \n",
    "at each data point in `X`. Each column of `X` is one data point.\n",
    "\"\"\"\n",
    "function dirmult_logpdf(X::Matrix, α::Vector)\n",
    "    r = zeros(size(X, 2))\n",
    "    dirmult_logpdf!(r, X, α)\n",
    "end"
   ]
  },
  {
   "cell_type": "markdown",
   "metadata": {},
   "source": [
    "## Q4\n",
    "\n",
    "Read in `optdigits.tra`, the training set of 3823 handwritten digits. Each row contains the 64 counts of a digit and the last element (65th element) indicates what digit it is. For grading purpose, evaluate the total log-likelihood of this data at parameter values $\\alpha=(1,\\ldots,1)$ using your function in Q3."
   ]
  },
  {
   "cell_type": "code",
   "execution_count": 5,
   "metadata": {},
   "outputs": [
    {
     "name": "stderr",
     "output_type": "stream",
     "text": [
      "  % Total    % Received % Xferd  Average Speed   Time    Time     Time  Current\n",
      "                                 Dload  Upload   Total   Spent    Left  Speed\n",
      "100  550k  100  550k    0     0  1287k      0 --:--:-- --:--:-- --:--:-- 1289k\n"
     ]
    },
    {
     "data": {
      "text/plain": [
       "\"optdigits.tra\""
      ]
     },
     "execution_count": 5,
     "metadata": {},
     "output_type": "execute_result"
    }
   ],
   "source": [
    "# read in optdigits.tra\n",
    "download(\"http://hua-zhou.github.io/teaching/\" * \n",
    "    \"biostatm280-2018spring/hw/hw4/optdigits.tra\",\n",
    "    \"optdigits.tra\")"
   ]
  },
  {
   "cell_type": "code",
   "execution_count": 6,
   "metadata": {},
   "outputs": [
    {
     "data": {
      "text/plain": [
       "3823-element Array{Float64,1}:\n",
       " -165.188\n",
       " -176.23 \n",
       " -167.774\n",
       " -165.564\n",
       " -157.79 \n",
       " -176.071\n",
       " -158.423\n",
       " -159.258\n",
       " -174.302\n",
       " -178.407\n",
       " -171.294\n",
       " -169.383\n",
       " -175.753\n",
       "    ⋮    \n",
       " -160.49 \n",
       " -158.633\n",
       " -156.935\n",
       " -171.975\n",
       " -177.638\n",
       " -169.735\n",
       " -158.423\n",
       " -159.465\n",
       " -159.877\n",
       " -169.735\n",
       " -173.149\n",
       " -155.411"
      ]
     },
     "execution_count": 6,
     "metadata": {},
     "output_type": "execute_result"
    }
   ],
   "source": [
    "opt = readcsv(\"optdigits.tra\", Int)\n",
    "x = opt[:, 1:64]' \n",
    "α = ones(64)\n",
    "loglkh = dirmult_logpdf(x, α)"
   ]
  },
  {
   "cell_type": "code",
   "execution_count": 7,
   "metadata": {},
   "outputs": [
    {
     "data": {
      "text/plain": [
       "-638817.993292528"
      ]
     },
     "execution_count": 7,
     "metadata": {},
     "output_type": "execute_result"
    }
   ],
   "source": [
    "# total log-likelihood \n",
    "tot_loglkh = sum(loglkh)"
   ]
  },
  {
   "cell_type": "markdown",
   "metadata": {},
   "source": [
    "## Q5\n",
    "\n",
    "Derive the score function $\\nabla L(\\alpha)$, observed information matrix $-d^2L(\\alpha)$, and Fisher information matrix $\\mathbf{E}[-d^2L(\\alpha)]$ for the Dirichlet-multinomial distribution.\n",
    "\n",
    "Comment on why Fisher scoring method is inefficient for computing MLE in this example."
   ]
  },
  {
   "cell_type": "markdown",
   "metadata": {},
   "source": [
    "The score: \n",
    "$$\\nabla L(\\theta) = \\begin{pmatrix}\n",
    "  \\frac{\\partial L(\\theta)}{\\partial \\theta_1} \\\\\n",
    "  \\vdots \\\\\n",
    "  \\frac{\\partial L(\\theta)}{\\partial \\theta_p}\n",
    "  \\end{pmatrix} $$\n",
    "\n",
    "$$ \\frac{\\partial}{\\partial \\alpha_j} L(\\alpha) = \\frac{\\partial}{\\partial \\alpha_j} (\\sum_{i=1}^n \\sum_{j=1}^d [\\ln \\Gamma(\\alpha_j + x_{ij}) - \\ln \\Gamma(\\alpha_j)] - \\sum_{i=1}^n [\\ln \\Gamma(|\\alpha|+|\\mathbf{x}_i|) - \\ln \\Gamma(|\\alpha|)] )$$\n",
    "$$ = \\sum_{i=1}^n [\\psi(x_{ij}+\\alpha_j) - \\psi(\\alpha_j)] - \\sum_{i=1}^n [\\psi(|\\mathbf{x}_i|+|\\alpha|) - \\psi(|\\alpha|)]$$\n",
    "where $\\psi(x) = [\\ln \\Gamma(x)]' = \\Gamma'(x)/\\Gamma(x)$ is digamma function. ($\\psi(x)'$ is trigamma function)\n",
    "\n",
    "The observed information matrix:\n",
    "$$ \\nabla^2 L(\\theta) = d^2 L(\\theta) = \\begin{pmatrix}\n",
    "  \\frac{\\partial^2 L(\\theta)}{\\partial \\theta_1 \\partial \\theta_1} & \\dots & \\frac{\\partial^2 L(\\theta)}{\\partial \\theta_1 \\partial \\theta_p} \\\\\n",
    "  \\vdots & \\ddots & \\vdots \\\\\n",
    "  \\frac{\\partial^2 L(\\theta)}{\\partial \\theta_p \\partial \\theta_1} & \\dots & \\frac{\\partial^2 L(\\theta)}{\\partial \\theta_p \\partial \\theta_p}\n",
    "  \\end{pmatrix}$$\n",
    "  \n",
    "$$ [- d^2 L(\\alpha)] = \\sum_{i=1}^n [\\psi'(\\alpha_j) -\\psi'(x_{ij}+\\alpha_j)] - \\sum_{i=1}^n [ \\psi'(|\\alpha|) + \\psi'(|\\mathbf{x}_i|-|\\alpha|)] $$\n",
    "\n",
    "To express the $[- d^2 L(\\alpha)]$ simpler, observed information matrix can be shown as:\n",
    "$$[- d^2 L(\\alpha)] = \\mathbf{D} - c \\mathbf{1} \\mathbf{1}^T,$$\n",
    "where $ d_j = \\sum_{i=1}^n \\sum_{k=0}^{x_{ij}-1} \\frac{1}{(\\alpha_j + k)^2} $\n",
    "and $ c = \\sum_{i=1}^n \\sum_{k=0}^{|\\mathbf{x}_i|-1} \\frac{1}{(|\\alpha|+k)^2}$\n",
    "\n",
    "The expected information matrix: \n",
    "$$\\mathbf{E}[-d^2L(\\alpha)] = \\mathbf{E}[\\mathbf{D} - c \\mathbf{1} \\mathbf{1}^T] = \\mathbf{E}(\\mathbf{D}) - c \\mathbf{1}_d \\mathbf{1}_d^T $$\n",
    "$$ \\mathbf{E}(d_j) = \\mathbf{E}[\\sum_{i=1}^n \\sum_{k=0}^{x_{ij}-1} \\frac{1}{(\\alpha_j + k)^2}] = \\sum_{i=1}^n \\sum_{k=0}^{|\\mathbf{x}_i|-1} \\frac{\\mathbf{P}(X_{ij}>k)}{(\\alpha_j+k)^2},$$\n",
    "\n",
    "Newton's method can be computed by matrix operations, but Fisher scoring method needs to compute Fisher information matrix which has $n\\times d$ probabilities, which is inefficient in Julia."
   ]
  },
  {
   "cell_type": "markdown",
   "metadata": {},
   "source": [
    "## Q6\n",
    "\n",
    "What structure does the observed information matrix possess that can facilitate the evaluation of the Newton direction? Is the observed information matrix always positive definite? What remedy can we take if it fails to be positive definite? (Hint: HW1 Q6.)"
   ]
  },
  {
   "cell_type": "markdown",
   "metadata": {},
   "source": [
    "By the result of HW1 Q6 \n",
    "\n",
    "Sherman-Morrison formula: $(\\mathbf{A} + \\mathbf{u} \\mathbf{u}^T)^{-1} = \\mathbf{A}^{-1} - \\frac{1}{1 + \\mathbf{u}^T \\mathbf{A}^{-1} \\mathbf{u}} \\mathbf{A}^{-1} \\mathbf{u} \\mathbf{u}^T \\mathbf{A}^{-1}$; \n",
    "Determinant formula: $\\text{det}(\\mathbf{A} + \\mathbf{U} \\mathbf{V}^T) = \\text{det}(\\mathbf{A}) \\text{det}(\\mathbf{I}_m + \\mathbf{V}^T \\mathbf{A}^{-1} \\mathbf{U})$\n",
    "\n",
    "$$[-d^2L(\\boldsymbol{\\alpha})]^{-1} = \\boldsymbol{D}^{-1} + \\frac{1}{c^{-1} - \\sum_j d_j^{-1}} \\boldsymbol{D}^{-1} \\boldsymbol{1} \\boldsymbol{1}^T \\boldsymbol{D}^{-1} $$\n",
    "$$ \\text{det}[-d^2L(\\boldsymbol{\\alpha})] = \\text{det}[\\mathbf{D} - c \\mathbf{1} \\mathbf{1}^T],$$\n",
    "$$ = \\text{det}(\\mathbf{D}) \\text{det}(1 - c*\\boldsymbol{D}^{-1}) $$\n",
    "$$ = \\left( \\prod_j d_j \\right) \\left(1 - c \\sum_j d_j^{-1} \\right)$$\n",
    "\n",
    "Therefore, the observed information matrix is not always positive definite, but only when $\\text{det}[-d^2L(\\boldsymbol{\\alpha})] = \\left( \\prod_j d_j \\right) \\left(1 - c \\sum_j d_j^{-1} \\right) > 0$.\n",
    "\n",
    "When the observed information matrix fails to be positive definite, $c$ can be adjusted to satisfy these two conditions:\n",
    "1. each element of the diagonal matrix $\\mathbf{D}$ is greater than 0\n",
    "2. $c < \\frac{1}{\\sum_j d_j^{-1}} .$\n"
   ]
  },
  {
   "cell_type": "markdown",
   "metadata": {},
   "source": [
    "## Q7\n",
    "\n",
    "Discuss how to choose a good starting point. Implement this as the default starting value in your function below. (Hint: Method of moment estimator may furnish a good starting point.)"
   ]
  },
  {
   "cell_type": "markdown",
   "metadata": {},
   "source": [
    "According to Prof.Zhou's announcement:\n",
    "\n",
    "$ P=(P_1, \\ldots, P_d) $ is from Dirichlet distribution with parameter, $\\alpha = (\\alpha_1, \\ldots, \\alpha_d)$, then $ E(P_j) = \\alpha_j / (\\sum_{j’} \\alpha_{j’}) $ and $ E(P_j^2) = \\alpha_j (\\alpha_j + 1) / (\\sum_{j’} \\alpha_{j’}) / ((\\sum_{j’} \\alpha_{j’}) + 1) $\n",
    "\n",
    "Then we can get a equation for $\\alpha$: \n",
    "$$ \\frac{\\mathbf{E}(P_j^2)}{\\mathbf{E}(P_j)} = \\frac{\\boldsymbol{\\alpha_j} + 1}{|\\boldsymbol{\\alpha}|+1} $$\n",
    "then the sum $\\alpha$ can be derive, \n",
    "$$ w := \\sum_j \\frac{\\mathbf{E}(P_j^2)}{\\mathbf{E}(P_j)} = \\frac{|\\boldsymbol{\\alpha}|+d}{|\\boldsymbol{\\alpha}|+1} $$\n",
    "\n",
    "$$ |\\boldsymbol{\\alpha}| = \\frac{d - w}{w - 1} $$\n",
    "\n",
    "Since $E(P_j)$ and $E(P_j^2)$ can be estimated by $\\sum_i (\\frac{x_{ij}}{|\\boldsymbol{x_i}|})$ and $\\sum_i (\\frac{x_{ij}}{|\\boldsymbol{x_i}|})^2$, respectively, $w$ can be estimated by:\n",
    "\n",
    "$$ \\hat{w} = \\sum_j \\frac{\\sum_i (\\frac{x_{ij}}{|\\boldsymbol{x_i}|})^2}{\\sum_i (\\frac{x_{ij}}{|\\boldsymbol{x_i}|})}$$\n",
    "\n",
    "Then $\\alpha_j$ can be initialized as\n",
    "\n",
    "$$ \\alpha_j = |\\boldsymbol{\\alpha}|\\frac{\\sum_i x_{ij}}{\\sum_i |\\boldsymbol{x_i}|} = \\frac{d - \\hat{w}}{\\hat{w} - 1} \\frac{\\sum_i x_{ij}}{\\sum_i |\\boldsymbol{x_i}|}$$\n"
   ]
  },
  {
   "cell_type": "code",
   "execution_count": 42,
   "metadata": {},
   "outputs": [
    {
     "data": {
      "text/plain": [
       "dirmult_init_alpha (generic function with 1 method)"
      ]
     },
     "execution_count": 42,
     "metadata": {},
     "output_type": "execute_result"
    }
   ],
   "source": [
    "# Use the method of moment estimator to initialize α_j\n",
    "\n",
    "function dirmult_init_alpha(X::Matrix)\n",
    "   # n is the number of samples, d is the number of parameters\n",
    "    n = size(x, 1)\n",
    "    d = size(x, 2)\n",
    "   # First compute the first and second moment of X_i\n",
    "    first_moment = zeros(n, d)\n",
    "    second_moment = zeros(n, d)\n",
    "   \n",
    "   # Need to handle the case when sum(X, 2) = 0 \n",
    "    first_moment = X ./ ((1e-32 + sum(X, 2)) * ones(1, d))\n",
    "    second_moment = first_moment .^ 2\n",
    "   \n",
    "   # Then estimate the w, need to handle the case when sum(first_moment, 1) = 0\n",
    "    w = sum(sum(second_moment, 1) ./ (1e-32 + sum(first_moment, 1)))\n",
    "   \n",
    "   # Compute the α\n",
    "    α = ((d - w) / (w - 1)) .* sum(X, 1) ./ sum(sum(X, 1))\n",
    "    return α'\n",
    "end  \n"
   ]
  },
  {
   "cell_type": "code",
   "execution_count": 44,
   "metadata": {},
   "outputs": [
    {
     "data": {
      "text/plain": [
       "64×1 Array{Float64,2}:\n",
       " 0.0        \n",
       " 0.0718341  \n",
       " 1.3068     \n",
       " 2.81438    \n",
       " 2.72988    \n",
       " 1.31241    \n",
       " 0.330736   \n",
       " 0.0339217  \n",
       " 0.000498848\n",
       " 0.467358   \n",
       " 2.52149    \n",
       " 2.7928     \n",
       " 2.53284    \n",
       " ⋮          \n",
       " 2.32781    \n",
       " 2.21302    \n",
       " 0.892502   \n",
       " 0.0353559  \n",
       " 6.2356e-5  \n",
       " 0.0674692  \n",
       " 1.39596    \n",
       " 2.84705    \n",
       " 2.73219    \n",
       " 1.59731    \n",
       " 0.501966   \n",
       " 0.0482012  "
      ]
     },
     "execution_count": 44,
     "metadata": {},
     "output_type": "execute_result"
    }
   ],
   "source": [
    "# Try the matrix x from data to find α\n",
    "dirmult_init_alpha(x')"
   ]
  },
  {
   "cell_type": "markdown",
   "metadata": {},
   "source": [
    "## Q8\n",
    "\n",
    "Write a function for finding MLE of Dirichlet-multinomial distribution given iid observations $\\mathbf{x}_1,\\ldots,\\mathbf{x}_n$, using the Newton's method. "
   ]
  },
  {
   "cell_type": "code",
   "execution_count": 50,
   "metadata": {},
   "outputs": [
    {
     "data": {
      "text/plain": [
       "dirmult_gradient (generic function with 2 methods)"
      ]
     },
     "execution_count": 50,
     "metadata": {},
     "output_type": "execute_result"
    }
   ],
   "source": [
    "# Before writing dirmult_newton implementation evaluate gradient (score)\n",
    "# Pkg.add(\"SpecialFunctions\")\n",
    "using SpecialFunctions\n",
    "function dirmult_gradient(X::Matrix, α::Array)\n",
    "    n, d = size(X)\n",
    "    sum_α = sum(α)\n",
    "    sum_x = sum(X, 2)\n",
    "        \n",
    "    ∇ = zeros(d)\n",
    "    \n",
    "    # First compute \\sum_{i=1}^n [ψ(|\\mathbf{x}_i|+|α|) - ψ(|α|)] as it holds for every j\n",
    "    const_j = 0\n",
    "    for i in 1:n\n",
    "        const_j += (digamma(sum_x[i] + sum_α))\n",
    "    end\n",
    "    \n",
    "    const_j -= (n * digamma(sum_α))\n",
    "\n",
    "    # Then compute \\sum_{i=1}^n [ψ(x_{ij}+α_j) - ψ(α_j)]\n",
    "    for j in 1:d\n",
    "        for i in 1:n\n",
    "            if α[j] == 0 && X[i, j] > 0\n",
    "                ∇[j] += Inf\n",
    "            elseif α[j] > 0\n",
    "                ∇[j] += digamma(X[i, j] + α[j]) - digamma(α[j])\n",
    "            end\n",
    "        end\n",
    "        \n",
    "        # Finally combine with the const part\n",
    "        ∇[j] -= const_j\n",
    "    end\n",
    "    \n",
    "    return ∇\n",
    "end"
   ]
  },
  {
   "cell_type": "code",
   "execution_count": 51,
   "metadata": {},
   "outputs": [
    {
     "data": {
      "text/plain": [
       "64-element Array{Float64,1}:\n",
       " -6809.0  \n",
       " -5994.02 \n",
       "   399.53 \n",
       "  4465.77 \n",
       "  4255.45 \n",
       "  -239.022\n",
       " -4871.03 \n",
       " -6583.75 \n",
       " -6804.21 \n",
       " -3509.27 \n",
       "  3477.72 \n",
       "  4619.83 \n",
       "  3901.48 \n",
       "     ⋮    \n",
       "  3294.76 \n",
       "  2375.96 \n",
       " -2036.58 \n",
       " -6477.55 \n",
       " -6808.0  \n",
       " -6101.94 \n",
       "   525.922\n",
       "  4463.0  \n",
       "  3988.35 \n",
       "   655.835\n",
       " -3961.5  \n",
       " -6442.54 "
      ]
     },
     "execution_count": 51,
     "metadata": {},
     "output_type": "execute_result"
    }
   ],
   "source": [
    "X = x'\n",
    "α\n",
    "dirmult_gradient(X, ones(64))"
   ]
  },
  {
   "cell_type": "code",
   "execution_count": 52,
   "metadata": {},
   "outputs": [
    {
     "data": {
      "text/plain": [
       "dirmult_obs (generic function with 2 methods)"
      ]
     },
     "execution_count": 52,
     "metadata": {},
     "output_type": "execute_result"
    }
   ],
   "source": [
    "# observed information matrix\n",
    "#Return vector d and constant `c`. The observed information matrix equals `Diagonal(d) - c`.\n",
    "function dirmult_obs(X::Matrix, α::Array)\n",
    "    n, r = size(X)\n",
    "    sum_α = sum(α)\n",
    "    sum_x = sum(X, 2)\n",
    "    \n",
    "    # First compute \\sum_{i=1}^n [ψ'(|α|) - ψ'(|\\mathbf{x}_i|+|α|) ] as it holds for every j\n",
    "    c = 0\n",
    "        \n",
    "    for i in 1:n\n",
    "        if sum_α == 0 && sum_x > 0\n",
    "            c += Inf\n",
    "        elseif sum_α > 0\n",
    "            c += trigamma(sum_α) - (trigamma(sum_x[i] + sum_α))\n",
    "        end\n",
    "    end\n",
    "    \n",
    "    # Then compute \\sum_{i=1}^n [ψ'(α_j) - ψ'(x_{ij}+α_j)]\n",
    "    d = zeros(r)\n",
    "    for j in 1:r\n",
    "        for i in 1:n\n",
    "            if α[j] == 0 && X[i, j] > 0\n",
    "                d[j] += Inf\n",
    "            elseif α[j] > 0\n",
    "                d[j] += trigamma(α[j]) - trigamma(X[i, j] + α[j])\n",
    "            end\n",
    "        end\n",
    "    end\n",
    "    \n",
    "    return c, d\n",
    "end"
   ]
  },
  {
   "cell_type": "code",
   "execution_count": 53,
   "metadata": {},
   "outputs": [
    {
     "data": {
      "text/plain": [
       "(50.0163869748493, [0.0, 688.915, 4313.97, 5730.92, 5665.9, 3860.62, 1242.08, 151.565, 3.71361, 2231.94  …  2853.36, 255.11, 1.0, 574.829, 4306.32, 5688.55, 5469.75, 4162.56, 1787.01, 264.045])"
      ]
     },
     "execution_count": 53,
     "metadata": {},
     "output_type": "execute_result"
    }
   ],
   "source": [
    "X = x'\n",
    "dirmult_obs(X, ones(64, 1))\n"
   ]
  },
  {
   "cell_type": "code",
   "execution_count": 49,
   "metadata": {},
   "outputs": [
    {
     "data": {
      "text/plain": [
       "dirmult_newton (generic function with 1 method)"
      ]
     },
     "execution_count": 49,
     "metadata": {},
     "output_type": "execute_result"
    }
   ],
   "source": [
    "\"\"\"\n",
    "    dirmult_newton(X)\n",
    "\n",
    "Find the MLE of Dirichlet-multinomial distribution using Newton's method.\n",
    "\n",
    "# Argument\n",
    "* `X`: an `n`-by-`d` matrix of counts; each column is one data point.\n",
    "\n",
    "# Optional argument  \n",
    "* `alpha0`: a `d` vector of starting point (optional). \n",
    "* `maxiters`: the maximum allowable Newton iterations (default 100). \n",
    "* `tolfun`: the tolerance for  relative change in objective values (default 1e-6). \n",
    "\n",
    "# Output\n",
    "* `maximum`: the log-likelihood at MLE.   \n",
    "* `estimate`: the MLE. \n",
    "* `gradient`: the gradient at MLE. \n",
    "* `hessian`: the Hessian at MLE. \n",
    "* `se`: a `d` vector of standard errors. \n",
    "* `iterations`: the number of iterations performed.\n",
    "\"\"\"\n",
    "# Pkg.add(WoodburyMatrices)\n",
    "using WoodburyMatrices\n",
    "function dirmult_newton(x::Matrix; α0::Vector = nothing, \n",
    "            maxiters::Int = 100, tolfun::Float64 = 1e-6)\n",
    "    \n",
    "    # set default starting point from Q7\n",
    "    α0 = dirmult_init_alpha(x')\n",
    "    n = size(x, 1)\n",
    "    d = size(x, 2)\n",
    "    iterations = 0\n",
    "    loglold = sum(dirmult_logpdf(x, α)) \n",
    "    \n",
    "    # Newton loop\n",
    "    for iter in 1:maxiters\n",
    "        \n",
    "        # evaluate gradient (score)\n",
    "        gradient = dirmult_gradient(x, α0)\n",
    "        \n",
    "        # obs information matrix\n",
    "        A, u = dirmult_obs(Xnew, α0)\n",
    "        \n",
    "        # compute Newton's direction\n",
    "        # Check pd\n",
    "        sumd = (sum(A).^-1)\n",
    "        if u[1] < sumd^-1\n",
    "            u[1] = .99 * (sum(A).^-1)\n",
    "        end\n",
    "        M = SymWoodbury(A, ones(d, 1), u)\n",
    "        \n",
    "        ndir = \n",
    "        # line search loop\n",
    "        for lsiter in 1:10\n",
    "            # step halving\n",
    "        end\n",
    "        \n",
    "        # check convergence criterion\n",
    "        if abs(logl - loglold) < tolfun * (abs(loglold) + 1)\n",
    "            break;\n",
    "        end\n",
    "    end\n",
    "    \n",
    "    # compute logl, gradient, Hessian from final iterate\n",
    "    \n",
    "    # output\n",
    "    \n",
    "end"
   ]
  },
  {
   "cell_type": "markdown",
   "metadata": {},
   "source": [
    "## Q9\n",
    "\n",
    "Read in `optdigits.tra`, the training set of 3823 handwritten digits. Find the MLE for the subset of digit 0, digit 1, ..., and digit 9 separately using your function. "
   ]
  },
  {
   "cell_type": "code",
   "execution_count": 47,
   "metadata": {},
   "outputs": [
    {
     "ename": "LoadError",
     "evalue": "\u001b[91mUndefVarError: dirmult_newton not defined\u001b[39m",
     "output_type": "error",
     "traceback": [
      "\u001b[91mUndefVarError: dirmult_newton not defined\u001b[39m",
      "",
      "Stacktrace:",
      " [1] \u001b[1mmacro expansion\u001b[22m\u001b[22m at \u001b[1m./In[47]:3\u001b[22m\u001b[22m [inlined]",
      " [2] \u001b[1manonymous\u001b[22m\u001b[22m at \u001b[1m./<missing>:?\u001b[22m\u001b[22m",
      " [3] \u001b[1minclude_string\u001b[22m\u001b[22m\u001b[1m(\u001b[22m\u001b[22m::String, ::String\u001b[1m)\u001b[22m\u001b[22m at \u001b[1m./loading.jl:522\u001b[22m\u001b[22m"
     ]
    }
   ],
   "source": [
    "X=O[1:64, :]'\n",
    "for i in 0:9\n",
    "    A[i+1, :] = dirmult_newton(X[find(O[65,:] .== i), :])\n",
    "end\n",
    "\n",
    "@show A'"
   ]
  },
  {
   "cell_type": "markdown",
   "metadata": {},
   "source": [
    "## Q10\n",
    "\n",
    "As $\\alpha / |\\alpha| \\to \\mathbf{p}$, the Dirichlet-multinomial distribution converges to a multinomial with parameter $\\mathbf{p}$. Therefore multinomial can be considered as a special Dirichlet-multinomial with $|\\alpha|=\\infty$. Perform a likelihood ratio test (LRT) whether Dirichlet-multinomial offers a better fit than multinomial for digits 0, 1, ..., 9 respectively."
   ]
  },
  {
   "cell_type": "markdown",
   "metadata": {},
   "source": [
    "## Q11\n",
    "\n",
    "Now we can construct a simple Bayesian rule for handwritten digits recognition:\n",
    "$$\n",
    "\t\\mathbf{x}\t\\mapsto \\arg \\max_k \\widehat \\pi_k f(x|\\widehat \\alpha_k).\n",
    "$$\n",
    "Here we can use the proportion of digit $k$ in the training set as the prior probability $\\widehat \\pi_k$. Report the performance of your classifier on the test set of 1797 digits in `optdigits.tes`."
   ]
  },
  {
   "cell_type": "markdown",
   "metadata": {},
   "source": [
    "# I've tried best and couldn't go further. Be kind please."
   ]
  },
  {
   "cell_type": "code",
   "execution_count": null,
   "metadata": {},
   "outputs": [],
   "source": []
  }
 ],
 "metadata": {
  "kernelspec": {
   "display_name": "Julia 0.6.2",
   "language": "julia",
   "name": "julia-0.6"
  },
  "language_info": {
   "file_extension": ".jl",
   "mimetype": "application/julia",
   "name": "julia",
   "version": "0.6.2"
  },
  "toc": {
   "colors": {
    "hover_highlight": "#DAA520",
    "running_highlight": "#FF0000",
    "selected_highlight": "#FFD700"
   },
   "moveMenuLeft": true,
   "nav_menu": {
    "height": "65px",
    "width": "252px"
   },
   "navigate_menu": true,
   "number_sections": false,
   "sideBar": true,
   "threshold": 4,
   "toc_cell": false,
   "toc_section_display": "block",
   "toc_window_display": false,
   "widenNotebook": false
  }
 },
 "nbformat": 4,
 "nbformat_minor": 2
}
