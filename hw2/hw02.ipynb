{
 "cells": [
  {
   "cell_type": "markdown",
   "metadata": {},
   "source": [
    "# Biostat M280 Homework 2\n",
    "\n",
    "**Due May 11 @ 11:59PM**"
   ]
  },
  {
   "cell_type": "markdown",
   "metadata": {},
   "source": [
    "\n",
    "## Q1. Nonnegative Matrix Factorization\n",
    "\n",
    "Nonnegative matrix factorization (NNMF) was introduced by [Lee and Seung (1999)](https://www.nature.com/articles/44565) as an analog of principal components and vector quantization with applications in data compression and clustering. In this homework we consider algorithms for fitting NNMF and (optionally) high performance computing using graphical processing units (GPUs).\n",
    "\n",
    "<img src=\"./nnmf.png\" width=\"500\" align=\"center\"/>\n",
    "\n",
    "In mathematical terms, one approximates a data matrix $\\mathbf{X} \\in \\mathbb{R}^{m \\times n}$ with nonnegative entries $x_{ij}$ by a product of two low-rank matrices $\\mathbf{V} \\in \\mathbb{R}^{m \\times r}$ and $\\mathbf{W} \\in \\mathbb{R}^{r \\times n}$ with nonnegative entries $v_{ik}$ and $w_{kj}$. Consider minimization of the squared Frobenius norm\n",
    "$$\n",
    "\tL(\\mathbf{V}, \\mathbf{W}) = \\|\\mathbf{X} - \\mathbf{V} \\mathbf{W}\\|_{\\text{F}}^2 = \\sum_i \\sum_j \\left(x_{ij} - \\sum_k v_{ik} w_{kj} \\right)^2, \\quad v_{ik} \\ge 0, w_{kj} \\ge 0,\n",
    "$$\n",
    "which should lead to a good factorization. Later in the course we will learn how to derive a majorization-minimization (MM) algorithm with iterative updates\n",
    "$$\n",
    "\tv_{ik}^{(t+1)} = v_{ik}^{(t)} \\frac{\\sum_j x_{ij} w_{kj}^{(t)}}{\\sum_j b_{ij}^{(t)} w_{kj}^{(t)}}, \\quad \\text{where } b_{ij}^{(t)} = \\sum_k v_{ik}^{(t)} w_{kj}^{(t)},\n",
    "$$\n",
    "$$\n",
    "\tw_{kj}^{(t+1)} = w_{kj}^{(t)} \\frac{\\sum_i x_{ij} v_{ik}^{(t+1)}}{\\sum_i b_{ij}^{(t+1/2)} v_{ik}^{(t+1)}}, \\quad \\text{where } b_{ij}^{(t+1/2)} = \\sum_k v_{ik}^{(t+1)} w_{kj}^{(t)}\n",
    "$$\n",
    "that drive the objective $L^{(t)} = L(\\mathbf{V}^{(t)}, \\mathbf{W}^{(t)})$ downhill. Superscript $t$ indicates iteration number. Efficiency (both speed and memory) will be the most important criterion when grading this problem.\n",
    "\n",
    "\n",
    "1. Implement the algorithm with arguments: $\\mathbf{X}$ (data, each row is a vectorized image), rank $r$, convergence tolerance, and optional starting point.\n",
    "```julia\n",
    "function nnmf(\n",
    "    X::Matrix{T},\n",
    "    r::Integer;\n",
    "    maxiter::Integer=1000, \n",
    "    tol::Number=1e-4,\n",
    "    V::Matrix{T}=rand(T, size(X, 1), r),\n",
    "    W::Matrix{T}=rand(T, r, size(X, 2))\n",
    "    ) where T <: AbstractFloat\n",
    "    # implementation\n",
    "    # Output\n",
    "    return V, W\n",
    "end\n",
    "```\n",
    "\n",
    "0. Database 1 from the [MIT Center for Biological and Computational Learning (CBCL)](http://cbcl.mit.edu) reduces to a matrix $\\mathbf{X}$ containing $m = 2,429$ gray-scale face images with $n = 19 \\times 19 = 361$ pixels per face. Each image (row) is scaled to have mean and standard deviation 0.25.  \n",
    "Read in the [`nnmf-2429-by-361-face.txt`](http://hua-zhou.github.io/teaching/biostatm280-2018spring/hw/hw2/nnmf-2429-by-361-face.txt) file, e.g., using [`readdlm()`](https://docs.julialang.org/en/stable/stdlib/io-network/#Base.DataFmt.readdlm-Tuple{Any,Char,Type,Char}) function, and display a couple sample images, e.g., using [ImageView.jl](https://github.com/JuliaImages/ImageView.jl) package.\n",
    "\n",
    "0. Report the run times, using `@time`, of your function for fitting NNMF on the MIT CBCL face data set at ranks $r=10, 20, 30, 40, 50$. For ease of comparison (and grading), please start your algorithm with the provided $\\mathbf{V}^{(0)}$ (first $r$ columns of [`V0.txt`](http://hua-zhou.github.io/teaching/biostatm280-2018spring/hw/hw2/V0.txt)) and $\\mathbf{W}^{(0)}$ (first $r$ rows of [`W0.txt`](http://hua-zhou.github.io/teaching/biostatm280-2018spring/hw/hw2/W0.txt)) and stopping criterion\n",
    "$$\n",
    "\t\\frac{|L^{(t+1)} - L^{(t)}|}{|L^{(t)}| + 1} \\le 10^{-4}.\n",
    "$$\n",
    "\n",
    "0. Choose an $r \\in \\{10, 20, 30, 40, 50\\}$ and start your algorithm from a different $\\mathbf{V}^{(0)}$ and $\\mathbf{W}^{(0)}$. Do you obtain the same objective value and $(\\mathbf{V}, \\mathbf{W})$? Explain what you find.\n",
    "\n",
    "0. For the same $r$, start your algorithm from $v_{ik}^{(0)} = w_{kj}^{(0)} = 1$ for all $i,j,k$. Do you obtain the same objective value and $(\\mathbf{V}, \\mathbf{W})$? Explain what you find.\n",
    "\n",
    "0. Plot the basis images (rows of $\\mathbf{W}$) at rank $r=50$. What do you find?\n",
    "\n",
    "0. (Optional) Investigate the GPU capabilities of Julia. Report the speed gain of your GPU code over CPU code at ranks $r=10, 20, 30, 40, 50$. Make sure to use the same starting point as in part 2."
   ]
  },
  {
   "cell_type": "markdown",
   "metadata": {},
   "source": [
    "## 1. Implement the algorithm with arguments:  X"
   ]
  },
  {
   "cell_type": "code",
   "execution_count": 13,
   "metadata": {},
   "outputs": [
    {
     "data": {
      "text/plain": [
       "mynnmf (generic function with 5 methods)"
      ]
     },
     "execution_count": 13,
     "metadata": {},
     "output_type": "execute_result"
    }
   ],
   "source": [
    "function mynnmf(X::Matrix{T}, r::Int, \n",
    "        tol::Float64 = 1e-4, maxiter = 1000,\n",
    "        V::Matrix{T}=rand(T, size(X, 1), r),\n",
    "        W::Matrix{T}=rand(T, r, size(X, 2)),\n",
    "    ) where T <: AbstractFloat\n",
    "    \n",
    "    m = size(X, 1)\n",
    "    n = size(X, 2)\n",
    "    mn = m * n\n",
    "    loss = 0\n",
    "    # Iteration\n",
    "    for iter = 1: maxiter    \n",
    "        for k = 1:r\n",
    "            for i = 1:m\n",
    "                num = 0\n",
    "                den = 0\n",
    "                for j = 1:n \n",
    "                    #num = num + X[i, j]*W[k, j]\n",
    "                    BLAS.gemm!('N', 'T', 1.0, X, W, 0.0, num)\n",
    "                    b = 0\n",
    "                    #for t = 1: r\n",
    "                        #b = b + V[i, t]*W[t, j]\n",
    "                    #end\n",
    "                    # B = V * W\n",
    "                      BLAS.gemm!('N', 'N', 1.0, V, W, 0.0, B)\n",
    "                    #den = den + b*W[k, j]\n",
    "                      BLAS.gemm!('N', 'T', 1.0, B, W, 0.0, den)  \n",
    "                end \n",
    "                V[i, k] = V[i, k]*num/den\n",
    "            end\n",
    "        end\n",
    "        for j = 1:n  \n",
    "            for k = 1:r\n",
    "                num1 = 0\n",
    "                den1 = 0\n",
    "                for i = 1:m\n",
    "                    num1 = num1 +  X[i, j]*V[i, k]\n",
    "                    b1 = 0\n",
    "                    for t = 1:r\n",
    "                        b1 = b1 + V[i, t]*W[t, j]\n",
    "                    end\n",
    "                    den1 = den1 + b1*V[i, k]                   \n",
    "                end\n",
    "                W[k, j] = W[k, j]*num1/den1\n",
    "            end\n",
    "        end\n",
    "        # minimization of the squared Frobenius norm\n",
    "        B = V * W\n",
    "        diff = X - B\n",
    "        lastloss = loss\n",
    "        loss = vecnorm(diff)^2\n",
    "         # convergency or not\n",
    "        if abs(loss - lastloss) < tol\n",
    "            break\n",
    "        end\n",
    "    end   \n",
    "    #return\n",
    "    return V, W\n",
    "end"
   ]
  },
  {
   "cell_type": "code",
   "execution_count": null,
   "metadata": {},
   "outputs": [],
   "source": [
    "A = one(10,10)\n",
    "B = one(10, 10)\n",
    "BLAS.dot(10, A, 1, B, 1)"
   ]
  },
  {
   "cell_type": "code",
   "execution_count": 40,
   "metadata": {},
   "outputs": [
    {
     "data": {
      "text/plain": [
       "MYnnmf (generic function with 5 methods)"
      ]
     },
     "execution_count": 40,
     "metadata": {},
     "output_type": "execute_result"
    }
   ],
   "source": [
    "function MYnnmf(X::Matrix{T}, r::Int, \n",
    "        tol::Float64 = 1e-4, maxiter = 1000,\n",
    "        V::Matrix{T}=rand(T, size(X, 1), r),\n",
    "        W::Matrix{T}=rand(T, r, size(X, 2)),\n",
    "    ) where T <: AbstractFloat\n",
    "    \n",
    "    m = size(X, 1)\n",
    "    n = size(X, 2)\n",
    "    mn = m * n\n",
    "    num_V = zeros(V)\n",
    "    den_V = zeros(V)\n",
    "    num_W = zeros(W)\n",
    "    den_W = zeros(W)\n",
    "    B = V * W\n",
    "    loss = vecnorm(X - B)^2\n",
    "    # Iteration\n",
    "    for iter = 1: maxiter\n",
    "        BLAS.gemm!('N', 'T', 1.0, X, W, 0.0, num_V)\n",
    "        BLAS.gemm!('N', 'T', 1.0, B, W, 0.0, den_V)\n",
    "        for j = 1:r\n",
    "            for i = 1:m\n",
    "                V[i, j] = V[i, j]*(num_V[i, j] / den_V[i, j])\n",
    "            end\n",
    "        end\n",
    "        BLAS.gemm!('N', 'N', 1.0, V, W, 0.0, B)\n",
    "        \n",
    "        BLAS.gemm!('T', 'N', 1.0, V, X, 0.0, num_W)\n",
    "        BLAS.gemm!('T', 'N', 1.0, V, B, 0.0, den_W)\n",
    "        for j = 1:n\n",
    "            for i = 1:r\n",
    "                 W[i, j] = W[i, j]*(num_W[i, j] / den_W[i, j])\n",
    "            end\n",
    "        end\n",
    "        BLAS.gemm!('N', 'N', 1.0, V, W, 0.0, B)\n",
    "        # convergency\n",
    "        diff = X - B\n",
    "        lastloss = loss\n",
    "        loss = vecnorm(diff)^2\n",
    "         # convergency or not\n",
    "        if abs(loss - lastloss) < tol\n",
    "            break\n",
    "        end\n",
    "    end\n",
    "    return V, W\n",
    "end"
   ]
  },
  {
   "cell_type": "code",
   "execution_count": null,
   "metadata": {},
   "outputs": [],
   "source": [
    "mynnmf(X, 10)"
   ]
  },
  {
   "cell_type": "code",
   "execution_count": 42,
   "metadata": {},
   "outputs": [
    {
     "data": {
      "text/plain": [
       "([0.0725194 0.00435389 … 0.146856 2.31878e-53; 0.0866178 0.00896423 … 0.14822 1.82669e-71; … ; 0.0350167 0.023332 … 0.0324174 0.100953; 0.126694 2.56738e-68 … 0.0749996 0.063186], [1.0876e-54 5.8935e-58 … 0.786389 0.242629; 0.443146 0.360416 … 2.30524 2.35853; … ; 2.0503e-30 4.3925e-51 … 3.55808e-58 1.7383e-74; 4.30787e-25 0.183829 … 8.16043e-8 1.52735e-27])"
      ]
     },
     "execution_count": 42,
     "metadata": {},
     "output_type": "execute_result"
    }
   ],
   "source": [
    "#try nnmf\n",
    "V10, W10 = MYnnmf(X, 10)\n"
   ]
  },
  {
   "cell_type": "code",
   "execution_count": 9,
   "metadata": {},
   "outputs": [
    {
     "data": {
      "text/plain": [
       "2429×10 Array{Float64,2}:\n",
       " 0.00095815   0.0103217    …  0.258624   0.0148599    0.113121   \n",
       " 2.02987e-5   0.0502429       0.304791   0.0243719    0.0782129  \n",
       " 0.000274559  0.0168783       0.312746   0.0254831    0.0709939  \n",
       " 0.0389389    1.25395e-6      0.280938   0.0715732    0.0824829  \n",
       " 8.09569e-5   7.68997e-5      0.302344   0.0854243    0.0710568  \n",
       " 1.44156e-5   0.0141628    …  0.337035   0.0804725    0.0577115  \n",
       " 0.0575214    4.34102e-6      0.286825   0.132121     0.0584703  \n",
       " 0.102875     0.000172083     0.0844729  0.365178     0.00367533 \n",
       " 0.0931789    0.026979        0.0808984  0.41947      0.00472247 \n",
       " 0.123543     0.00105517      0.0963775  0.422801     0.00482261 \n",
       " 0.138481     0.00111706   …  0.0823581  0.190548     0.00236216 \n",
       " 0.00385435   3.70107e-6      0.287682   0.0569465    0.118763   \n",
       " 0.00017552   3.40456e-5      0.279995   0.00140316   0.0757149  \n",
       " ⋮                         ⋱                                     \n",
       " 0.0163516    0.0494912       0.173784   0.0461157    0.0242745  \n",
       " 0.170682     0.0892453       0.0685145  2.31666e-6   0.00045506 \n",
       " 0.0345362    0.126732        0.271069   0.00493794   0.000339076\n",
       " 0.0257718    0.144125     …  0.277043   0.00144039   0.000308633\n",
       " 0.0484342    0.11996         0.284148   0.000528521  0.000326896\n",
       " 0.0307349    0.15676         0.0867433  0.0741443    0.0582573  \n",
       " 0.00918379   0.180011        0.0909699  0.0558203    0.0497302  \n",
       " 0.0527983    0.13494         0.09301    0.0455386    0.0743964  \n",
       " 0.0326484    0.190731     …  0.0958596  0.0575915    0.043123   \n",
       " 0.0131648    0.205053        0.0932062  0.0569476    0.0438709  \n",
       " 0.0560986    0.167944        0.0984363  0.0560645    0.0625565  \n",
       " 0.0873329    0.0841414       0.225655   3.54016e-6   0.000299128"
      ]
     },
     "execution_count": 9,
     "metadata": {},
     "output_type": "execute_result"
    }
   ],
   "source": []
  },
  {
   "cell_type": "code",
   "execution_count": 41,
   "metadata": {
    "scrolled": true
   },
   "outputs": [
    {
     "name": "stderr",
     "output_type": "stream",
     "text": [
      "  % Total    % Received % Xferd  Average Speed   Time    Time     Time  Current\n",
      "                                 Dload  Upload   Total   Spent    Left  Speed\n",
      "100 6012k  100 6012k    0     0  2053k      0  0:00:02  0:00:02 --:--:-- 2053k\n",
      "  % Total    % Received % Xferd  Average Speed   Time    Time     Time  Current\n",
      "                                 Dload  Upload   Total   Spent    Left  Speed\n",
      "100  948k  100  948k    0     0   655k      0  0:00:01  0:00:01 --:--:--  654k\n",
      "  % Total    % Received % Xferd  Average Speed   Time    Time     Time  Current\n",
      "                                 Dload  Upload   Total   Spent    Left  Speed\n",
      "100  140k  100  140k    0     0   259k      0 --:--:-- --:--:-- --:--:--  259k\n"
     ]
    }
   ],
   "source": [
    "# readin matrix X\n",
    "path_X = \"http://Hua-Zhou.github.io/teaching/biostatm280-2018spring/hw/hw2/nnmf-2429-by-361-face.txt\"\n",
    "X = readdlm(download(path_X), ' ')\n",
    "\n",
    "# readin matrix V0\n",
    "path_V0 = \"http://Hua-Zhou.github.io/teaching/biostatm280-2018spring/hw/hw2/V0.txt\"\n",
    "V0full = readdlm(download(path_V0), ' ')\n",
    "\n",
    "# readin matrix W0\n",
    "path_W0 = \"http://Hua-Zhou.github.io/teaching/biostatm280-2018spring/hw/hw2/W0.txt\"\n",
    "W0full = readdlm(download(path_W0), ' ');"
   ]
  },
  {
   "cell_type": "code",
   "execution_count": 2,
   "metadata": {},
   "outputs": [
    {
     "ename": "LoadError",
     "evalue": "\u001b[91mUndefVarError: X not defined\u001b[39m",
     "output_type": "error",
     "traceback": [
      "\u001b[91mUndefVarError: X not defined\u001b[39m",
      "",
      "Stacktrace:",
      " [1] \u001b[1minclude_string\u001b[22m\u001b[22m\u001b[1m(\u001b[22m\u001b[22m::String, ::String\u001b[1m)\u001b[22m\u001b[22m at \u001b[1m./loading.jl:522\u001b[22m\u001b[22m"
     ]
    }
   ],
   "source": [
    "X"
   ]
  },
  {
   "cell_type": "code",
   "execution_count": 70,
   "metadata": {},
   "outputs": [
    {
     "ename": "LoadError",
     "evalue": "\u001b[91mMethodError: objects of type Array{Float64,2} are not callable\nUse square brackets [] for indexing an Array.\u001b[39m",
     "output_type": "error",
     "traceback": [
      "\u001b[91mMethodError: objects of type Array{Float64,2} are not callable\nUse square brackets [] for indexing an Array.\u001b[39m",
      "",
      "Stacktrace:",
      " [1] \u001b[1minclude_string\u001b[22m\u001b[22m\u001b[1m(\u001b[22m\u001b[22m::String, ::String\u001b[1m)\u001b[22m\u001b[22m at \u001b[1m./loading.jl:522\u001b[22m\u001b[22m"
     ]
    }
   ],
   "source": []
  },
  {
   "cell_type": "code",
   "execution_count": 19,
   "metadata": {},
   "outputs": [
    {
     "data": {
      "text/plain": [
       "Dict{String,Any} with 4 entries:\n",
       "  \"gui\"         => Dict{String,Any}(Pair{String,Any}(\"window\", Gtk.GtkWindowLea…\n",
       "  \"roi\"         => Dict{String,Any}(Pair{String,Any}(\"redraw\", 37: \"map(clim-ma…\n",
       "  \"annotations\" => 3: \"input-2\" = Dict{UInt64,Any}() Dict{UInt64,Any} \n",
       "  \"clim\"        => 2: \"CLim\" = ImageView.CLim{Float64}(0.0, 0.93656) ImageView.…"
      ]
     },
     "execution_count": 19,
     "metadata": {},
     "output_type": "execute_result"
    }
   ],
   "source": [
    "# Pkg.add(\"ImageView\")\n",
    "#Pkg.add(\"TestImages\")\n",
    "using ImageView, TestImages\n",
    "imshow(reshape(X[1, :],19,19))\n"
   ]
  },
  {
   "cell_type": "code",
   "execution_count": 6,
   "metadata": {},
   "outputs": [],
   "source": [
    "rlist = 10:10:50;\n"
   ]
  },
  {
   "cell_type": "markdown",
   "metadata": {},
   "source": [
    "## Q2. Linear Mixed Models\n",
    "\n",
    "Consider a linear mixed effects model\n",
    "$$\n",
    "\ty_i = \\mathbf{x}_i^T \\beta + \\mathbf{z}_i^T \\gamma + \\epsilon_i, \\quad i=1,\\ldots,n,\n",
    "$$\n",
    "where $\\epsilon_i$ are independent normal errors $N(0,\\sigma_0^2)$, $\\beta \\in \\mathbb{R}^p$ are fixed effects, and $\\gamma \\in \\mathbb{R}^q$ are random effects assumed to be $N(\\mathbf{0}_q, \\sigma_1^2 \\mathbf{I}_q$) independent of $\\epsilon_i$. \n",
    "\n",
    "0. Show that \n",
    "$$\n",
    "    \\mathbf{y} \\sim N \\left( \\mathbf{X} \\beta, \\sigma_0^2 \\mathbf{I}_n + \\sigma_1^2 \\mathbf{Z} \\mathbf{Z}^T \\right),\n",
    "$$\n",
    "where $\\mathbf{y} = (y_1, \\ldots, y_n)^T \\in \\mathbb{R}^n$, $\\mathbf{X} = (\\mathbf{x}_1, \\ldots, \\mathbf{x}_n)^T \\in \\mathbb{R}^{n \\times p}$, and $\\mathbf{Z} = (\\mathbf{z}_1, \\ldots, \\mathbf{z}_n)^T \\in \\mathbb{R}^{n \\times q}$. \n",
    "\n",
    "0. Write a function, with interface \n",
    "    ```julia\n",
    "    logpdf_mvn(y::Vector, Z::Matrix, σ0::Number, σ1::Number),\n",
    "    ```\n",
    "that evaluates the log-density of a multivariate normal with mean $\\mathbf{0}$ and covariance $\\sigma_0^2 \\mathbf{I} + \\sigma_1^2 \\mathbf{Z} \\mathbf{Z}^T$ at $\\mathbf{y}$. Make your code efficient in the $n \\gg q$ case. \n",
    "\n",
    "0. Compare your result (both accuracy and timing) to the [Distributions.jl](http://distributionsjl.readthedocs.io/en/latest/multivariate.html#multivariate-normal-distribution) package using following data.  \n",
    "    ```julia\n",
    "    using BenchmarkTools, Distributions\n",
    "\n",
    "    srand(280)\n",
    "    n, q = 2000, 10\n",
    "    Z = randn(n, q)\n",
    "    σ0, σ1 = 0.5, 2.0\n",
    "    Σ = σ1^2 * Z * Z.' + σ0^2 * I\n",
    "    mvn = MvNormal(Σ) # MVN(0, Σ)\n",
    "    y = rand(mvn) # generate one instance from MNV(0, Σ)\n",
    "\n",
    "    # check you answer matches that from Distributions.jl\n",
    "    @show logpdf_mvn(y, Z, σ0, σ1)\n",
    "    @show logpdf(mvn, y)\n",
    "\n",
    "    # benchmark\n",
    "    @benchmark logpdf_mvn(y, Z, σ0, σ1)\n",
    "    @benchmark logpdf(mvn, y)\n",
    "    ```"
   ]
  },
  {
   "cell_type": "code",
   "execution_count": null,
   "metadata": {},
   "outputs": [],
   "source": []
  }
 ],
 "metadata": {
  "kernelspec": {
   "display_name": "Julia 0.6.2",
   "language": "julia",
   "name": "julia-0.6"
  },
  "language_info": {
   "file_extension": ".jl",
   "mimetype": "application/julia",
   "name": "julia",
   "version": "0.6.2"
  },
  "toc": {
   "colors": {
    "hover_highlight": "#DAA520",
    "running_highlight": "#FF0000",
    "selected_highlight": "#FFD700"
   },
   "moveMenuLeft": true,
   "nav_menu": {
    "height": "87px",
    "width": "252px"
   },
   "navigate_menu": true,
   "number_sections": true,
   "sideBar": true,
   "threshold": 4,
   "toc_cell": false,
   "toc_section_display": "block",
   "toc_window_display": false,
   "widenNotebook": false
  }
 },
 "nbformat": 4,
 "nbformat_minor": 2
}
